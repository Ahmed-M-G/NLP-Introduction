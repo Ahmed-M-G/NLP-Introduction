{
  "nbformat": 4,
  "nbformat_minor": 0,
  "metadata": {
    "colab": {
      "provenance": [],
      "collapsed_sections": [
        "WHKxErOc0bns",
        "yvyH2xvE1VKN",
        "-k8oq_ZY4Q1r",
        "HufyPKMn8Odr",
        "c9xs8Tx885wH",
        "lIe8pzXK-Vos",
        "ulC1SjW1_W8K",
        "Af4KOv8ngTKK",
        "QmHSP5XU1E1D",
        "8glhvkyR3W90",
        "udnxW_WY4oNK",
        "USSx2ZqE50UV",
        "ZMS66T5q9MQG"
      ]
    },
    "kernelspec": {
      "name": "python3",
      "display_name": "Python 3"
    },
    "language_info": {
      "name": "python"
    }
  },
  "cells": [
    {
      "cell_type": "markdown",
      "source": [
        "# Data Preprocessing"
      ],
      "metadata": {
        "id": "GhJa970xzm_X"
      }
    },
    {
      "cell_type": "markdown",
      "source": [
        "### Lower Case\n",
        "\n",
        "An important first step in working with text data is simply converting it into lowercase. Why do we do this? Well, it helps maintain consistency in our data and our output. When we're working with text, be that exploratory analysis or machine learning, we want to ensure words are understood and counted as the same word, your model might treat a word with a capital letter different from the same word without any capital letter. Lowercasing ensures conformity.\n",
        "\n",
        "It also make it easier to continue with additonal cleaning of the data as we don’t have to account for different cases.\n",
        "\n",
        "However, do remember that lowercasing can change the meaning of some text e.g \"US\" in uppercase is understood as a country, as opposed to \"us\".\n",
        "\n",
        "Let's take a look at how easy it is to convert our data to lowercase using python's built in lower() function."
      ],
      "metadata": {
        "id": "WHKxErOc0bns"
      }
    },
    {
      "cell_type": "code",
      "execution_count": null,
      "metadata": {
        "colab": {
          "base_uri": "https://localhost:8080/"
        },
        "id": "7LRdL0Cvzj02",
        "outputId": "430a2826-72f6-4a0c-882a-3c7fbf36c695"
      },
      "outputs": [
        {
          "output_type": "stream",
          "name": "stdout",
          "text": [
            "['hello world', 'my name is ahmed', 'good morning']\n"
          ]
        }
      ],
      "source": [
        "sents = [\"Hello World\", \"My name is Ahmed\", \"Good Morning\"]\n",
        "\n",
        "lower_sents = [sent.lower() for sent in sents]\n",
        "print(lower_sents)"
      ]
    },
    {
      "cell_type": "markdown",
      "source": [
        "### Stopwords\n",
        "\n",
        "In this lesson we'll be using the nltk package to remove stop words from text.\n",
        "\n",
        "Stop words are common words in the language which don't carry much meaning e.g. \"and\", \"of\", \"a\", \"to\".\n",
        "\n",
        "We remove these words because it removes a lot of complexity from the data. These words don't add much meaning to text so by removing them we are left with a smaller, cleaner dataset. Smaller, cleaner datasets often lead to increased accuracy in machine learning and will also speed up processing times."
      ],
      "metadata": {
        "id": "yvyH2xvE1VKN"
      }
    },
    {
      "cell_type": "code",
      "source": [
        "import nltk\n",
        "nltk.download('stopwords')\n",
        "from nltk.corpus import stopwords"
      ],
      "metadata": {
        "colab": {
          "base_uri": "https://localhost:8080/"
        },
        "id": "5gbU5tai0Zfu",
        "outputId": "c5fe9803-6a13-41ed-9952-4c23d11e1701"
      },
      "execution_count": null,
      "outputs": [
        {
          "output_type": "stream",
          "name": "stderr",
          "text": [
            "[nltk_data] Downloading package stopwords to /root/nltk_data...\n",
            "[nltk_data]   Package stopwords is already up-to-date!\n"
          ]
        }
      ]
    },
    {
      "cell_type": "code",
      "source": [
        "en_stopwords = stopwords.words('english')\n",
        "print(en_stopwords)"
      ],
      "metadata": {
        "colab": {
          "base_uri": "https://localhost:8080/"
        },
        "id": "lBGN1W-T1oDS",
        "outputId": "9add4e7f-8f49-45a5-f569-679a9b9743e6"
      },
      "execution_count": null,
      "outputs": [
        {
          "output_type": "stream",
          "name": "stdout",
          "text": [
            "['i', 'me', 'my', 'myself', 'we', 'our', 'ours', 'ourselves', 'you', \"you're\", \"you've\", \"you'll\", \"you'd\", 'your', 'yours', 'yourself', 'yourselves', 'he', 'him', 'his', 'himself', 'she', \"she's\", 'her', 'hers', 'herself', 'it', \"it's\", 'its', 'itself', 'they', 'them', 'their', 'theirs', 'themselves', 'what', 'which', 'who', 'whom', 'this', 'that', \"that'll\", 'these', 'those', 'am', 'is', 'are', 'was', 'were', 'be', 'been', 'being', 'have', 'has', 'had', 'having', 'do', 'does', 'did', 'doing', 'a', 'an', 'the', 'and', 'but', 'if', 'or', 'because', 'as', 'until', 'while', 'of', 'at', 'by', 'for', 'with', 'about', 'against', 'between', 'into', 'through', 'during', 'before', 'after', 'above', 'below', 'to', 'from', 'up', 'down', 'in', 'out', 'on', 'off', 'over', 'under', 'again', 'further', 'then', 'once', 'here', 'there', 'when', 'where', 'why', 'how', 'all', 'any', 'both', 'each', 'few', 'more', 'most', 'other', 'some', 'such', 'no', 'nor', 'not', 'only', 'own', 'same', 'so', 'than', 'too', 'very', 's', 't', 'can', 'will', 'just', 'don', \"don't\", 'should', \"should've\", 'now', 'd', 'll', 'm', 'o', 're', 've', 'y', 'ain', 'aren', \"aren't\", 'couldn', \"couldn't\", 'didn', \"didn't\", 'doesn', \"doesn't\", 'hadn', \"hadn't\", 'hasn', \"hasn't\", 'haven', \"haven't\", 'isn', \"isn't\", 'ma', 'mightn', \"mightn't\", 'mustn', \"mustn't\", 'needn', \"needn't\", 'shan', \"shan't\", 'shouldn', \"shouldn't\", 'wasn', \"wasn't\", 'weren', \"weren't\", 'won', \"won't\", 'wouldn', \"wouldn't\"]\n"
          ]
        }
      ]
    },
    {
      "cell_type": "code",
      "source": [
        "sentence = \"it was too far to go to the shop and he did not want her to walk\""
      ],
      "metadata": {
        "id": "C02ofi471t1U"
      },
      "execution_count": null,
      "outputs": []
    },
    {
      "cell_type": "code",
      "source": [
        "# keep the words in the sentance if the word is not in the list of stop words\n",
        "sentance_no_stopwords = ' '.join([word for word in sentence.split() if word not in (en_stopwords)])\n",
        "sentance_no_stopwords"
      ],
      "metadata": {
        "colab": {
          "base_uri": "https://localhost:8080/",
          "height": 36
        },
        "id": "vg16Nvmc16Nf",
        "outputId": "719d8554-dc7b-4feb-e309-becdc3c69798"
      },
      "execution_count": null,
      "outputs": [
        {
          "output_type": "execute_result",
          "data": {
            "text/plain": [
              "'far go shop want walk'"
            ],
            "application/vnd.google.colaboratory.intrinsic+json": {
              "type": "string"
            }
          },
          "metadata": {},
          "execution_count": 19
        }
      ]
    },
    {
      "cell_type": "code",
      "source": [
        "# removing stop words from list\n",
        "en_stopwords.remove(\"did\")\n",
        "en_stopwords.remove(\"not\")\n",
        "\n",
        "# add custom stop words\n",
        "en_stopwords.append(\"go\")"
      ],
      "metadata": {
        "id": "4JI-ybPt2Qi2"
      },
      "execution_count": null,
      "outputs": []
    },
    {
      "cell_type": "code",
      "source": [
        "sentance_no_stopwords_custom = ' '.join([word for word in sentence.split() if word not in (en_stopwords)])\n",
        "print(sentance_no_stopwords_custom)"
      ],
      "metadata": {
        "colab": {
          "base_uri": "https://localhost:8080/"
        },
        "id": "FeG3-Ob62ULF",
        "outputId": "98b96776-38a5-49a9-f24e-264fb62471b9"
      },
      "execution_count": null,
      "outputs": [
        {
          "output_type": "stream",
          "name": "stdout",
          "text": [
            "far shop did not want walk\n"
          ]
        }
      ]
    },
    {
      "cell_type": "markdown",
      "source": [
        "### Regular Expressions\n",
        "\n",
        "Regular expressions, or \"regex\" for short, is a special syntax for searching for strings that meets a specified pattern. It's a great tool to filter and sort through text when you want to match patterns rather than a hard coded string or strings.\n",
        "\n",
        "There are loads of options for the syntax so it's best to just jump in and get started with some examples."
      ],
      "metadata": {
        "id": "-k8oq_ZY4Q1r"
      }
    },
    {
      "cell_type": "markdown",
      "source": [
        "#### Raw Strings\n",
        "\n",
        "Python recognises certain characters to have a special meaning, for example, \\n in python is used to indicate a new line. However, sometimes these codes that python recognises to have certain meanings appear in our strings and we want to tell python that a \\n in our text is a literal \\n, rather than meaning a new line.\n",
        "\n",
        "We can use the 'r' character before strings to indicate to python that our text is what is known as a \"raw string\"."
      ],
      "metadata": {
        "id": "yzQb3Txk4xDp"
      }
    },
    {
      "cell_type": "code",
      "source": [
        "import re"
      ],
      "metadata": {
        "id": "6GZd54da2k-R"
      },
      "execution_count": null,
      "outputs": []
    },
    {
      "cell_type": "code",
      "source": [
        "# print text without using raw string indicator\n",
        "my_folder = \"C:\\desktop\\notes\"\n",
        "print(my_folder)"
      ],
      "metadata": {
        "colab": {
          "base_uri": "https://localhost:8080/"
        },
        "id": "nM4I8VJz4jUw",
        "outputId": "7803af58-76c3-42d0-85bd-aedd60fc787e"
      },
      "execution_count": null,
      "outputs": [
        {
          "output_type": "stream",
          "name": "stdout",
          "text": [
            "C:\\desktop\n",
            "otes\n"
          ]
        }
      ]
    },
    {
      "cell_type": "markdown",
      "source": [
        "See how the python interprets the \\n to mean a new line! Now let's try it as a raw string..."
      ],
      "metadata": {
        "id": "PWAZ7O5t4niC"
      }
    },
    {
      "cell_type": "code",
      "source": [
        "# include raw string indicator\n",
        "my_folder = r\"C:\\desktop\\notes\"\n",
        "print(my_folder)"
      ],
      "metadata": {
        "colab": {
          "base_uri": "https://localhost:8080/"
        },
        "id": "K8LPIwlp4nKZ",
        "outputId": "4c23936b-d0aa-43db-f67e-d35e8569586f"
      },
      "execution_count": null,
      "outputs": [
        {
          "output_type": "stream",
          "name": "stdout",
          "text": [
            "C:\\desktop\\notes\n"
          ]
        }
      ]
    },
    {
      "cell_type": "markdown",
      "source": [
        "The folder path is now printed as we wanted. This is important to keep in mind when working with regular expressions as we'll want to make sure we are using raw strings when working with special characters. It's also just a good habit to get into when working with strings and regular expressions so you don't get caught out!"
      ],
      "metadata": {
        "id": "vbAd3b7l4r3q"
      }
    },
    {
      "cell_type": "markdown",
      "source": [
        "#### re.seach\n",
        "re.search is a function which allows us to check if a certain pattern is in a string. It uses the logic re.search(\"pattern to find\", \"string to find it it\"). It will return the pattern if it is found in the string, or else it will return None if the pattern is not found."
      ],
      "metadata": {
        "id": "hGAmo8sE49GK"
      }
    },
    {
      "cell_type": "code",
      "source": [
        "result_search = re.search(\"good\", r\"Good Morning\")\n",
        "print(result_search)"
      ],
      "metadata": {
        "colab": {
          "base_uri": "https://localhost:8080/"
        },
        "id": "utiuKlCx4rGQ",
        "outputId": "74a109a0-4da7-4a75-b784-dc449b41ded4"
      },
      "execution_count": null,
      "outputs": [
        {
          "output_type": "stream",
          "name": "stdout",
          "text": [
            "None\n"
          ]
        }
      ]
    },
    {
      "cell_type": "code",
      "source": [
        "pattern = \"good\".lower()\n",
        "query = \"Good Morning\".lower()\n",
        "result_search = re.search(pattern, query)\n",
        "print(result_search)"
      ],
      "metadata": {
        "colab": {
          "base_uri": "https://localhost:8080/"
        },
        "id": "L5v-LnSZ5Tuw",
        "outputId": "253685c3-8b02-4787-99d3-c92576d06e3d"
      },
      "execution_count": null,
      "outputs": [
        {
          "output_type": "stream",
          "name": "stdout",
          "text": [
            "<re.Match object; span=(0, 4), match='good'>\n"
          ]
        }
      ]
    },
    {
      "cell_type": "code",
      "source": [
        "print(result_search.group()) # returns just the matching pattern"
      ],
      "metadata": {
        "colab": {
          "base_uri": "https://localhost:8080/"
        },
        "id": "83fycqY14lL3",
        "outputId": "f765fd66-8557-4328-b602-16d057b7bce8"
      },
      "execution_count": null,
      "outputs": [
        {
          "output_type": "stream",
          "name": "stdout",
          "text": [
            "good\n"
          ]
        }
      ]
    },
    {
      "cell_type": "markdown",
      "source": [
        "#### re.sub\n",
        "re.sub allows us to find certain text and replace it. It uses the logic re.sub(\"pattern to find\", \"replacement text\", \"string\")."
      ],
      "metadata": {
        "id": "kHQo9A4t5nho"
      }
    },
    {
      "cell_type": "code",
      "source": [
        "string = r\"Ahmad was able to help me find the items i needed quickly\""
      ],
      "metadata": {
        "id": "8GbNLFgj5PqH"
      },
      "execution_count": null,
      "outputs": []
    },
    {
      "cell_type": "code",
      "source": [
        "new_string = re.sub(r\"Ahmad\", r\"Ahmed\", string) # replace the incorrect spelling of sarah\n",
        "print(new_string)"
      ],
      "metadata": {
        "colab": {
          "base_uri": "https://localhost:8080/"
        },
        "id": "sQfmyOu75rub",
        "outputId": "8123d111-e865-4cc0-86d6-e74adfe41cf0"
      },
      "execution_count": null,
      "outputs": [
        {
          "output_type": "stream",
          "name": "stdout",
          "text": [
            "Ahmed was able to help me find the items i needed quickly\n"
          ]
        }
      ]
    },
    {
      "cell_type": "markdown",
      "source": [
        "#### Regex Syntax\n",
        "The real power of regex is being able to leverage the syntax to create more complex searches/replacements."
      ],
      "metadata": {
        "id": "TW_YyZid55dZ"
      }
    },
    {
      "cell_type": "code",
      "source": [
        "customer_reviews = ['sam was a great help to me in the store',\n",
        "                    'the cashier was very rude to me, I think her name was eleanor',\n",
        "                    'amazing work from sadeen!',\n",
        "                    'sarah was able to help me find the items i needed quickly',\n",
        "                    'lucy is such a great addition to the team',\n",
        "                    'great service from sara she found me what i wanted']"
      ],
      "metadata": {
        "id": "cpFq5p_p501R"
      },
      "execution_count": null,
      "outputs": []
    },
    {
      "cell_type": "markdown",
      "source": [
        "**Find only gaber's reviews but account for the spelling of gaberr**"
      ],
      "metadata": {
        "id": "_-5-7cqH6JN_"
      }
    },
    {
      "cell_type": "code",
      "source": [
        "sarahs_reviews = []\n",
        "pattern_to_find = r\"sarah?\"\n",
        "# the ? after r means it is an optional character to match, so our search will look for sarah and sara"
      ],
      "metadata": {
        "id": "MZYJ4oLd59vn"
      },
      "execution_count": null,
      "outputs": []
    },
    {
      "cell_type": "code",
      "source": [
        "for string in customer_reviews:\n",
        "  if re.search(pattern_to_find, string):\n",
        "    sarahs_reviews.append(string)"
      ],
      "metadata": {
        "id": "WG_4zpWB6lXb"
      },
      "execution_count": null,
      "outputs": []
    },
    {
      "cell_type": "code",
      "source": [
        "sarahs_reviews"
      ],
      "metadata": {
        "colab": {
          "base_uri": "https://localhost:8080/"
        },
        "id": "_MobX5Y-68AP",
        "outputId": "2325ca5b-d40c-4fad-aaff-e4048de3a9e3"
      },
      "execution_count": null,
      "outputs": [
        {
          "output_type": "execute_result",
          "data": {
            "text/plain": [
              "['sarah was able to help me find the items i needed quickly',\n",
              " 'great service from sara she found me what i wanted']"
            ]
          },
          "metadata": {},
          "execution_count": 42
        }
      ]
    },
    {
      "cell_type": "markdown",
      "source": [
        "**Find reviews that start with the letter a**"
      ],
      "metadata": {
        "id": "NKzIBqbZ7HUW"
      }
    },
    {
      "cell_type": "code",
      "source": [
        "a_reviews = []\n",
        "pattern_to_find = r\"^a\"\n",
        "# the ^ operator to indicates the start of a string"
      ],
      "metadata": {
        "id": "8nXccfmc68PB"
      },
      "execution_count": null,
      "outputs": []
    },
    {
      "cell_type": "code",
      "source": [
        "for string in customer_reviews:\n",
        "  if re.search(pattern_to_find, string):\n",
        "    a_reviews.append(string)"
      ],
      "metadata": {
        "id": "ELpPlTrC7Ldq"
      },
      "execution_count": null,
      "outputs": []
    },
    {
      "cell_type": "code",
      "source": [
        "a_reviews"
      ],
      "metadata": {
        "colab": {
          "base_uri": "https://localhost:8080/"
        },
        "id": "OOwXiKHD7R3I",
        "outputId": "75e026ff-cd7a-428c-86e7-a44517f30a4b"
      },
      "execution_count": null,
      "outputs": [
        {
          "output_type": "execute_result",
          "data": {
            "text/plain": [
              "['amazing work from sadeen!']"
            ]
          },
          "metadata": {},
          "execution_count": 45
        }
      ]
    },
    {
      "cell_type": "markdown",
      "source": [
        "**Find reviews that end with the letter y**"
      ],
      "metadata": {
        "id": "3v_-VNK27Vfe"
      }
    },
    {
      "cell_type": "code",
      "source": [
        "y_reviews = []\n",
        "pattern_to_find = r\"y$\"\n",
        "# the $ operator to indicate the end of a string"
      ],
      "metadata": {
        "id": "TUBALFAH7TBc"
      },
      "execution_count": null,
      "outputs": []
    },
    {
      "cell_type": "code",
      "source": [
        "for string in customer_reviews:\n",
        "  if re.search(pattern_to_find, string):\n",
        "    y_reviews.append(string)"
      ],
      "metadata": {
        "id": "O6BFNEML7Z-E"
      },
      "execution_count": null,
      "outputs": []
    },
    {
      "cell_type": "code",
      "source": [
        "y_reviews"
      ],
      "metadata": {
        "colab": {
          "base_uri": "https://localhost:8080/"
        },
        "id": "HN6jYTwN7eO0",
        "outputId": "b07d2fdd-813e-4803-e4fd-aefcab14e430"
      },
      "execution_count": null,
      "outputs": [
        {
          "output_type": "execute_result",
          "data": {
            "text/plain": [
              "['sarah was able to help me find the items i needed quickly']"
            ]
          },
          "metadata": {},
          "execution_count": 48
        }
      ]
    },
    {
      "cell_type": "markdown",
      "source": [
        "**Find reviews that contain the words needed or wanted**"
      ],
      "metadata": {
        "id": "3d2lSfBX7hY2"
      }
    },
    {
      "cell_type": "code",
      "source": [
        "needwant_reviews = []\n",
        "pattern_to_find = r\"(need|want)ed\"\n",
        "# the pipe operator | can be used to mean OR"
      ],
      "metadata": {
        "id": "x9fJfvlv7e42"
      },
      "execution_count": null,
      "outputs": []
    },
    {
      "cell_type": "code",
      "source": [
        "for string in customer_reviews:\n",
        "  if re.search(pattern_to_find, string):\n",
        "    needwant_reviews.append(string)"
      ],
      "metadata": {
        "id": "YCIuxPxw7k0O"
      },
      "execution_count": null,
      "outputs": []
    },
    {
      "cell_type": "code",
      "source": [
        "needwant_reviews"
      ],
      "metadata": {
        "colab": {
          "base_uri": "https://localhost:8080/"
        },
        "id": "BoH0gJM47nmH",
        "outputId": "b51956cc-58da-4b34-9da9-34b8acc08cd9"
      },
      "execution_count": null,
      "outputs": [
        {
          "output_type": "execute_result",
          "data": {
            "text/plain": [
              "['sarah was able to help me find the items i needed quickly',\n",
              " 'great service from sara she found me what i wanted']"
            ]
          },
          "metadata": {},
          "execution_count": 51
        }
      ]
    },
    {
      "cell_type": "markdown",
      "source": [
        "**Remove anything from the review that isn't a word or a space (i.e. remove punctuation)**"
      ],
      "metadata": {
        "id": "o04y7Cud7qml"
      }
    },
    {
      "cell_type": "code",
      "source": [
        "no_punct_reviews = []\n",
        "pattern_to_find = r\"[^\\w\\s]\"\n",
        "# [^ ] means \"not\", \\w means word and \\s means whitespace: so find anything that is not a word or a space"
      ],
      "metadata": {
        "id": "zdbtGK7S7oSe"
      },
      "execution_count": null,
      "outputs": []
    },
    {
      "cell_type": "code",
      "source": [
        "for string in customer_reviews:\n",
        "    no_punct_string = re.sub(pattern_to_find, \"\", string)\n",
        "    no_punct_reviews.append(no_punct_string)"
      ],
      "metadata": {
        "id": "hU3KT3ZR7xbQ"
      },
      "execution_count": null,
      "outputs": []
    },
    {
      "cell_type": "code",
      "source": [
        "no_punct_reviews"
      ],
      "metadata": {
        "colab": {
          "base_uri": "https://localhost:8080/"
        },
        "id": "coympZI275av",
        "outputId": "fd2389e1-f082-4894-9823-ebee95e81fd2"
      },
      "execution_count": null,
      "outputs": [
        {
          "output_type": "execute_result",
          "data": {
            "text/plain": [
              "['sam was a great help to me in the store',\n",
              " 'the cashier was very rude to me I think her name was eleanor',\n",
              " 'amazing work from sadeen',\n",
              " 'sarah was able to help me find the items i needed quickly',\n",
              " 'lucy is such a great addition to the team',\n",
              " 'great service from sara she found me what i wanted']"
            ]
          },
          "metadata": {},
          "execution_count": 54
        }
      ]
    },
    {
      "cell_type": "markdown",
      "source": [
        "### Tokenizing Text\n",
        "\n",
        "Fundamental step in NLP involves converting our text into smaller units through a process known as tokenization. These smaller units are known as our tokens. Word tokenization is the most common form of tokenization, where individual words in the text becomes a token, but tokens can also be sentences, sub words or individual characters depending on your use case.\n",
        "\n",
        "Why do we do this? The meaning of the overall text is better understood if we can analyse and understand the individual parts as well as the whole. It's also an important step before we vecotrize our data, which we'll cover more in the next section of this course.\n",
        "\n",
        "Now let's look at some examples of sentence and word tokenization using the nltk package."
      ],
      "metadata": {
        "id": "HufyPKMn8Odr"
      }
    },
    {
      "cell_type": "code",
      "source": [
        "import nltk\n",
        "nltk.download('punkt')\n",
        "from nltk.tokenize import word_tokenize, sent_tokenize"
      ],
      "metadata": {
        "colab": {
          "base_uri": "https://localhost:8080/"
        },
        "id": "bjDEFNDZ76OY",
        "outputId": "08b53d61-ab64-40fb-ac93-55ed9288f420"
      },
      "execution_count": null,
      "outputs": [
        {
          "output_type": "stream",
          "name": "stderr",
          "text": [
            "[nltk_data] Downloading package punkt to /root/nltk_data...\n",
            "[nltk_data]   Unzipping tokenizers/punkt.zip.\n"
          ]
        }
      ]
    },
    {
      "cell_type": "markdown",
      "source": [
        "#### Sentance tokenization"
      ],
      "metadata": {
        "id": "WZY1fqNq8nKn"
      }
    },
    {
      "cell_type": "code",
      "source": [
        "sentences = \"Her cat's name is Luna. Her dog's name is max\"\n",
        "sent_tokenize(sentences)"
      ],
      "metadata": {
        "colab": {
          "base_uri": "https://localhost:8080/"
        },
        "id": "5dLaT1ob8lRn",
        "outputId": "fd8e6a50-601a-4b9d-a6c8-6bde88f08e69"
      },
      "execution_count": null,
      "outputs": [
        {
          "output_type": "execute_result",
          "data": {
            "text/plain": [
              "[\"Her cat's name is Luna.\", \"Her dog's name is max\"]"
            ]
          },
          "metadata": {},
          "execution_count": 56
        }
      ]
    },
    {
      "cell_type": "code",
      "source": [
        "sentence_2 = \"Her cat's name is Luna and her dog's name is max\"\n",
        "print(word_tokenize(sentence_2))"
      ],
      "metadata": {
        "colab": {
          "base_uri": "https://localhost:8080/"
        },
        "id": "vtnYcPTn8plF",
        "outputId": "88366176-d307-46aa-f394-d5ab3a56abab"
      },
      "execution_count": null,
      "outputs": [
        {
          "output_type": "stream",
          "name": "stdout",
          "text": [
            "['Her', 'cat', \"'s\", 'name', 'is', 'Luna', 'and', 'her', 'dog', \"'s\", 'name', 'is', 'max']\n"
          ]
        }
      ]
    },
    {
      "cell_type": "markdown",
      "source": [
        "### Stemming\n",
        "\n",
        "The next step in preprocessing is to standardise the text. One option for this is stemming, where words are reduced to their base form. For example, words like ‘connecting’ or ‘connected’ will be stemmed to the base form ‘connect’. Stemming works by removing suffix/ending of word but can sometimes lead to the base form not being meaningful or a proper word.\n",
        "\n",
        "We standardize the text in this way because it will lower the number of unique words in our dataset; therefore reducing the size and complexity of our data. Removing complexity and noise from the data is an important step for preparing our data properly for machine learning."
      ],
      "metadata": {
        "id": "c9xs8Tx885wH"
      }
    },
    {
      "cell_type": "code",
      "source": [
        "from nltk.stem import PorterStemmer"
      ],
      "metadata": {
        "id": "BsNIeZP98reh"
      },
      "execution_count": null,
      "outputs": []
    },
    {
      "cell_type": "code",
      "source": [
        "# create stemmer\n",
        "ps = PorterStemmer()"
      ],
      "metadata": {
        "id": "yZDojQ_N943q"
      },
      "execution_count": null,
      "outputs": []
    },
    {
      "cell_type": "code",
      "source": [
        "connect_tokens = ['connecting', 'connected', 'connectivity', 'connect', 'connects']\n",
        "for t in connect_tokens:\n",
        "  print(t, \":\", ps.stem(t))"
      ],
      "metadata": {
        "colab": {
          "base_uri": "https://localhost:8080/"
        },
        "id": "eDgKQ-YM957X",
        "outputId": "6431bcf6-5fd9-4293-ef6f-c079154ed845"
      },
      "execution_count": null,
      "outputs": [
        {
          "output_type": "stream",
          "name": "stdout",
          "text": [
            "connecting : connect\n",
            "connected : connect\n",
            "connectivity : connect\n",
            "connect : connect\n",
            "connects : connect\n"
          ]
        }
      ]
    },
    {
      "cell_type": "code",
      "source": [
        "learn_tokens = ['learned', 'learning', 'learn', 'learns', 'learner', 'learners']\n",
        "for t in learn_tokens:\n",
        "    print(t, \" : \", ps.stem(t))"
      ],
      "metadata": {
        "colab": {
          "base_uri": "https://localhost:8080/"
        },
        "id": "QsXI10-t-C0n",
        "outputId": "f27124cd-a43b-4a28-e8b1-0b70c85137fc"
      },
      "execution_count": null,
      "outputs": [
        {
          "output_type": "stream",
          "name": "stdout",
          "text": [
            "learned  :  learn\n",
            "learning  :  learn\n",
            "learn  :  learn\n",
            "learns  :  learn\n",
            "learner  :  learner\n",
            "learners  :  learner\n"
          ]
        }
      ]
    },
    {
      "cell_type": "code",
      "source": [
        "likes_tokens = ['likes', 'better', 'worse']\n",
        "for t in likes_tokens:\n",
        "    print(t, \" : \", ps.stem(t))"
      ],
      "metadata": {
        "colab": {
          "base_uri": "https://localhost:8080/"
        },
        "id": "C9MoimXv-KIn",
        "outputId": "cab71351-46c7-4593-e94c-b5af48223966"
      },
      "execution_count": null,
      "outputs": [
        {
          "output_type": "stream",
          "name": "stdout",
          "text": [
            "likes  :  like\n",
            "better  :  better\n",
            "worse  :  wors\n"
          ]
        }
      ]
    },
    {
      "cell_type": "markdown",
      "source": [
        "### Lemmatization\n",
        "\n",
        "Where stemming removes the last few characters of a word, lemmatization stems the word to a more meaningful base form and ensures it does not lose it's meaning. Lemmatization works more intelligently, referencing a pre-defined dictionary containing the context of words and uses this when diminishing the word to the base form."
      ],
      "metadata": {
        "id": "lIe8pzXK-Vos"
      }
    },
    {
      "cell_type": "code",
      "source": [
        "connect_tokens = ['connecting', 'connected', 'connectivity', 'connect', 'connects']\n",
        "learn_tokens = ['learned', 'learning', 'learn', 'learns', 'learner', 'learners']\n",
        "likes_tokens = ['likes', 'better', 'worse']"
      ],
      "metadata": {
        "id": "I52w96RN-MAr"
      },
      "execution_count": null,
      "outputs": []
    },
    {
      "cell_type": "code",
      "source": [
        "import nltk\n",
        "nltk.download('wordnet')\n",
        "from nltk.stem import WordNetLemmatizer"
      ],
      "metadata": {
        "colab": {
          "base_uri": "https://localhost:8080/"
        },
        "id": "Ykhkq2wU-ZyX",
        "outputId": "f8e33bbb-0234-4308-bd5e-7c0d850f30a8"
      },
      "execution_count": null,
      "outputs": [
        {
          "output_type": "stream",
          "name": "stderr",
          "text": [
            "[nltk_data] Downloading package wordnet to /root/nltk_data...\n"
          ]
        }
      ]
    },
    {
      "cell_type": "code",
      "source": [
        "# create lemmatizer\n",
        "lemmatizer = WordNetLemmatizer()"
      ],
      "metadata": {
        "id": "DHmUul-v-b-2"
      },
      "execution_count": null,
      "outputs": []
    },
    {
      "cell_type": "code",
      "source": [
        "for t in connect_tokens:\n",
        "    print(t, \" : \", lemmatizer.lemmatize(t))"
      ],
      "metadata": {
        "colab": {
          "base_uri": "https://localhost:8080/"
        },
        "id": "bW-VZQbu-d6Q",
        "outputId": "1fc2865a-4d33-4f3b-dafc-c63404101300"
      },
      "execution_count": null,
      "outputs": [
        {
          "output_type": "stream",
          "name": "stdout",
          "text": [
            "connecting  :  connecting\n",
            "connected  :  connected\n",
            "connectivity  :  connectivity\n",
            "connect  :  connect\n",
            "connects  :  connects\n"
          ]
        }
      ]
    },
    {
      "cell_type": "code",
      "source": [
        "for t in learn_tokens:\n",
        "    print(t, \" : \", lemmatizer.lemmatize(t))"
      ],
      "metadata": {
        "colab": {
          "base_uri": "https://localhost:8080/"
        },
        "id": "NDJRjrq0-fZS",
        "outputId": "231c2101-81f1-40fe-a5f9-6f0f74d11558"
      },
      "execution_count": null,
      "outputs": [
        {
          "output_type": "stream",
          "name": "stdout",
          "text": [
            "learned  :  learned\n",
            "learning  :  learning\n",
            "learn  :  learn\n",
            "learns  :  learns\n",
            "learner  :  learner\n",
            "learners  :  learner\n"
          ]
        }
      ]
    },
    {
      "cell_type": "code",
      "source": [
        "for t in likes_tokens:\n",
        "    print(t, \" : \", lemmatizer.lemmatize(t))"
      ],
      "metadata": {
        "colab": {
          "base_uri": "https://localhost:8080/"
        },
        "id": "WRIV8iHg-mV5",
        "outputId": "71859b3f-579e-4fc2-ed48-f9b014a74666"
      },
      "execution_count": null,
      "outputs": [
        {
          "output_type": "stream",
          "name": "stdout",
          "text": [
            "likes  :  like\n",
            "better  :  better\n",
            "worse  :  worse\n"
          ]
        }
      ]
    },
    {
      "cell_type": "code",
      "source": [
        "lemmatizer.lemmatize(\"better\", pos=\"a\")"
      ],
      "metadata": {
        "colab": {
          "base_uri": "https://localhost:8080/",
          "height": 36
        },
        "id": "Ks-d5vDw-qFj",
        "outputId": "1aa0a3db-e6ca-4c6d-9355-99065345633e"
      },
      "execution_count": null,
      "outputs": [
        {
          "output_type": "execute_result",
          "data": {
            "text/plain": [
              "'good'"
            ],
            "application/vnd.google.colaboratory.intrinsic+json": {
              "type": "string"
            }
          },
          "metadata": {},
          "execution_count": 74
        }
      ]
    },
    {
      "cell_type": "code",
      "source": [
        "lemmatizer.lemmatize(\"feet\")"
      ],
      "metadata": {
        "colab": {
          "base_uri": "https://localhost:8080/",
          "height": 36
        },
        "id": "5HuMbYh0_ErE",
        "outputId": "920aee34-40dd-4b4b-b8d6-91cfb59bcf44"
      },
      "execution_count": null,
      "outputs": [
        {
          "output_type": "execute_result",
          "data": {
            "text/plain": [
              "'foot'"
            ],
            "application/vnd.google.colaboratory.intrinsic+json": {
              "type": "string"
            }
          },
          "metadata": {},
          "execution_count": 75
        }
      ]
    },
    {
      "cell_type": "code",
      "source": [],
      "metadata": {
        "id": "vO2u2oKw_IUd"
      },
      "execution_count": null,
      "outputs": []
    },
    {
      "cell_type": "markdown",
      "source": [
        "### N-grams\n",
        "\n",
        "We can break our text down into n-grams to check our preprocessing, explore the contents of our data, or create new features for machine learning. An n-gram is simply a sequence of neighbouring n words (or tokens), where n can be any number."
      ],
      "metadata": {
        "id": "ulC1SjW1_W8K"
      }
    },
    {
      "cell_type": "code",
      "source": [
        "import nltk\n",
        "import pandas as pd\n",
        "import matplotlib.pyplot as plt"
      ],
      "metadata": {
        "id": "QtvNTqZi_Shc"
      },
      "execution_count": null,
      "outputs": []
    },
    {
      "cell_type": "code",
      "source": [
        "tokens = ['the', 'rise', 'of', 'artificial', 'intelligence', 'has', 'led', 'to', 'significant', 'advancements', 'in', 'natural', 'language', 'processing', 'computer', 'vision', 'and', 'other', 'fields', 'machine', 'learning', 'algorithms', 'are', 'becoming', 'more', 'sophisticated', 'enabling', 'computers', 'to', 'perform', 'complex', 'tasks', 'that', 'were', 'once', 'thought', 'to', 'be', 'the', 'exclusive', 'domain', 'of', 'humans', 'with', 'the', 'advent', 'of', 'deep', 'learning', 'neural', 'networks', 'have', 'become', 'even', 'more', 'powerful', 'capable', 'of', 'processing', 'vast', 'amounts', 'of', 'data', 'and', 'learning', 'from', 'it', 'in', 'ways', 'that', 'were', 'not', 'possible', 'before', 'as', 'a', 'result', 'ai', 'is', 'increasingly', 'being', 'used', 'in', 'a', 'wide', 'range', 'of', 'industries', 'from', 'healthcare', 'to', 'finance', 'to', 'transportation', 'and', 'its', 'impact', 'is', 'only', 'set', 'to', 'grow', 'in', 'the', 'years', 'to', 'come']\n",
        "print(tokens)"
      ],
      "metadata": {
        "colab": {
          "base_uri": "https://localhost:8080/"
        },
        "id": "AvhQ1K0Y_3JK",
        "outputId": "06ec35d5-c86f-4f76-afdb-955c80975fbe"
      },
      "execution_count": null,
      "outputs": [
        {
          "output_type": "stream",
          "name": "stdout",
          "text": [
            "['the', 'rise', 'of', 'artificial', 'intelligence', 'has', 'led', 'to', 'significant', 'advancements', 'in', 'natural', 'language', 'processing', 'computer', 'vision', 'and', 'other', 'fields', 'machine', 'learning', 'algorithms', 'are', 'becoming', 'more', 'sophisticated', 'enabling', 'computers', 'to', 'perform', 'complex', 'tasks', 'that', 'were', 'once', 'thought', 'to', 'be', 'the', 'exclusive', 'domain', 'of', 'humans', 'with', 'the', 'advent', 'of', 'deep', 'learning', 'neural', 'networks', 'have', 'become', 'even', 'more', 'powerful', 'capable', 'of', 'processing', 'vast', 'amounts', 'of', 'data', 'and', 'learning', 'from', 'it', 'in', 'ways', 'that', 'were', 'not', 'possible', 'before', 'as', 'a', 'result', 'ai', 'is', 'increasingly', 'being', 'used', 'in', 'a', 'wide', 'range', 'of', 'industries', 'from', 'healthcare', 'to', 'finance', 'to', 'transportation', 'and', 'its', 'impact', 'is', 'only', 'set', 'to', 'grow', 'in', 'the', 'years', 'to', 'come']\n"
          ]
        }
      ]
    },
    {
      "cell_type": "code",
      "source": [
        "# unigrams: n=1\n",
        "unigrams = (pd.Series(nltk.ngrams(tokens, 1)).value_counts())\n",
        "print(unigrams)"
      ],
      "metadata": {
        "colab": {
          "base_uri": "https://localhost:8080/"
        },
        "id": "7FUjeTk5_7OU",
        "outputId": "23e6876c-9a2c-4233-88af-ba06e49a8802"
      },
      "execution_count": null,
      "outputs": [
        {
          "output_type": "stream",
          "name": "stdout",
          "text": [
            "(to,)          7\n",
            "(of,)          6\n",
            "(the,)         4\n",
            "(in,)          4\n",
            "(learning,)    3\n",
            "              ..\n",
            "(humans,)      1\n",
            "(rise,)        1\n",
            "(advent,)      1\n",
            "(deep,)        1\n",
            "(come,)        1\n",
            "Name: count, Length: 79, dtype: int64\n"
          ]
        }
      ]
    },
    {
      "cell_type": "code",
      "source": [
        "unigrams[0:10].sort_values().plot.barh(color='lightsalmon', width=.9, figsize=(7, 5))\n",
        "plt.title('10 Most Frequently Occuring Unigrams')\n",
        "plt.ylabel('Unigram')\n",
        "plt.xlabel('# of Occurances')"
      ],
      "metadata": {
        "colab": {
          "base_uri": "https://localhost:8080/",
          "height": 505
        },
        "id": "kMvwacw_AJqU",
        "outputId": "970b12c9-38b7-4284-e560-4b1f7fe0efb7"
      },
      "execution_count": null,
      "outputs": [
        {
          "output_type": "execute_result",
          "data": {
            "text/plain": [
              "Text(0.5, 0, '# of Occurances')"
            ]
          },
          "metadata": {},
          "execution_count": 83
        },
        {
          "output_type": "display_data",
          "data": {
            "text/plain": [
              "<Figure size 700x500 with 1 Axes>"
            ],
            "image/png": "[encoded data removed]"
          },
          "metadata": {}
        }
      ]
    },
    {
      "cell_type": "code",
      "source": [
        "# bigrams: n=2\n",
        "bigrams = (pd.Series(nltk.ngrams(tokens, 2)).value_counts())\n",
        "print(bigrams)"
      ],
      "metadata": {
        "colab": {
          "base_uri": "https://localhost:8080/"
        },
        "id": "Wkzm9kNuALte",
        "outputId": "cb74f281-363f-4733-8cda-b053da1cd84f"
      },
      "execution_count": null,
      "outputs": [
        {
          "output_type": "stream",
          "name": "stdout",
          "text": [
            "(that, were)             2\n",
            "(the, rise)              1\n",
            "(increasingly, being)    1\n",
            "(ai, is)                 1\n",
            "(result, ai)             1\n",
            "                        ..\n",
            "(tasks, that)            1\n",
            "(complex, tasks)         1\n",
            "(perform, complex)       1\n",
            "(to, perform)            1\n",
            "(to, come)               1\n",
            "Name: count, Length: 105, dtype: int64\n"
          ]
        }
      ]
    },
    {
      "cell_type": "code",
      "source": [
        "bigrams[0:10].sort_values().plot.barh(color='skyblue', width=.9, figsize=(7, 5))\n",
        "plt.title('10 Most Frequently Occuring Bigrams')\n",
        "plt.ylabel('Bigram')\n",
        "plt.xlabel('# of Occurances')"
      ],
      "metadata": {
        "colab": {
          "base_uri": "https://localhost:8080/",
          "height": 505
        },
        "id": "OLp19nhtAQX_",
        "outputId": "7709df27-21fc-4605-ceb3-bd2efefc581a"
      },
      "execution_count": null,
      "outputs": [
        {
          "output_type": "execute_result",
          "data": {
            "text/plain": [
              "Text(0.5, 0, '# of Occurances')"
            ]
          },
          "metadata": {},
          "execution_count": 86
        },
        {
          "output_type": "display_data",
          "data": {
            "text/plain": [
              "<Figure size 700x500 with 1 Axes>"
            ],
            "image/png": "[encoded data removed]"
          },
          "metadata": {}
        }
      ]
    },
    {
      "cell_type": "code",
      "source": [
        "# trigrams: n=3\n",
        "trigrams = (pd.Series(nltk.ngrams(tokens, 3)).value_counts())\n",
        "print(trigrams)"
      ],
      "metadata": {
        "colab": {
          "base_uri": "https://localhost:8080/"
        },
        "id": "0sxKDLw2AR02",
        "outputId": "3a49b638-91fe-4c26-e454-92448b271874"
      },
      "execution_count": null,
      "outputs": [
        {
          "output_type": "stream",
          "name": "stdout",
          "text": [
            "(the, rise, of)              1\n",
            "(even, more, powerful)       1\n",
            "(ai, is, increasingly)       1\n",
            "(result, ai, is)             1\n",
            "(a, result, ai)              1\n",
            "                            ..\n",
            "(that, were, once)           1\n",
            "(tasks, that, were)          1\n",
            "(complex, tasks, that)       1\n",
            "(perform, complex, tasks)    1\n",
            "(years, to, come)            1\n",
            "Name: count, Length: 105, dtype: int64\n"
          ]
        }
      ]
    },
    {
      "cell_type": "code",
      "source": [
        "trigrams[0:10].sort_values().plot.barh(color='skyblue', width=.9, figsize=(7, 5))\n",
        "plt.title('10 Most Frequently Occuring Bigrams')\n",
        "plt.ylabel('Bigram')\n",
        "plt.xlabel('# of Occurances')"
      ],
      "metadata": {
        "colab": {
          "base_uri": "https://localhost:8080/",
          "height": 505
        },
        "id": "kmoYkJIKAWa4",
        "outputId": "308518b2-d3d3-4044-8afd-1143e0d9d09d"
      },
      "execution_count": null,
      "outputs": [
        {
          "output_type": "execute_result",
          "data": {
            "text/plain": [
              "Text(0.5, 0, '# of Occurances')"
            ]
          },
          "metadata": {},
          "execution_count": 88
        },
        {
          "output_type": "display_data",
          "data": {
            "text/plain": [
              "<Figure size 700x500 with 1 Axes>"
            ],
            "image/png": "[encoded data removed]"
          },
          "metadata": {}
        }
      ]
    },
    {
      "cell_type": "markdown",
      "source": [
        "### Practical Usecase"
      ],
      "metadata": {
        "id": "Af4KOv8ngTKK"
      }
    },
    {
      "cell_type": "code",
      "source": [
        "import nltk\n",
        "from nltk.tokenize import word_tokenize\n",
        "from nltk.stem import PorterStemmer, WordNetLemmatizer\n",
        "from nltk.corpus import stopwords\n",
        "import re\n",
        "import pandas as pd"
      ],
      "metadata": {
        "id": "HL6Az4HwgZkQ"
      },
      "execution_count": null,
      "outputs": []
    },
    {
      "cell_type": "code",
      "source": [
        "nltk.download('stopwords')\n",
        "nltk.download('punkt')\n",
        "nltk.download('wordnet')"
      ],
      "metadata": {
        "colab": {
          "base_uri": "https://localhost:8080/"
        },
        "id": "LLObnNV1hdFq",
        "outputId": "776c5d05-1649-48a9-dea7-8574f5ad0aca"
      },
      "execution_count": null,
      "outputs": [
        {
          "output_type": "stream",
          "name": "stderr",
          "text": [
            "[nltk_data] Downloading package stopwords to /root/nltk_data...\n",
            "[nltk_data]   Package stopwords is already up-to-date!\n",
            "[nltk_data] Downloading package punkt to /root/nltk_data...\n",
            "[nltk_data]   Package punkt is already up-to-date!\n",
            "[nltk_data] Downloading package wordnet to /root/nltk_data...\n"
          ]
        },
        {
          "output_type": "execute_result",
          "data": {
            "text/plain": [
              "True"
            ]
          },
          "metadata": {},
          "execution_count": 23
        }
      ]
    },
    {
      "cell_type": "code",
      "source": [
        "# Load data\n",
        "data = pd.read_csv(\"tripadvisor_hotel_reviews.csv\")"
      ],
      "metadata": {
        "id": "hWGTKib9gw4m"
      },
      "execution_count": null,
      "outputs": []
    },
    {
      "cell_type": "code",
      "source": [
        "data.info()"
      ],
      "metadata": {
        "colab": {
          "base_uri": "https://localhost:8080/"
        },
        "id": "qOjeUbYdg1Fn",
        "outputId": "2c3519d4-d1d5-4770-decb-81c0439cafb3"
      },
      "execution_count": null,
      "outputs": [
        {
          "output_type": "stream",
          "name": "stdout",
          "text": [
            "<class 'pandas.core.frame.DataFrame'>\n",
            "RangeIndex: 109 entries, 0 to 108\n",
            "Data columns (total 2 columns):\n",
            " #   Column  Non-Null Count  Dtype \n",
            "---  ------  --------------  ----- \n",
            " 0   Review  109 non-null    object\n",
            " 1   Rating  109 non-null    int64 \n",
            "dtypes: int64(1), object(1)\n",
            "memory usage: 1.8+ KB\n"
          ]
        }
      ]
    },
    {
      "cell_type": "code",
      "source": [
        "data.head()"
      ],
      "metadata": {
        "colab": {
          "base_uri": "https://localhost:8080/",
          "height": 206
        },
        "id": "C8iilJ2jg2cH",
        "outputId": "1b2687c1-3526-46b7-dcf2-6038e8d302da"
      },
      "execution_count": null,
      "outputs": [
        {
          "output_type": "execute_result",
          "data": {
            "text/plain": [
              "                                              Review  Rating\n",
              "0  nice hotel expensive parking got good deal sta...       4\n",
              "1  ok nothing special charge diamond member hilto...       2\n",
              "2  nice rooms not 4* experience hotel monaco seat...       3\n",
              "3  unique, great stay, wonderful time hotel monac...       5\n",
              "4  great stay great stay, went seahawk game aweso...       5"
            ],
            "text/html": [
              "\n",
              "  <div id=\"df-3005168a-ef20-4755-a167-8bb08abd41e0\" class=\"colab-df-container\">\n",
              "    <div>\n",
              "<style scoped>\n",
              "    .dataframe tbody tr th:only-of-type {\n",
              "        vertical-align: middle;\n",
              "    }\n",
              "\n",
              "    .dataframe tbody tr th {\n",
              "        vertical-align: top;\n",
              "    }\n",
              "\n",
              "    .dataframe thead th {\n",
              "        text-align: right;\n",
              "    }\n",
              "</style>\n",
              "<table border=\"1\" class=\"dataframe\">\n",
              "  <thead>\n",
              "    <tr style=\"text-align: right;\">\n",
              "      <th></th>\n",
              "      <th>Review</th>\n",
              "      <th>Rating</th>\n",
              "    </tr>\n",
              "  </thead>\n",
              "  <tbody>\n",
              "    <tr>\n",
              "      <th>0</th>\n",
              "      <td>nice hotel expensive parking got good deal sta...</td>\n",
              "      <td>4</td>\n",
              "    </tr>\n",
              "    <tr>\n",
              "      <th>1</th>\n",
              "      <td>ok nothing special charge diamond member hilto...</td>\n",
              "      <td>2</td>\n",
              "    </tr>\n",
              "    <tr>\n",
              "      <th>2</th>\n",
              "      <td>nice rooms not 4* experience hotel monaco seat...</td>\n",
              "      <td>3</td>\n",
              "    </tr>\n",
              "    <tr>\n",
              "      <th>3</th>\n",
              "      <td>unique, great stay, wonderful time hotel monac...</td>\n",
              "      <td>5</td>\n",
              "    </tr>\n",
              "    <tr>\n",
              "      <th>4</th>\n",
              "      <td>great stay great stay, went seahawk game aweso...</td>\n",
              "      <td>5</td>\n",
              "    </tr>\n",
              "  </tbody>\n",
              "</table>\n",
              "</div>\n",
              "    <div class=\"colab-df-buttons\">\n",
              "\n",
              "  <div class=\"colab-df-container\">\n",
              "    <button class=\"colab-df-convert\" onclick=\"convertToInteractive('df-3005168a-ef20-4755-a167-8bb08abd41e0')\"\n",
              "            title=\"Convert this dataframe to an interactive table.\"\n",
              "            style=\"display:none;\">\n",
              "\n",
              "  <svg xmlns=\"http://www.w3.org/2000/svg\" height=\"24px\" viewBox=\"0 -960 960 960\">\n",
              "    <path d=\"M120-120v-720h720v720H120Zm60-500h600v-160H180v160Zm220 220h160v-160H400v160Zm0 220h160v-160H400v160ZM180-400h160v-160H180v160Zm440 0h160v-160H620v160ZM180-180h160v-160H180v160Zm440 0h160v-160H620v160Z\"/>\n",
              "  </svg>\n",
              "    </button>\n",
              "\n",
              "  <style>\n",
              "    .colab-df-container {\n",
              "      display:flex;\n",
              "      gap: 12px;\n",
              "    }\n",
              "\n",
              "    .colab-df-convert {\n",
              "      background-color: #E8F0FE;\n",
              "      border: none;\n",
              "      border-radius: 50%;\n",
              "      cursor: pointer;\n",
              "      display: none;\n",
              "      fill: #1967D2;\n",
              "      height: 32px;\n",
              "      padding: 0 0 0 0;\n",
              "      width: 32px;\n",
              "    }\n",
              "\n",
              "    .colab-df-convert:hover {\n",
              "      background-color: #E2EBFA;\n",
              "      box-shadow: 0px 1px 2px rgba(60, 64, 67, 0.3), 0px 1px 3px 1px rgba(60, 64, 67, 0.15);\n",
              "      fill: #174EA6;\n",
              "    }\n",
              "\n",
              "    .colab-df-buttons div {\n",
              "      margin-bottom: 4px;\n",
              "    }\n",
              "\n",
              "    [theme=dark] .colab-df-convert {\n",
              "      background-color: #3B4455;\n",
              "      fill: #D2E3FC;\n",
              "    }\n",
              "\n",
              "    [theme=dark] .colab-df-convert:hover {\n",
              "      background-color: #434B5C;\n",
              "      box-shadow: 0px 1px 3px 1px rgba(0, 0, 0, 0.15);\n",
              "      filter: drop-shadow(0px 1px 2px rgba(0, 0, 0, 0.3));\n",
              "      fill: #FFFFFF;\n",
              "    }\n",
              "  </style>\n",
              "\n",
              "    <script>\n",
              "      const buttonEl =\n",
              "        document.querySelector('#df-3005168a-ef20-4755-a167-8bb08abd41e0 button.colab-df-convert');\n",
              "      buttonEl.style.display =\n",
              "        google.colab.kernel.accessAllowed ? 'block' : 'none';\n",
              "\n",
              "      async function convertToInteractive(key) {\n",
              "        const element = document.querySelector('#df-3005168a-ef20-4755-a167-8bb08abd41e0');\n",
              "        const dataTable =\n",
              "          await google.colab.kernel.invokeFunction('convertToInteractive',\n",
              "                                                    [key], {});\n",
              "        if (!dataTable) return;\n",
              "\n",
              "        const docLinkHtml = 'Like what you see? Visit the ' +\n",
              "          '<a target=\"_blank\" href=https://colab.research.google.com/notebooks/data_table.ipynb>data table notebook</a>'\n",
              "          + ' to learn more about interactive tables.';\n",
              "        element.innerHTML = '';\n",
              "        dataTable['output_type'] = 'display_data';\n",
              "        await google.colab.output.renderOutput(dataTable, element);\n",
              "        const docLink = document.createElement('div');\n",
              "        docLink.innerHTML = docLinkHtml;\n",
              "        element.appendChild(docLink);\n",
              "      }\n",
              "    </script>\n",
              "  </div>\n",
              "\n",
              "\n",
              "<div id=\"df-840545c3-3a7c-4364-9b53-615a3cfa9ca2\">\n",
              "  <button class=\"colab-df-quickchart\" onclick=\"quickchart('df-840545c3-3a7c-4364-9b53-615a3cfa9ca2')\"\n",
              "            title=\"Suggest charts\"\n",
              "            style=\"display:none;\">\n",
              "\n",
              "<svg xmlns=\"http://www.w3.org/2000/svg\" height=\"24px\"viewBox=\"0 0 24 24\"\n",
              "     width=\"24px\">\n",
              "    <g>\n",
              "        <path d=\"M19 3H5c-1.1 0-2 .9-2 2v14c0 1.1.9 2 2 2h14c1.1 0 2-.9 2-2V5c0-1.1-.9-2-2-2zM9 17H7v-7h2v7zm4 0h-2V7h2v10zm4 0h-2v-4h2v4z\"/>\n",
              "    </g>\n",
              "</svg>\n",
              "  </button>\n",
              "\n",
              "<style>\n",
              "  .colab-df-quickchart {\n",
              "      --bg-color: #E8F0FE;\n",
              "      --fill-color: #1967D2;\n",
              "      --hover-bg-color: #E2EBFA;\n",
              "      --hover-fill-color: #174EA6;\n",
              "      --disabled-fill-color: #AAA;\n",
              "      --disabled-bg-color: #DDD;\n",
              "  }\n",
              "\n",
              "  [theme=dark] .colab-df-quickchart {\n",
              "      --bg-color: #3B4455;\n",
              "      --fill-color: #D2E3FC;\n",
              "      --hover-bg-color: #434B5C;\n",
              "      --hover-fill-color: #FFFFFF;\n",
              "      --disabled-bg-color: #3B4455;\n",
              "      --disabled-fill-color: #666;\n",
              "  }\n",
              "\n",
              "  .colab-df-quickchart {\n",
              "    background-color: var(--bg-color);\n",
              "    border: none;\n",
              "    border-radius: 50%;\n",
              "    cursor: pointer;\n",
              "    display: none;\n",
              "    fill: var(--fill-color);\n",
              "    height: 32px;\n",
              "    padding: 0;\n",
              "    width: 32px;\n",
              "  }\n",
              "\n",
              "  .colab-df-quickchart:hover {\n",
              "    background-color: var(--hover-bg-color);\n",
              "    box-shadow: 0 1px 2px rgba(60, 64, 67, 0.3), 0 1px 3px 1px rgba(60, 64, 67, 0.15);\n",
              "    fill: var(--button-hover-fill-color);\n",
              "  }\n",
              "\n",
              "  .colab-df-quickchart-complete:disabled,\n",
              "  .colab-df-quickchart-complete:disabled:hover {\n",
              "    background-color: var(--disabled-bg-color);\n",
              "    fill: var(--disabled-fill-color);\n",
              "    box-shadow: none;\n",
              "  }\n",
              "\n",
              "  .colab-df-spinner {\n",
              "    border: 2px solid var(--fill-color);\n",
              "    border-color: transparent;\n",
              "    border-bottom-color: var(--fill-color);\n",
              "    animation:\n",
              "      spin 1s steps(1) infinite;\n",
              "  }\n",
              "\n",
              "  @keyframes spin {\n",
              "    0% {\n",
              "      border-color: transparent;\n",
              "      border-bottom-color: var(--fill-color);\n",
              "      border-left-color: var(--fill-color);\n",
              "    }\n",
              "    20% {\n",
              "      border-color: transparent;\n",
              "      border-left-color: var(--fill-color);\n",
              "      border-top-color: var(--fill-color);\n",
              "    }\n",
              "    30% {\n",
              "      border-color: transparent;\n",
              "      border-left-color: var(--fill-color);\n",
              "      border-top-color: var(--fill-color);\n",
              "      border-right-color: var(--fill-color);\n",
              "    }\n",
              "    40% {\n",
              "      border-color: transparent;\n",
              "      border-right-color: var(--fill-color);\n",
              "      border-top-color: var(--fill-color);\n",
              "    }\n",
              "    60% {\n",
              "      border-color: transparent;\n",
              "      border-right-color: var(--fill-color);\n",
              "    }\n",
              "    80% {\n",
              "      border-color: transparent;\n",
              "      border-right-color: var(--fill-color);\n",
              "      border-bottom-color: var(--fill-color);\n",
              "    }\n",
              "    90% {\n",
              "      border-color: transparent;\n",
              "      border-bottom-color: var(--fill-color);\n",
              "    }\n",
              "  }\n",
              "</style>\n",
              "\n",
              "  <script>\n",
              "    async function quickchart(key) {\n",
              "      const quickchartButtonEl =\n",
              "        document.querySelector('#' + key + ' button');\n",
              "      quickchartButtonEl.disabled = true;  // To prevent multiple clicks.\n",
              "      quickchartButtonEl.classList.add('colab-df-spinner');\n",
              "      try {\n",
              "        const charts = await google.colab.kernel.invokeFunction(\n",
              "            'suggestCharts', [key], {});\n",
              "      } catch (error) {\n",
              "        console.error('Error during call to suggestCharts:', error);\n",
              "      }\n",
              "      quickchartButtonEl.classList.remove('colab-df-spinner');\n",
              "      quickchartButtonEl.classList.add('colab-df-quickchart-complete');\n",
              "    }\n",
              "    (() => {\n",
              "      let quickchartButtonEl =\n",
              "        document.querySelector('#df-840545c3-3a7c-4364-9b53-615a3cfa9ca2 button');\n",
              "      quickchartButtonEl.style.display =\n",
              "        google.colab.kernel.accessAllowed ? 'block' : 'none';\n",
              "    })();\n",
              "  </script>\n",
              "</div>\n",
              "\n",
              "    </div>\n",
              "  </div>\n"
            ],
            "application/vnd.google.colaboratory.intrinsic+json": {
              "type": "dataframe",
              "variable_name": "data",
              "summary": "{\n  \"name\": \"data\",\n  \"rows\": 109,\n  \"fields\": [\n    {\n      \"column\": \"Review\",\n      \"properties\": {\n        \"dtype\": \"string\",\n        \"num_unique_values\": 109,\n        \"samples\": [\n          \"nice hotel husband stayed crown plaza spring break, arrival told given room beds booked king bed, matter resolved quickly, staff helpful met requests, room large clean quiet great view, location hotel decent, overall great experience, really no complaints said elevators bit slow, stay,  \",\n          \"poor value stayed monaco seattle july, nice hotel priced 100- 150 night not, hotel takes beating quotient, experience simply average, nothing exceptional paying 300+ n't ca n't terribly disappointed, wife stayed nicest suites 200/night felt like overpaying, best advice shop, quality-wise league average marriott nice best western,  \",\n          \"great stay great stay, went seahawk game awesome, downfall view building did n't complain, room huge staff helpful, booked hotels website seahawk package, no charge parking got voucher taxi, problem taxi driver did n't want accept voucher barely spoke english, funny thing speak arabic called started making comments girlfriend cell phone buddy, took second realize just said fact speak language face priceless, ass told, said large city, told head doorman issue called cab company promply answer did n't, apologized offered pay taxi, bucks 2 miles stadium, game plan taxi return going humpin, great walk did n't mind, right christmas wonderful lights, homeless stowed away building entrances leave, police presence not greatest area stadium, activities 7 blocks pike street waterfront great coffee shops way, hotel mantained foyer awesome, wine tasting available evening, best dog, taking st. bernard time family, safes hotel located service desk room, bathroom huge jetted tub huge, funny house keeping walked girlfriend getting dressed, did n't hear knock doing turn service, screamed girlfriend screams hit floor laughing, started talking spanish worked, place recommend price, check online deals just good not better, besite contains deals vouchers travel websites n't tell,  \"\n        ],\n        \"semantic_type\": \"\",\n        \"description\": \"\"\n      }\n    },\n    {\n      \"column\": \"Rating\",\n      \"properties\": {\n        \"dtype\": \"number\",\n        \"std\": 1,\n        \"min\": 1,\n        \"max\": 5,\n        \"num_unique_values\": 5,\n        \"samples\": [\n          2,\n          1,\n          3\n        ],\n        \"semantic_type\": \"\",\n        \"description\": \"\"\n      }\n    }\n  ]\n}"
            }
          },
          "metadata": {},
          "execution_count": 8
        }
      ]
    },
    {
      "cell_type": "code",
      "source": [
        "# Lowercase\n",
        "data['review_lowercase'] = data['Review'].str.lower()\n",
        "data.head()"
      ],
      "metadata": {
        "colab": {
          "base_uri": "https://localhost:8080/",
          "height": 206
        },
        "id": "ZApCv2scg4DK",
        "outputId": "f629844c-b711-488c-82a5-16092e7b6ce0"
      },
      "execution_count": null,
      "outputs": [
        {
          "output_type": "execute_result",
          "data": {
            "text/plain": [
              "                                              Review  Rating  \\\n",
              "0  nice hotel expensive parking got good deal sta...       4   \n",
              "1  ok nothing special charge diamond member hilto...       2   \n",
              "2  nice rooms not 4* experience hotel monaco seat...       3   \n",
              "3  unique, great stay, wonderful time hotel monac...       5   \n",
              "4  great stay great stay, went seahawk game aweso...       5   \n",
              "\n",
              "                                    review_lowercase  \n",
              "0  nice hotel expensive parking got good deal sta...  \n",
              "1  ok nothing special charge diamond member hilto...  \n",
              "2  nice rooms not 4* experience hotel monaco seat...  \n",
              "3  unique, great stay, wonderful time hotel monac...  \n",
              "4  great stay great stay, went seahawk game aweso...  "
            ],
            "text/html": [
              "\n",
              "  <div id=\"df-c1661a96-3b5a-4add-a0b3-bcf56883076e\" class=\"colab-df-container\">\n",
              "    <div>\n",
              "<style scoped>\n",
              "    .dataframe tbody tr th:only-of-type {\n",
              "        vertical-align: middle;\n",
              "    }\n",
              "\n",
              "    .dataframe tbody tr th {\n",
              "        vertical-align: top;\n",
              "    }\n",
              "\n",
              "    .dataframe thead th {\n",
              "        text-align: right;\n",
              "    }\n",
              "</style>\n",
              "<table border=\"1\" class=\"dataframe\">\n",
              "  <thead>\n",
              "    <tr style=\"text-align: right;\">\n",
              "      <th></th>\n",
              "      <th>Review</th>\n",
              "      <th>Rating</th>\n",
              "      <th>review_lowercase</th>\n",
              "    </tr>\n",
              "  </thead>\n",
              "  <tbody>\n",
              "    <tr>\n",
              "      <th>0</th>\n",
              "      <td>nice hotel expensive parking got good deal sta...</td>\n",
              "      <td>4</td>\n",
              "      <td>nice hotel expensive parking got good deal sta...</td>\n",
              "    </tr>\n",
              "    <tr>\n",
              "      <th>1</th>\n",
              "      <td>ok nothing special charge diamond member hilto...</td>\n",
              "      <td>2</td>\n",
              "      <td>ok nothing special charge diamond member hilto...</td>\n",
              "    </tr>\n",
              "    <tr>\n",
              "      <th>2</th>\n",
              "      <td>nice rooms not 4* experience hotel monaco seat...</td>\n",
              "      <td>3</td>\n",
              "      <td>nice rooms not 4* experience hotel monaco seat...</td>\n",
              "    </tr>\n",
              "    <tr>\n",
              "      <th>3</th>\n",
              "      <td>unique, great stay, wonderful time hotel monac...</td>\n",
              "      <td>5</td>\n",
              "      <td>unique, great stay, wonderful time hotel monac...</td>\n",
              "    </tr>\n",
              "    <tr>\n",
              "      <th>4</th>\n",
              "      <td>great stay great stay, went seahawk game aweso...</td>\n",
              "      <td>5</td>\n",
              "      <td>great stay great stay, went seahawk game aweso...</td>\n",
              "    </tr>\n",
              "  </tbody>\n",
              "</table>\n",
              "</div>\n",
              "    <div class=\"colab-df-buttons\">\n",
              "\n",
              "  <div class=\"colab-df-container\">\n",
              "    <button class=\"colab-df-convert\" onclick=\"convertToInteractive('df-c1661a96-3b5a-4add-a0b3-bcf56883076e')\"\n",
              "            title=\"Convert this dataframe to an interactive table.\"\n",
              "            style=\"display:none;\">\n",
              "\n",
              "  <svg xmlns=\"http://www.w3.org/2000/svg\" height=\"24px\" viewBox=\"0 -960 960 960\">\n",
              "    <path d=\"M120-120v-720h720v720H120Zm60-500h600v-160H180v160Zm220 220h160v-160H400v160Zm0 220h160v-160H400v160ZM180-400h160v-160H180v160Zm440 0h160v-160H620v160ZM180-180h160v-160H180v160Zm440 0h160v-160H620v160Z\"/>\n",
              "  </svg>\n",
              "    </button>\n",
              "\n",
              "  <style>\n",
              "    .colab-df-container {\n",
              "      display:flex;\n",
              "      gap: 12px;\n",
              "    }\n",
              "\n",
              "    .colab-df-convert {\n",
              "      background-color: #E8F0FE;\n",
              "      border: none;\n",
              "      border-radius: 50%;\n",
              "      cursor: pointer;\n",
              "      display: none;\n",
              "      fill: #1967D2;\n",
              "      height: 32px;\n",
              "      padding: 0 0 0 0;\n",
              "      width: 32px;\n",
              "    }\n",
              "\n",
              "    .colab-df-convert:hover {\n",
              "      background-color: #E2EBFA;\n",
              "      box-shadow: 0px 1px 2px rgba(60, 64, 67, 0.3), 0px 1px 3px 1px rgba(60, 64, 67, 0.15);\n",
              "      fill: #174EA6;\n",
              "    }\n",
              "\n",
              "    .colab-df-buttons div {\n",
              "      margin-bottom: 4px;\n",
              "    }\n",
              "\n",
              "    [theme=dark] .colab-df-convert {\n",
              "      background-color: #3B4455;\n",
              "      fill: #D2E3FC;\n",
              "    }\n",
              "\n",
              "    [theme=dark] .colab-df-convert:hover {\n",
              "      background-color: #434B5C;\n",
              "      box-shadow: 0px 1px 3px 1px rgba(0, 0, 0, 0.15);\n",
              "      filter: drop-shadow(0px 1px 2px rgba(0, 0, 0, 0.3));\n",
              "      fill: #FFFFFF;\n",
              "    }\n",
              "  </style>\n",
              "\n",
              "    <script>\n",
              "      const buttonEl =\n",
              "        document.querySelector('#df-c1661a96-3b5a-4add-a0b3-bcf56883076e button.colab-df-convert');\n",
              "      buttonEl.style.display =\n",
              "        google.colab.kernel.accessAllowed ? 'block' : 'none';\n",
              "\n",
              "      async function convertToInteractive(key) {\n",
              "        const element = document.querySelector('#df-c1661a96-3b5a-4add-a0b3-bcf56883076e');\n",
              "        const dataTable =\n",
              "          await google.colab.kernel.invokeFunction('convertToInteractive',\n",
              "                                                    [key], {});\n",
              "        if (!dataTable) return;\n",
              "\n",
              "        const docLinkHtml = 'Like what you see? Visit the ' +\n",
              "          '<a target=\"_blank\" href=https://colab.research.google.com/notebooks/data_table.ipynb>data table notebook</a>'\n",
              "          + ' to learn more about interactive tables.';\n",
              "        element.innerHTML = '';\n",
              "        dataTable['output_type'] = 'display_data';\n",
              "        await google.colab.output.renderOutput(dataTable, element);\n",
              "        const docLink = document.createElement('div');\n",
              "        docLink.innerHTML = docLinkHtml;\n",
              "        element.appendChild(docLink);\n",
              "      }\n",
              "    </script>\n",
              "  </div>\n",
              "\n",
              "\n",
              "<div id=\"df-25eb26d0-0a67-4a82-b39e-77df867ac07b\">\n",
              "  <button class=\"colab-df-quickchart\" onclick=\"quickchart('df-25eb26d0-0a67-4a82-b39e-77df867ac07b')\"\n",
              "            title=\"Suggest charts\"\n",
              "            style=\"display:none;\">\n",
              "\n",
              "<svg xmlns=\"http://www.w3.org/2000/svg\" height=\"24px\"viewBox=\"0 0 24 24\"\n",
              "     width=\"24px\">\n",
              "    <g>\n",
              "        <path d=\"M19 3H5c-1.1 0-2 .9-2 2v14c0 1.1.9 2 2 2h14c1.1 0 2-.9 2-2V5c0-1.1-.9-2-2-2zM9 17H7v-7h2v7zm4 0h-2V7h2v10zm4 0h-2v-4h2v4z\"/>\n",
              "    </g>\n",
              "</svg>\n",
              "  </button>\n",
              "\n",
              "<style>\n",
              "  .colab-df-quickchart {\n",
              "      --bg-color: #E8F0FE;\n",
              "      --fill-color: #1967D2;\n",
              "      --hover-bg-color: #E2EBFA;\n",
              "      --hover-fill-color: #174EA6;\n",
              "      --disabled-fill-color: #AAA;\n",
              "      --disabled-bg-color: #DDD;\n",
              "  }\n",
              "\n",
              "  [theme=dark] .colab-df-quickchart {\n",
              "      --bg-color: #3B4455;\n",
              "      --fill-color: #D2E3FC;\n",
              "      --hover-bg-color: #434B5C;\n",
              "      --hover-fill-color: #FFFFFF;\n",
              "      --disabled-bg-color: #3B4455;\n",
              "      --disabled-fill-color: #666;\n",
              "  }\n",
              "\n",
              "  .colab-df-quickchart {\n",
              "    background-color: var(--bg-color);\n",
              "    border: none;\n",
              "    border-radius: 50%;\n",
              "    cursor: pointer;\n",
              "    display: none;\n",
              "    fill: var(--fill-color);\n",
              "    height: 32px;\n",
              "    padding: 0;\n",
              "    width: 32px;\n",
              "  }\n",
              "\n",
              "  .colab-df-quickchart:hover {\n",
              "    background-color: var(--hover-bg-color);\n",
              "    box-shadow: 0 1px 2px rgba(60, 64, 67, 0.3), 0 1px 3px 1px rgba(60, 64, 67, 0.15);\n",
              "    fill: var(--button-hover-fill-color);\n",
              "  }\n",
              "\n",
              "  .colab-df-quickchart-complete:disabled,\n",
              "  .colab-df-quickchart-complete:disabled:hover {\n",
              "    background-color: var(--disabled-bg-color);\n",
              "    fill: var(--disabled-fill-color);\n",
              "    box-shadow: none;\n",
              "  }\n",
              "\n",
              "  .colab-df-spinner {\n",
              "    border: 2px solid var(--fill-color);\n",
              "    border-color: transparent;\n",
              "    border-bottom-color: var(--fill-color);\n",
              "    animation:\n",
              "      spin 1s steps(1) infinite;\n",
              "  }\n",
              "\n",
              "  @keyframes spin {\n",
              "    0% {\n",
              "      border-color: transparent;\n",
              "      border-bottom-color: var(--fill-color);\n",
              "      border-left-color: var(--fill-color);\n",
              "    }\n",
              "    20% {\n",
              "      border-color: transparent;\n",
              "      border-left-color: var(--fill-color);\n",
              "      border-top-color: var(--fill-color);\n",
              "    }\n",
              "    30% {\n",
              "      border-color: transparent;\n",
              "      border-left-color: var(--fill-color);\n",
              "      border-top-color: var(--fill-color);\n",
              "      border-right-color: var(--fill-color);\n",
              "    }\n",
              "    40% {\n",
              "      border-color: transparent;\n",
              "      border-right-color: var(--fill-color);\n",
              "      border-top-color: var(--fill-color);\n",
              "    }\n",
              "    60% {\n",
              "      border-color: transparent;\n",
              "      border-right-color: var(--fill-color);\n",
              "    }\n",
              "    80% {\n",
              "      border-color: transparent;\n",
              "      border-right-color: var(--fill-color);\n",
              "      border-bottom-color: var(--fill-color);\n",
              "    }\n",
              "    90% {\n",
              "      border-color: transparent;\n",
              "      border-bottom-color: var(--fill-color);\n",
              "    }\n",
              "  }\n",
              "</style>\n",
              "\n",
              "  <script>\n",
              "    async function quickchart(key) {\n",
              "      const quickchartButtonEl =\n",
              "        document.querySelector('#' + key + ' button');\n",
              "      quickchartButtonEl.disabled = true;  // To prevent multiple clicks.\n",
              "      quickchartButtonEl.classList.add('colab-df-spinner');\n",
              "      try {\n",
              "        const charts = await google.colab.kernel.invokeFunction(\n",
              "            'suggestCharts', [key], {});\n",
              "      } catch (error) {\n",
              "        console.error('Error during call to suggestCharts:', error);\n",
              "      }\n",
              "      quickchartButtonEl.classList.remove('colab-df-spinner');\n",
              "      quickchartButtonEl.classList.add('colab-df-quickchart-complete');\n",
              "    }\n",
              "    (() => {\n",
              "      let quickchartButtonEl =\n",
              "        document.querySelector('#df-25eb26d0-0a67-4a82-b39e-77df867ac07b button');\n",
              "      quickchartButtonEl.style.display =\n",
              "        google.colab.kernel.accessAllowed ? 'block' : 'none';\n",
              "    })();\n",
              "  </script>\n",
              "</div>\n",
              "\n",
              "    </div>\n",
              "  </div>\n"
            ],
            "application/vnd.google.colaboratory.intrinsic+json": {
              "type": "dataframe",
              "variable_name": "data",
              "summary": "{\n  \"name\": \"data\",\n  \"rows\": 109,\n  \"fields\": [\n    {\n      \"column\": \"Review\",\n      \"properties\": {\n        \"dtype\": \"string\",\n        \"num_unique_values\": 109,\n        \"samples\": [\n          \"nice hotel husband stayed crown plaza spring break, arrival told given room beds booked king bed, matter resolved quickly, staff helpful met requests, room large clean quiet great view, location hotel decent, overall great experience, really no complaints said elevators bit slow, stay,  \",\n          \"poor value stayed monaco seattle july, nice hotel priced 100- 150 night not, hotel takes beating quotient, experience simply average, nothing exceptional paying 300+ n't ca n't terribly disappointed, wife stayed nicest suites 200/night felt like overpaying, best advice shop, quality-wise league average marriott nice best western,  \",\n          \"great stay great stay, went seahawk game awesome, downfall view building did n't complain, room huge staff helpful, booked hotels website seahawk package, no charge parking got voucher taxi, problem taxi driver did n't want accept voucher barely spoke english, funny thing speak arabic called started making comments girlfriend cell phone buddy, took second realize just said fact speak language face priceless, ass told, said large city, told head doorman issue called cab company promply answer did n't, apologized offered pay taxi, bucks 2 miles stadium, game plan taxi return going humpin, great walk did n't mind, right christmas wonderful lights, homeless stowed away building entrances leave, police presence not greatest area stadium, activities 7 blocks pike street waterfront great coffee shops way, hotel mantained foyer awesome, wine tasting available evening, best dog, taking st. bernard time family, safes hotel located service desk room, bathroom huge jetted tub huge, funny house keeping walked girlfriend getting dressed, did n't hear knock doing turn service, screamed girlfriend screams hit floor laughing, started talking spanish worked, place recommend price, check online deals just good not better, besite contains deals vouchers travel websites n't tell,  \"\n        ],\n        \"semantic_type\": \"\",\n        \"description\": \"\"\n      }\n    },\n    {\n      \"column\": \"Rating\",\n      \"properties\": {\n        \"dtype\": \"number\",\n        \"std\": 1,\n        \"min\": 1,\n        \"max\": 5,\n        \"num_unique_values\": 5,\n        \"samples\": [\n          2,\n          1,\n          3\n        ],\n        \"semantic_type\": \"\",\n        \"description\": \"\"\n      }\n    },\n    {\n      \"column\": \"review_lowercase\",\n      \"properties\": {\n        \"dtype\": \"string\",\n        \"num_unique_values\": 109,\n        \"samples\": [\n          \"nice hotel husband stayed crown plaza spring break, arrival told given room beds booked king bed, matter resolved quickly, staff helpful met requests, room large clean quiet great view, location hotel decent, overall great experience, really no complaints said elevators bit slow, stay,  \",\n          \"poor value stayed monaco seattle july, nice hotel priced 100- 150 night not, hotel takes beating quotient, experience simply average, nothing exceptional paying 300+ n't ca n't terribly disappointed, wife stayed nicest suites 200/night felt like overpaying, best advice shop, quality-wise league average marriott nice best western,  \",\n          \"great stay great stay, went seahawk game awesome, downfall view building did n't complain, room huge staff helpful, booked hotels website seahawk package, no charge parking got voucher taxi, problem taxi driver did n't want accept voucher barely spoke english, funny thing speak arabic called started making comments girlfriend cell phone buddy, took second realize just said fact speak language face priceless, ass told, said large city, told head doorman issue called cab company promply answer did n't, apologized offered pay taxi, bucks 2 miles stadium, game plan taxi return going humpin, great walk did n't mind, right christmas wonderful lights, homeless stowed away building entrances leave, police presence not greatest area stadium, activities 7 blocks pike street waterfront great coffee shops way, hotel mantained foyer awesome, wine tasting available evening, best dog, taking st. bernard time family, safes hotel located service desk room, bathroom huge jetted tub huge, funny house keeping walked girlfriend getting dressed, did n't hear knock doing turn service, screamed girlfriend screams hit floor laughing, started talking spanish worked, place recommend price, check online deals just good not better, besite contains deals vouchers travel websites n't tell,  \"\n        ],\n        \"semantic_type\": \"\",\n        \"description\": \"\"\n      }\n    }\n  ]\n}"
            }
          },
          "metadata": {},
          "execution_count": 11
        }
      ]
    },
    {
      "cell_type": "code",
      "source": [
        "# Stop word removal\n",
        "en_stopwords = stopwords.words('english')\n",
        "en_stopwords.remove(\"not\")"
      ],
      "metadata": {
        "id": "UaYnGVlzhKuL"
      },
      "execution_count": null,
      "outputs": []
    },
    {
      "cell_type": "code",
      "source": [
        "data['review_no_stopwords'] = data['review_lowercase'].apply(lambda x: ' '.join([word for word in x.split() if word not in (en_stopwords)]))\n",
        "data.head()"
      ],
      "metadata": {
        "colab": {
          "base_uri": "https://localhost:8080/",
          "height": 206
        },
        "id": "kisK8e_7hYnK",
        "outputId": "d4650f30-bec5-41ac-c456-4a5ef64e3f08"
      },
      "execution_count": null,
      "outputs": [
        {
          "output_type": "execute_result",
          "data": {
            "text/plain": [
              "                                              Review  Rating  \\\n",
              "0  nice hotel expensive parking got good deal sta...       4   \n",
              "1  ok nothing special charge diamond member hilto...       2   \n",
              "2  nice rooms not 4* experience hotel monaco seat...       3   \n",
              "3  unique, great stay, wonderful time hotel monac...       5   \n",
              "4  great stay great stay, went seahawk game aweso...       5   \n",
              "\n",
              "                                    review_lowercase  \\\n",
              "0  nice hotel expensive parking got good deal sta...   \n",
              "1  ok nothing special charge diamond member hilto...   \n",
              "2  nice rooms not 4* experience hotel monaco seat...   \n",
              "3  unique, great stay, wonderful time hotel monac...   \n",
              "4  great stay great stay, went seahawk game aweso...   \n",
              "\n",
              "                                 review_no_stopwords  \n",
              "0  nice hotel expensive parking got good deal sta...  \n",
              "1  ok nothing special charge diamond member hilto...  \n",
              "2  nice rooms not 4* experience hotel monaco seat...  \n",
              "3  unique, great stay, wonderful time hotel monac...  \n",
              "4  great stay great stay, went seahawk game aweso...  "
            ],
            "text/html": [
              "\n",
              "  <div id=\"df-2fad90b7-bd09-4960-a8e1-03ad7b532445\" class=\"colab-df-container\">\n",
              "    <div>\n",
              "<style scoped>\n",
              "    .dataframe tbody tr th:only-of-type {\n",
              "        vertical-align: middle;\n",
              "    }\n",
              "\n",
              "    .dataframe tbody tr th {\n",
              "        vertical-align: top;\n",
              "    }\n",
              "\n",
              "    .dataframe thead th {\n",
              "        text-align: right;\n",
              "    }\n",
              "</style>\n",
              "<table border=\"1\" class=\"dataframe\">\n",
              "  <thead>\n",
              "    <tr style=\"text-align: right;\">\n",
              "      <th></th>\n",
              "      <th>Review</th>\n",
              "      <th>Rating</th>\n",
              "      <th>review_lowercase</th>\n",
              "      <th>review_no_stopwords</th>\n",
              "    </tr>\n",
              "  </thead>\n",
              "  <tbody>\n",
              "    <tr>\n",
              "      <th>0</th>\n",
              "      <td>nice hotel expensive parking got good deal sta...</td>\n",
              "      <td>4</td>\n",
              "      <td>nice hotel expensive parking got good deal sta...</td>\n",
              "      <td>nice hotel expensive parking got good deal sta...</td>\n",
              "    </tr>\n",
              "    <tr>\n",
              "      <th>1</th>\n",
              "      <td>ok nothing special charge diamond member hilto...</td>\n",
              "      <td>2</td>\n",
              "      <td>ok nothing special charge diamond member hilto...</td>\n",
              "      <td>ok nothing special charge diamond member hilto...</td>\n",
              "    </tr>\n",
              "    <tr>\n",
              "      <th>2</th>\n",
              "      <td>nice rooms not 4* experience hotel monaco seat...</td>\n",
              "      <td>3</td>\n",
              "      <td>nice rooms not 4* experience hotel monaco seat...</td>\n",
              "      <td>nice rooms not 4* experience hotel monaco seat...</td>\n",
              "    </tr>\n",
              "    <tr>\n",
              "      <th>3</th>\n",
              "      <td>unique, great stay, wonderful time hotel monac...</td>\n",
              "      <td>5</td>\n",
              "      <td>unique, great stay, wonderful time hotel monac...</td>\n",
              "      <td>unique, great stay, wonderful time hotel monac...</td>\n",
              "    </tr>\n",
              "    <tr>\n",
              "      <th>4</th>\n",
              "      <td>great stay great stay, went seahawk game aweso...</td>\n",
              "      <td>5</td>\n",
              "      <td>great stay great stay, went seahawk game aweso...</td>\n",
              "      <td>great stay great stay, went seahawk game aweso...</td>\n",
              "    </tr>\n",
              "  </tbody>\n",
              "</table>\n",
              "</div>\n",
              "    <div class=\"colab-df-buttons\">\n",
              "\n",
              "  <div class=\"colab-df-container\">\n",
              "    <button class=\"colab-df-convert\" onclick=\"convertToInteractive('df-2fad90b7-bd09-4960-a8e1-03ad7b532445')\"\n",
              "            title=\"Convert this dataframe to an interactive table.\"\n",
              "            style=\"display:none;\">\n",
              "\n",
              "  <svg xmlns=\"http://www.w3.org/2000/svg\" height=\"24px\" viewBox=\"0 -960 960 960\">\n",
              "    <path d=\"M120-120v-720h720v720H120Zm60-500h600v-160H180v160Zm220 220h160v-160H400v160Zm0 220h160v-160H400v160ZM180-400h160v-160H180v160Zm440 0h160v-160H620v160ZM180-180h160v-160H180v160Zm440 0h160v-160H620v160Z\"/>\n",
              "  </svg>\n",
              "    </button>\n",
              "\n",
              "  <style>\n",
              "    .colab-df-container {\n",
              "      display:flex;\n",
              "      gap: 12px;\n",
              "    }\n",
              "\n",
              "    .colab-df-convert {\n",
              "      background-color: #E8F0FE;\n",
              "      border: none;\n",
              "      border-radius: 50%;\n",
              "      cursor: pointer;\n",
              "      display: none;\n",
              "      fill: #1967D2;\n",
              "      height: 32px;\n",
              "      padding: 0 0 0 0;\n",
              "      width: 32px;\n",
              "    }\n",
              "\n",
              "    .colab-df-convert:hover {\n",
              "      background-color: #E2EBFA;\n",
              "      box-shadow: 0px 1px 2px rgba(60, 64, 67, 0.3), 0px 1px 3px 1px rgba(60, 64, 67, 0.15);\n",
              "      fill: #174EA6;\n",
              "    }\n",
              "\n",
              "    .colab-df-buttons div {\n",
              "      margin-bottom: 4px;\n",
              "    }\n",
              "\n",
              "    [theme=dark] .colab-df-convert {\n",
              "      background-color: #3B4455;\n",
              "      fill: #D2E3FC;\n",
              "    }\n",
              "\n",
              "    [theme=dark] .colab-df-convert:hover {\n",
              "      background-color: #434B5C;\n",
              "      box-shadow: 0px 1px 3px 1px rgba(0, 0, 0, 0.15);\n",
              "      filter: drop-shadow(0px 1px 2px rgba(0, 0, 0, 0.3));\n",
              "      fill: #FFFFFF;\n",
              "    }\n",
              "  </style>\n",
              "\n",
              "    <script>\n",
              "      const buttonEl =\n",
              "        document.querySelector('#df-2fad90b7-bd09-4960-a8e1-03ad7b532445 button.colab-df-convert');\n",
              "      buttonEl.style.display =\n",
              "        google.colab.kernel.accessAllowed ? 'block' : 'none';\n",
              "\n",
              "      async function convertToInteractive(key) {\n",
              "        const element = document.querySelector('#df-2fad90b7-bd09-4960-a8e1-03ad7b532445');\n",
              "        const dataTable =\n",
              "          await google.colab.kernel.invokeFunction('convertToInteractive',\n",
              "                                                    [key], {});\n",
              "        if (!dataTable) return;\n",
              "\n",
              "        const docLinkHtml = 'Like what you see? Visit the ' +\n",
              "          '<a target=\"_blank\" href=https://colab.research.google.com/notebooks/data_table.ipynb>data table notebook</a>'\n",
              "          + ' to learn more about interactive tables.';\n",
              "        element.innerHTML = '';\n",
              "        dataTable['output_type'] = 'display_data';\n",
              "        await google.colab.output.renderOutput(dataTable, element);\n",
              "        const docLink = document.createElement('div');\n",
              "        docLink.innerHTML = docLinkHtml;\n",
              "        element.appendChild(docLink);\n",
              "      }\n",
              "    </script>\n",
              "  </div>\n",
              "\n",
              "\n",
              "<div id=\"df-65f59a3f-c9df-4000-9040-7d1242d6f99a\">\n",
              "  <button class=\"colab-df-quickchart\" onclick=\"quickchart('df-65f59a3f-c9df-4000-9040-7d1242d6f99a')\"\n",
              "            title=\"Suggest charts\"\n",
              "            style=\"display:none;\">\n",
              "\n",
              "<svg xmlns=\"http://www.w3.org/2000/svg\" height=\"24px\"viewBox=\"0 0 24 24\"\n",
              "     width=\"24px\">\n",
              "    <g>\n",
              "        <path d=\"M19 3H5c-1.1 0-2 .9-2 2v14c0 1.1.9 2 2 2h14c1.1 0 2-.9 2-2V5c0-1.1-.9-2-2-2zM9 17H7v-7h2v7zm4 0h-2V7h2v10zm4 0h-2v-4h2v4z\"/>\n",
              "    </g>\n",
              "</svg>\n",
              "  </button>\n",
              "\n",
              "<style>\n",
              "  .colab-df-quickchart {\n",
              "      --bg-color: #E8F0FE;\n",
              "      --fill-color: #1967D2;\n",
              "      --hover-bg-color: #E2EBFA;\n",
              "      --hover-fill-color: #174EA6;\n",
              "      --disabled-fill-color: #AAA;\n",
              "      --disabled-bg-color: #DDD;\n",
              "  }\n",
              "\n",
              "  [theme=dark] .colab-df-quickchart {\n",
              "      --bg-color: #3B4455;\n",
              "      --fill-color: #D2E3FC;\n",
              "      --hover-bg-color: #434B5C;\n",
              "      --hover-fill-color: #FFFFFF;\n",
              "      --disabled-bg-color: #3B4455;\n",
              "      --disabled-fill-color: #666;\n",
              "  }\n",
              "\n",
              "  .colab-df-quickchart {\n",
              "    background-color: var(--bg-color);\n",
              "    border: none;\n",
              "    border-radius: 50%;\n",
              "    cursor: pointer;\n",
              "    display: none;\n",
              "    fill: var(--fill-color);\n",
              "    height: 32px;\n",
              "    padding: 0;\n",
              "    width: 32px;\n",
              "  }\n",
              "\n",
              "  .colab-df-quickchart:hover {\n",
              "    background-color: var(--hover-bg-color);\n",
              "    box-shadow: 0 1px 2px rgba(60, 64, 67, 0.3), 0 1px 3px 1px rgba(60, 64, 67, 0.15);\n",
              "    fill: var(--button-hover-fill-color);\n",
              "  }\n",
              "\n",
              "  .colab-df-quickchart-complete:disabled,\n",
              "  .colab-df-quickchart-complete:disabled:hover {\n",
              "    background-color: var(--disabled-bg-color);\n",
              "    fill: var(--disabled-fill-color);\n",
              "    box-shadow: none;\n",
              "  }\n",
              "\n",
              "  .colab-df-spinner {\n",
              "    border: 2px solid var(--fill-color);\n",
              "    border-color: transparent;\n",
              "    border-bottom-color: var(--fill-color);\n",
              "    animation:\n",
              "      spin 1s steps(1) infinite;\n",
              "  }\n",
              "\n",
              "  @keyframes spin {\n",
              "    0% {\n",
              "      border-color: transparent;\n",
              "      border-bottom-color: var(--fill-color);\n",
              "      border-left-color: var(--fill-color);\n",
              "    }\n",
              "    20% {\n",
              "      border-color: transparent;\n",
              "      border-left-color: var(--fill-color);\n",
              "      border-top-color: var(--fill-color);\n",
              "    }\n",
              "    30% {\n",
              "      border-color: transparent;\n",
              "      border-left-color: var(--fill-color);\n",
              "      border-top-color: var(--fill-color);\n",
              "      border-right-color: var(--fill-color);\n",
              "    }\n",
              "    40% {\n",
              "      border-color: transparent;\n",
              "      border-right-color: var(--fill-color);\n",
              "      border-top-color: var(--fill-color);\n",
              "    }\n",
              "    60% {\n",
              "      border-color: transparent;\n",
              "      border-right-color: var(--fill-color);\n",
              "    }\n",
              "    80% {\n",
              "      border-color: transparent;\n",
              "      border-right-color: var(--fill-color);\n",
              "      border-bottom-color: var(--fill-color);\n",
              "    }\n",
              "    90% {\n",
              "      border-color: transparent;\n",
              "      border-bottom-color: var(--fill-color);\n",
              "    }\n",
              "  }\n",
              "</style>\n",
              "\n",
              "  <script>\n",
              "    async function quickchart(key) {\n",
              "      const quickchartButtonEl =\n",
              "        document.querySelector('#' + key + ' button');\n",
              "      quickchartButtonEl.disabled = true;  // To prevent multiple clicks.\n",
              "      quickchartButtonEl.classList.add('colab-df-spinner');\n",
              "      try {\n",
              "        const charts = await google.colab.kernel.invokeFunction(\n",
              "            'suggestCharts', [key], {});\n",
              "      } catch (error) {\n",
              "        console.error('Error during call to suggestCharts:', error);\n",
              "      }\n",
              "      quickchartButtonEl.classList.remove('colab-df-spinner');\n",
              "      quickchartButtonEl.classList.add('colab-df-quickchart-complete');\n",
              "    }\n",
              "    (() => {\n",
              "      let quickchartButtonEl =\n",
              "        document.querySelector('#df-65f59a3f-c9df-4000-9040-7d1242d6f99a button');\n",
              "      quickchartButtonEl.style.display =\n",
              "        google.colab.kernel.accessAllowed ? 'block' : 'none';\n",
              "    })();\n",
              "  </script>\n",
              "</div>\n",
              "\n",
              "    </div>\n",
              "  </div>\n"
            ],
            "application/vnd.google.colaboratory.intrinsic+json": {
              "type": "dataframe",
              "variable_name": "data",
              "summary": "{\n  \"name\": \"data\",\n  \"rows\": 109,\n  \"fields\": [\n    {\n      \"column\": \"Review\",\n      \"properties\": {\n        \"dtype\": \"string\",\n        \"num_unique_values\": 109,\n        \"samples\": [\n          \"nice hotel husband stayed crown plaza spring break, arrival told given room beds booked king bed, matter resolved quickly, staff helpful met requests, room large clean quiet great view, location hotel decent, overall great experience, really no complaints said elevators bit slow, stay,  \",\n          \"poor value stayed monaco seattle july, nice hotel priced 100- 150 night not, hotel takes beating quotient, experience simply average, nothing exceptional paying 300+ n't ca n't terribly disappointed, wife stayed nicest suites 200/night felt like overpaying, best advice shop, quality-wise league average marriott nice best western,  \",\n          \"great stay great stay, went seahawk game awesome, downfall view building did n't complain, room huge staff helpful, booked hotels website seahawk package, no charge parking got voucher taxi, problem taxi driver did n't want accept voucher barely spoke english, funny thing speak arabic called started making comments girlfriend cell phone buddy, took second realize just said fact speak language face priceless, ass told, said large city, told head doorman issue called cab company promply answer did n't, apologized offered pay taxi, bucks 2 miles stadium, game plan taxi return going humpin, great walk did n't mind, right christmas wonderful lights, homeless stowed away building entrances leave, police presence not greatest area stadium, activities 7 blocks pike street waterfront great coffee shops way, hotel mantained foyer awesome, wine tasting available evening, best dog, taking st. bernard time family, safes hotel located service desk room, bathroom huge jetted tub huge, funny house keeping walked girlfriend getting dressed, did n't hear knock doing turn service, screamed girlfriend screams hit floor laughing, started talking spanish worked, place recommend price, check online deals just good not better, besite contains deals vouchers travel websites n't tell,  \"\n        ],\n        \"semantic_type\": \"\",\n        \"description\": \"\"\n      }\n    },\n    {\n      \"column\": \"Rating\",\n      \"properties\": {\n        \"dtype\": \"number\",\n        \"std\": 1,\n        \"min\": 1,\n        \"max\": 5,\n        \"num_unique_values\": 5,\n        \"samples\": [\n          2,\n          1,\n          3\n        ],\n        \"semantic_type\": \"\",\n        \"description\": \"\"\n      }\n    },\n    {\n      \"column\": \"review_lowercase\",\n      \"properties\": {\n        \"dtype\": \"string\",\n        \"num_unique_values\": 109,\n        \"samples\": [\n          \"nice hotel husband stayed crown plaza spring break, arrival told given room beds booked king bed, matter resolved quickly, staff helpful met requests, room large clean quiet great view, location hotel decent, overall great experience, really no complaints said elevators bit slow, stay,  \",\n          \"poor value stayed monaco seattle july, nice hotel priced 100- 150 night not, hotel takes beating quotient, experience simply average, nothing exceptional paying 300+ n't ca n't terribly disappointed, wife stayed nicest suites 200/night felt like overpaying, best advice shop, quality-wise league average marriott nice best western,  \",\n          \"great stay great stay, went seahawk game awesome, downfall view building did n't complain, room huge staff helpful, booked hotels website seahawk package, no charge parking got voucher taxi, problem taxi driver did n't want accept voucher barely spoke english, funny thing speak arabic called started making comments girlfriend cell phone buddy, took second realize just said fact speak language face priceless, ass told, said large city, told head doorman issue called cab company promply answer did n't, apologized offered pay taxi, bucks 2 miles stadium, game plan taxi return going humpin, great walk did n't mind, right christmas wonderful lights, homeless stowed away building entrances leave, police presence not greatest area stadium, activities 7 blocks pike street waterfront great coffee shops way, hotel mantained foyer awesome, wine tasting available evening, best dog, taking st. bernard time family, safes hotel located service desk room, bathroom huge jetted tub huge, funny house keeping walked girlfriend getting dressed, did n't hear knock doing turn service, screamed girlfriend screams hit floor laughing, started talking spanish worked, place recommend price, check online deals just good not better, besite contains deals vouchers travel websites n't tell,  \"\n        ],\n        \"semantic_type\": \"\",\n        \"description\": \"\"\n      }\n    },\n    {\n      \"column\": \"review_no_stopwords\",\n      \"properties\": {\n        \"dtype\": \"string\",\n        \"num_unique_values\": 109,\n        \"samples\": [\n          \"nice hotel husband stayed crown plaza spring break, arrival told given room beds booked king bed, matter resolved quickly, staff helpful met requests, room large clean quiet great view, location hotel decent, overall great experience, really complaints said elevators bit slow, stay,\",\n          \"poor value stayed monaco seattle july, nice hotel priced 100- 150 night not, hotel takes beating quotient, experience simply average, nothing exceptional paying 300+ n't ca n't terribly disappointed, wife stayed nicest suites 200/night felt like overpaying, best advice shop, quality-wise league average marriott nice best western,\",\n          \"great stay great stay, went seahawk game awesome, downfall view building n't complain, room huge staff helpful, booked hotels website seahawk package, charge parking got voucher taxi, problem taxi driver n't want accept voucher barely spoke english, funny thing speak arabic called started making comments girlfriend cell phone buddy, took second realize said fact speak language face priceless, ass told, said large city, told head doorman issue called cab company promply answer n't, apologized offered pay taxi, bucks 2 miles stadium, game plan taxi return going humpin, great walk n't mind, right christmas wonderful lights, homeless stowed away building entrances leave, police presence not greatest area stadium, activities 7 blocks pike street waterfront great coffee shops way, hotel mantained foyer awesome, wine tasting available evening, best dog, taking st. bernard time family, safes hotel located service desk room, bathroom huge jetted tub huge, funny house keeping walked girlfriend getting dressed, n't hear knock turn service, screamed girlfriend screams hit floor laughing, started talking spanish worked, place recommend price, check online deals good not better, besite contains deals vouchers travel websites n't tell,\"\n        ],\n        \"semantic_type\": \"\",\n        \"description\": \"\"\n      }\n    }\n  ]\n}"
            }
          },
          "metadata": {},
          "execution_count": 15
        }
      ]
    },
    {
      "cell_type": "markdown",
      "source": [
        "**Punctuation**\n",
        "\n",
        "We want to remove punctation but we notice we have a few reviews with the symbol * instead of the word star. We want to keep this as it might add meaning to the review. We can do this using regular expressions."
      ],
      "metadata": {
        "id": "3nOIhWh4h2JD"
      }
    },
    {
      "cell_type": "code",
      "source": [
        "data['review_no_stopwords_no_punct'] = data.apply(lambda x: re.sub(r'[*]', '', x['review_no_stopwords']), axis=1)\n",
        "data.head()"
      ],
      "metadata": {
        "colab": {
          "base_uri": "https://localhost:8080/",
          "height": 293
        },
        "id": "L9cDeytNhryB",
        "outputId": "f39bf301-87b7-48f4-aabb-a3f02cef082a"
      },
      "execution_count": null,
      "outputs": [
        {
          "output_type": "execute_result",
          "data": {
            "text/plain": [
              "                                              Review  Rating  \\\n",
              "0  nice hotel expensive parking got good deal sta...       4   \n",
              "1  ok nothing special charge diamond member hilto...       2   \n",
              "2  nice rooms not 4* experience hotel monaco seat...       3   \n",
              "3  unique, great stay, wonderful time hotel monac...       5   \n",
              "4  great stay great stay, went seahawk game aweso...       5   \n",
              "\n",
              "                                    review_lowercase  \\\n",
              "0  nice hotel expensive parking got good deal sta...   \n",
              "1  ok nothing special charge diamond member hilto...   \n",
              "2  nice rooms not 4* experience hotel monaco seat...   \n",
              "3  unique, great stay, wonderful time hotel monac...   \n",
              "4  great stay great stay, went seahawk game aweso...   \n",
              "\n",
              "                                 review_no_stopwords  \\\n",
              "0  nice hotel expensive parking got good deal sta...   \n",
              "1  ok nothing special charge diamond member hilto...   \n",
              "2  nice rooms not 4* experience hotel monaco seat...   \n",
              "3  unique, great stay, wonderful time hotel monac...   \n",
              "4  great stay great stay, went seahawk game aweso...   \n",
              "\n",
              "                        review_no_stopwords_no_punct  \n",
              "0  nice hotel expensive parking got good deal sta...  \n",
              "1  ok nothing special charge diamond member hilto...  \n",
              "2  nice rooms not 4 experience hotel monaco seatt...  \n",
              "3  unique, great stay, wonderful time hotel monac...  \n",
              "4  great stay great stay, went seahawk game aweso...  "
            ],
            "text/html": [
              "\n",
              "  <div id=\"df-729898f8-cad2-47cf-917a-6da60a164500\" class=\"colab-df-container\">\n",
              "    <div>\n",
              "<style scoped>\n",
              "    .dataframe tbody tr th:only-of-type {\n",
              "        vertical-align: middle;\n",
              "    }\n",
              "\n",
              "    .dataframe tbody tr th {\n",
              "        vertical-align: top;\n",
              "    }\n",
              "\n",
              "    .dataframe thead th {\n",
              "        text-align: right;\n",
              "    }\n",
              "</style>\n",
              "<table border=\"1\" class=\"dataframe\">\n",
              "  <thead>\n",
              "    <tr style=\"text-align: right;\">\n",
              "      <th></th>\n",
              "      <th>Review</th>\n",
              "      <th>Rating</th>\n",
              "      <th>review_lowercase</th>\n",
              "      <th>review_no_stopwords</th>\n",
              "      <th>review_no_stopwords_no_punct</th>\n",
              "    </tr>\n",
              "  </thead>\n",
              "  <tbody>\n",
              "    <tr>\n",
              "      <th>0</th>\n",
              "      <td>nice hotel expensive parking got good deal sta...</td>\n",
              "      <td>4</td>\n",
              "      <td>nice hotel expensive parking got good deal sta...</td>\n",
              "      <td>nice hotel expensive parking got good deal sta...</td>\n",
              "      <td>nice hotel expensive parking got good deal sta...</td>\n",
              "    </tr>\n",
              "    <tr>\n",
              "      <th>1</th>\n",
              "      <td>ok nothing special charge diamond member hilto...</td>\n",
              "      <td>2</td>\n",
              "      <td>ok nothing special charge diamond member hilto...</td>\n",
              "      <td>ok nothing special charge diamond member hilto...</td>\n",
              "      <td>ok nothing special charge diamond member hilto...</td>\n",
              "    </tr>\n",
              "    <tr>\n",
              "      <th>2</th>\n",
              "      <td>nice rooms not 4* experience hotel monaco seat...</td>\n",
              "      <td>3</td>\n",
              "      <td>nice rooms not 4* experience hotel monaco seat...</td>\n",
              "      <td>nice rooms not 4* experience hotel monaco seat...</td>\n",
              "      <td>nice rooms not 4 experience hotel monaco seatt...</td>\n",
              "    </tr>\n",
              "    <tr>\n",
              "      <th>3</th>\n",
              "      <td>unique, great stay, wonderful time hotel monac...</td>\n",
              "      <td>5</td>\n",
              "      <td>unique, great stay, wonderful time hotel monac...</td>\n",
              "      <td>unique, great stay, wonderful time hotel monac...</td>\n",
              "      <td>unique, great stay, wonderful time hotel monac...</td>\n",
              "    </tr>\n",
              "    <tr>\n",
              "      <th>4</th>\n",
              "      <td>great stay great stay, went seahawk game aweso...</td>\n",
              "      <td>5</td>\n",
              "      <td>great stay great stay, went seahawk game aweso...</td>\n",
              "      <td>great stay great stay, went seahawk game aweso...</td>\n",
              "      <td>great stay great stay, went seahawk game aweso...</td>\n",
              "    </tr>\n",
              "  </tbody>\n",
              "</table>\n",
              "</div>\n",
              "    <div class=\"colab-df-buttons\">\n",
              "\n",
              "  <div class=\"colab-df-container\">\n",
              "    <button class=\"colab-df-convert\" onclick=\"convertToInteractive('df-729898f8-cad2-47cf-917a-6da60a164500')\"\n",
              "            title=\"Convert this dataframe to an interactive table.\"\n",
              "            style=\"display:none;\">\n",
              "\n",
              "  <svg xmlns=\"http://www.w3.org/2000/svg\" height=\"24px\" viewBox=\"0 -960 960 960\">\n",
              "    <path d=\"M120-120v-720h720v720H120Zm60-500h600v-160H180v160Zm220 220h160v-160H400v160Zm0 220h160v-160H400v160ZM180-400h160v-160H180v160Zm440 0h160v-160H620v160ZM180-180h160v-160H180v160Zm440 0h160v-160H620v160Z\"/>\n",
              "  </svg>\n",
              "    </button>\n",
              "\n",
              "  <style>\n",
              "    .colab-df-container {\n",
              "      display:flex;\n",
              "      gap: 12px;\n",
              "    }\n",
              "\n",
              "    .colab-df-convert {\n",
              "      background-color: #E8F0FE;\n",
              "      border: none;\n",
              "      border-radius: 50%;\n",
              "      cursor: pointer;\n",
              "      display: none;\n",
              "      fill: #1967D2;\n",
              "      height: 32px;\n",
              "      padding: 0 0 0 0;\n",
              "      width: 32px;\n",
              "    }\n",
              "\n",
              "    .colab-df-convert:hover {\n",
              "      background-color: #E2EBFA;\n",
              "      box-shadow: 0px 1px 2px rgba(60, 64, 67, 0.3), 0px 1px 3px 1px rgba(60, 64, 67, 0.15);\n",
              "      fill: #174EA6;\n",
              "    }\n",
              "\n",
              "    .colab-df-buttons div {\n",
              "      margin-bottom: 4px;\n",
              "    }\n",
              "\n",
              "    [theme=dark] .colab-df-convert {\n",
              "      background-color: #3B4455;\n",
              "      fill: #D2E3FC;\n",
              "    }\n",
              "\n",
              "    [theme=dark] .colab-df-convert:hover {\n",
              "      background-color: #434B5C;\n",
              "      box-shadow: 0px 1px 3px 1px rgba(0, 0, 0, 0.15);\n",
              "      filter: drop-shadow(0px 1px 2px rgba(0, 0, 0, 0.3));\n",
              "      fill: #FFFFFF;\n",
              "    }\n",
              "  </style>\n",
              "\n",
              "    <script>\n",
              "      const buttonEl =\n",
              "        document.querySelector('#df-729898f8-cad2-47cf-917a-6da60a164500 button.colab-df-convert');\n",
              "      buttonEl.style.display =\n",
              "        google.colab.kernel.accessAllowed ? 'block' : 'none';\n",
              "\n",
              "      async function convertToInteractive(key) {\n",
              "        const element = document.querySelector('#df-729898f8-cad2-47cf-917a-6da60a164500');\n",
              "        const dataTable =\n",
              "          await google.colab.kernel.invokeFunction('convertToInteractive',\n",
              "                                                    [key], {});\n",
              "        if (!dataTable) return;\n",
              "\n",
              "        const docLinkHtml = 'Like what you see? Visit the ' +\n",
              "          '<a target=\"_blank\" href=https://colab.research.google.com/notebooks/data_table.ipynb>data table notebook</a>'\n",
              "          + ' to learn more about interactive tables.';\n",
              "        element.innerHTML = '';\n",
              "        dataTable['output_type'] = 'display_data';\n",
              "        await google.colab.output.renderOutput(dataTable, element);\n",
              "        const docLink = document.createElement('div');\n",
              "        docLink.innerHTML = docLinkHtml;\n",
              "        element.appendChild(docLink);\n",
              "      }\n",
              "    </script>\n",
              "  </div>\n",
              "\n",
              "\n",
              "<div id=\"df-8ce8ab6a-fa44-480f-b715-f40307c407d4\">\n",
              "  <button class=\"colab-df-quickchart\" onclick=\"quickchart('df-8ce8ab6a-fa44-480f-b715-f40307c407d4')\"\n",
              "            title=\"Suggest charts\"\n",
              "            style=\"display:none;\">\n",
              "\n",
              "<svg xmlns=\"http://www.w3.org/2000/svg\" height=\"24px\"viewBox=\"0 0 24 24\"\n",
              "     width=\"24px\">\n",
              "    <g>\n",
              "        <path d=\"M19 3H5c-1.1 0-2 .9-2 2v14c0 1.1.9 2 2 2h14c1.1 0 2-.9 2-2V5c0-1.1-.9-2-2-2zM9 17H7v-7h2v7zm4 0h-2V7h2v10zm4 0h-2v-4h2v4z\"/>\n",
              "    </g>\n",
              "</svg>\n",
              "  </button>\n",
              "\n",
              "<style>\n",
              "  .colab-df-quickchart {\n",
              "      --bg-color: #E8F0FE;\n",
              "      --fill-color: #1967D2;\n",
              "      --hover-bg-color: #E2EBFA;\n",
              "      --hover-fill-color: #174EA6;\n",
              "      --disabled-fill-color: #AAA;\n",
              "      --disabled-bg-color: #DDD;\n",
              "  }\n",
              "\n",
              "  [theme=dark] .colab-df-quickchart {\n",
              "      --bg-color: #3B4455;\n",
              "      --fill-color: #D2E3FC;\n",
              "      --hover-bg-color: #434B5C;\n",
              "      --hover-fill-color: #FFFFFF;\n",
              "      --disabled-bg-color: #3B4455;\n",
              "      --disabled-fill-color: #666;\n",
              "  }\n",
              "\n",
              "  .colab-df-quickchart {\n",
              "    background-color: var(--bg-color);\n",
              "    border: none;\n",
              "    border-radius: 50%;\n",
              "    cursor: pointer;\n",
              "    display: none;\n",
              "    fill: var(--fill-color);\n",
              "    height: 32px;\n",
              "    padding: 0;\n",
              "    width: 32px;\n",
              "  }\n",
              "\n",
              "  .colab-df-quickchart:hover {\n",
              "    background-color: var(--hover-bg-color);\n",
              "    box-shadow: 0 1px 2px rgba(60, 64, 67, 0.3), 0 1px 3px 1px rgba(60, 64, 67, 0.15);\n",
              "    fill: var(--button-hover-fill-color);\n",
              "  }\n",
              "\n",
              "  .colab-df-quickchart-complete:disabled,\n",
              "  .colab-df-quickchart-complete:disabled:hover {\n",
              "    background-color: var(--disabled-bg-color);\n",
              "    fill: var(--disabled-fill-color);\n",
              "    box-shadow: none;\n",
              "  }\n",
              "\n",
              "  .colab-df-spinner {\n",
              "    border: 2px solid var(--fill-color);\n",
              "    border-color: transparent;\n",
              "    border-bottom-color: var(--fill-color);\n",
              "    animation:\n",
              "      spin 1s steps(1) infinite;\n",
              "  }\n",
              "\n",
              "  @keyframes spin {\n",
              "    0% {\n",
              "      border-color: transparent;\n",
              "      border-bottom-color: var(--fill-color);\n",
              "      border-left-color: var(--fill-color);\n",
              "    }\n",
              "    20% {\n",
              "      border-color: transparent;\n",
              "      border-left-color: var(--fill-color);\n",
              "      border-top-color: var(--fill-color);\n",
              "    }\n",
              "    30% {\n",
              "      border-color: transparent;\n",
              "      border-left-color: var(--fill-color);\n",
              "      border-top-color: var(--fill-color);\n",
              "      border-right-color: var(--fill-color);\n",
              "    }\n",
              "    40% {\n",
              "      border-color: transparent;\n",
              "      border-right-color: var(--fill-color);\n",
              "      border-top-color: var(--fill-color);\n",
              "    }\n",
              "    60% {\n",
              "      border-color: transparent;\n",
              "      border-right-color: var(--fill-color);\n",
              "    }\n",
              "    80% {\n",
              "      border-color: transparent;\n",
              "      border-right-color: var(--fill-color);\n",
              "      border-bottom-color: var(--fill-color);\n",
              "    }\n",
              "    90% {\n",
              "      border-color: transparent;\n",
              "      border-bottom-color: var(--fill-color);\n",
              "    }\n",
              "  }\n",
              "</style>\n",
              "\n",
              "  <script>\n",
              "    async function quickchart(key) {\n",
              "      const quickchartButtonEl =\n",
              "        document.querySelector('#' + key + ' button');\n",
              "      quickchartButtonEl.disabled = true;  // To prevent multiple clicks.\n",
              "      quickchartButtonEl.classList.add('colab-df-spinner');\n",
              "      try {\n",
              "        const charts = await google.colab.kernel.invokeFunction(\n",
              "            'suggestCharts', [key], {});\n",
              "      } catch (error) {\n",
              "        console.error('Error during call to suggestCharts:', error);\n",
              "      }\n",
              "      quickchartButtonEl.classList.remove('colab-df-spinner');\n",
              "      quickchartButtonEl.classList.add('colab-df-quickchart-complete');\n",
              "    }\n",
              "    (() => {\n",
              "      let quickchartButtonEl =\n",
              "        document.querySelector('#df-8ce8ab6a-fa44-480f-b715-f40307c407d4 button');\n",
              "      quickchartButtonEl.style.display =\n",
              "        google.colab.kernel.accessAllowed ? 'block' : 'none';\n",
              "    })();\n",
              "  </script>\n",
              "</div>\n",
              "\n",
              "    </div>\n",
              "  </div>\n"
            ],
            "application/vnd.google.colaboratory.intrinsic+json": {
              "type": "dataframe",
              "variable_name": "data",
              "summary": "{\n  \"name\": \"data\",\n  \"rows\": 109,\n  \"fields\": [\n    {\n      \"column\": \"Review\",\n      \"properties\": {\n        \"dtype\": \"string\",\n        \"num_unique_values\": 109,\n        \"samples\": [\n          \"nice hotel husband stayed crown plaza spring break, arrival told given room beds booked king bed, matter resolved quickly, staff helpful met requests, room large clean quiet great view, location hotel decent, overall great experience, really no complaints said elevators bit slow, stay,  \",\n          \"poor value stayed monaco seattle july, nice hotel priced 100- 150 night not, hotel takes beating quotient, experience simply average, nothing exceptional paying 300+ n't ca n't terribly disappointed, wife stayed nicest suites 200/night felt like overpaying, best advice shop, quality-wise league average marriott nice best western,  \",\n          \"great stay great stay, went seahawk game awesome, downfall view building did n't complain, room huge staff helpful, booked hotels website seahawk package, no charge parking got voucher taxi, problem taxi driver did n't want accept voucher barely spoke english, funny thing speak arabic called started making comments girlfriend cell phone buddy, took second realize just said fact speak language face priceless, ass told, said large city, told head doorman issue called cab company promply answer did n't, apologized offered pay taxi, bucks 2 miles stadium, game plan taxi return going humpin, great walk did n't mind, right christmas wonderful lights, homeless stowed away building entrances leave, police presence not greatest area stadium, activities 7 blocks pike street waterfront great coffee shops way, hotel mantained foyer awesome, wine tasting available evening, best dog, taking st. bernard time family, safes hotel located service desk room, bathroom huge jetted tub huge, funny house keeping walked girlfriend getting dressed, did n't hear knock doing turn service, screamed girlfriend screams hit floor laughing, started talking spanish worked, place recommend price, check online deals just good not better, besite contains deals vouchers travel websites n't tell,  \"\n        ],\n        \"semantic_type\": \"\",\n        \"description\": \"\"\n      }\n    },\n    {\n      \"column\": \"Rating\",\n      \"properties\": {\n        \"dtype\": \"number\",\n        \"std\": 1,\n        \"min\": 1,\n        \"max\": 5,\n        \"num_unique_values\": 5,\n        \"samples\": [\n          2,\n          1,\n          3\n        ],\n        \"semantic_type\": \"\",\n        \"description\": \"\"\n      }\n    },\n    {\n      \"column\": \"review_lowercase\",\n      \"properties\": {\n        \"dtype\": \"string\",\n        \"num_unique_values\": 109,\n        \"samples\": [\n          \"nice hotel husband stayed crown plaza spring break, arrival told given room beds booked king bed, matter resolved quickly, staff helpful met requests, room large clean quiet great view, location hotel decent, overall great experience, really no complaints said elevators bit slow, stay,  \",\n          \"poor value stayed monaco seattle july, nice hotel priced 100- 150 night not, hotel takes beating quotient, experience simply average, nothing exceptional paying 300+ n't ca n't terribly disappointed, wife stayed nicest suites 200/night felt like overpaying, best advice shop, quality-wise league average marriott nice best western,  \",\n          \"great stay great stay, went seahawk game awesome, downfall view building did n't complain, room huge staff helpful, booked hotels website seahawk package, no charge parking got voucher taxi, problem taxi driver did n't want accept voucher barely spoke english, funny thing speak arabic called started making comments girlfriend cell phone buddy, took second realize just said fact speak language face priceless, ass told, said large city, told head doorman issue called cab company promply answer did n't, apologized offered pay taxi, bucks 2 miles stadium, game plan taxi return going humpin, great walk did n't mind, right christmas wonderful lights, homeless stowed away building entrances leave, police presence not greatest area stadium, activities 7 blocks pike street waterfront great coffee shops way, hotel mantained foyer awesome, wine tasting available evening, best dog, taking st. bernard time family, safes hotel located service desk room, bathroom huge jetted tub huge, funny house keeping walked girlfriend getting dressed, did n't hear knock doing turn service, screamed girlfriend screams hit floor laughing, started talking spanish worked, place recommend price, check online deals just good not better, besite contains deals vouchers travel websites n't tell,  \"\n        ],\n        \"semantic_type\": \"\",\n        \"description\": \"\"\n      }\n    },\n    {\n      \"column\": \"review_no_stopwords\",\n      \"properties\": {\n        \"dtype\": \"string\",\n        \"num_unique_values\": 109,\n        \"samples\": [\n          \"nice hotel husband stayed crown plaza spring break, arrival told given room beds booked king bed, matter resolved quickly, staff helpful met requests, room large clean quiet great view, location hotel decent, overall great experience, really complaints said elevators bit slow, stay,\",\n          \"poor value stayed monaco seattle july, nice hotel priced 100- 150 night not, hotel takes beating quotient, experience simply average, nothing exceptional paying 300+ n't ca n't terribly disappointed, wife stayed nicest suites 200/night felt like overpaying, best advice shop, quality-wise league average marriott nice best western,\",\n          \"great stay great stay, went seahawk game awesome, downfall view building n't complain, room huge staff helpful, booked hotels website seahawk package, charge parking got voucher taxi, problem taxi driver n't want accept voucher barely spoke english, funny thing speak arabic called started making comments girlfriend cell phone buddy, took second realize said fact speak language face priceless, ass told, said large city, told head doorman issue called cab company promply answer n't, apologized offered pay taxi, bucks 2 miles stadium, game plan taxi return going humpin, great walk n't mind, right christmas wonderful lights, homeless stowed away building entrances leave, police presence not greatest area stadium, activities 7 blocks pike street waterfront great coffee shops way, hotel mantained foyer awesome, wine tasting available evening, best dog, taking st. bernard time family, safes hotel located service desk room, bathroom huge jetted tub huge, funny house keeping walked girlfriend getting dressed, n't hear knock turn service, screamed girlfriend screams hit floor laughing, started talking spanish worked, place recommend price, check online deals good not better, besite contains deals vouchers travel websites n't tell,\"\n        ],\n        \"semantic_type\": \"\",\n        \"description\": \"\"\n      }\n    },\n    {\n      \"column\": \"review_no_stopwords_no_punct\",\n      \"properties\": {\n        \"dtype\": \"string\",\n        \"num_unique_values\": 109,\n        \"samples\": [\n          \"nice hotel husband stayed crown plaza spring break, arrival told given room beds booked king bed, matter resolved quickly, staff helpful met requests, room large clean quiet great view, location hotel decent, overall great experience, really complaints said elevators bit slow, stay,\",\n          \"poor value stayed monaco seattle july, nice hotel priced 100- 150 night not, hotel takes beating quotient, experience simply average, nothing exceptional paying 300+ n't ca n't terribly disappointed, wife stayed nicest suites 200/night felt like overpaying, best advice shop, quality-wise league average marriott nice best western,\",\n          \"great stay great stay, went seahawk game awesome, downfall view building n't complain, room huge staff helpful, booked hotels website seahawk package, charge parking got voucher taxi, problem taxi driver n't want accept voucher barely spoke english, funny thing speak arabic called started making comments girlfriend cell phone buddy, took second realize said fact speak language face priceless, ass told, said large city, told head doorman issue called cab company promply answer n't, apologized offered pay taxi, bucks 2 miles stadium, game plan taxi return going humpin, great walk n't mind, right christmas wonderful lights, homeless stowed away building entrances leave, police presence not greatest area stadium, activities 7 blocks pike street waterfront great coffee shops way, hotel mantained foyer awesome, wine tasting available evening, best dog, taking st. bernard time family, safes hotel located service desk room, bathroom huge jetted tub huge, funny house keeping walked girlfriend getting dressed, n't hear knock turn service, screamed girlfriend screams hit floor laughing, started talking spanish worked, place recommend price, check online deals good not better, besite contains deals vouchers travel websites n't tell,\"\n        ],\n        \"semantic_type\": \"\",\n        \"description\": \"\"\n      }\n    }\n  ]\n}"
            }
          },
          "metadata": {},
          "execution_count": 16
        }
      ]
    },
    {
      "cell_type": "code",
      "source": [
        "data['review_no_stopwords_no_punct'] = data.apply(lambda x: re.sub(r'[^\\w\\s]', '', x['review_no_stopwords_no_punct']), axis=1)\n",
        "data.head()"
      ],
      "metadata": {
        "colab": {
          "base_uri": "https://localhost:8080/",
          "height": 293
        },
        "id": "GEvBw3jCiHLf",
        "outputId": "4fe4cc4e-1e01-4edc-f2d1-0357626ba7dd"
      },
      "execution_count": null,
      "outputs": [
        {
          "output_type": "execute_result",
          "data": {
            "text/plain": [
              "                                              Review  Rating  \\\n",
              "0  nice hotel expensive parking got good deal sta...       4   \n",
              "1  ok nothing special charge diamond member hilto...       2   \n",
              "2  nice rooms not 4* experience hotel monaco seat...       3   \n",
              "3  unique, great stay, wonderful time hotel monac...       5   \n",
              "4  great stay great stay, went seahawk game aweso...       5   \n",
              "\n",
              "                                    review_lowercase  \\\n",
              "0  nice hotel expensive parking got good deal sta...   \n",
              "1  ok nothing special charge diamond member hilto...   \n",
              "2  nice rooms not 4* experience hotel monaco seat...   \n",
              "3  unique, great stay, wonderful time hotel monac...   \n",
              "4  great stay great stay, went seahawk game aweso...   \n",
              "\n",
              "                                 review_no_stopwords  \\\n",
              "0  nice hotel expensive parking got good deal sta...   \n",
              "1  ok nothing special charge diamond member hilto...   \n",
              "2  nice rooms not 4* experience hotel monaco seat...   \n",
              "3  unique, great stay, wonderful time hotel monac...   \n",
              "4  great stay great stay, went seahawk game aweso...   \n",
              "\n",
              "                        review_no_stopwords_no_punct  \n",
              "0  nice hotel expensive parking got good deal sta...  \n",
              "1  ok nothing special charge diamond member hilto...  \n",
              "2  nice rooms not 4 experience hotel monaco seatt...  \n",
              "3  unique great stay wonderful time hotel monaco ...  \n",
              "4  great stay great stay went seahawk game awesom...  "
            ],
            "text/html": [
              "\n",
              "  <div id=\"df-6f249fe7-e78c-451d-9845-c1f72751c214\" class=\"colab-df-container\">\n",
              "    <div>\n",
              "<style scoped>\n",
              "    .dataframe tbody tr th:only-of-type {\n",
              "        vertical-align: middle;\n",
              "    }\n",
              "\n",
              "    .dataframe tbody tr th {\n",
              "        vertical-align: top;\n",
              "    }\n",
              "\n",
              "    .dataframe thead th {\n",
              "        text-align: right;\n",
              "    }\n",
              "</style>\n",
              "<table border=\"1\" class=\"dataframe\">\n",
              "  <thead>\n",
              "    <tr style=\"text-align: right;\">\n",
              "      <th></th>\n",
              "      <th>Review</th>\n",
              "      <th>Rating</th>\n",
              "      <th>review_lowercase</th>\n",
              "      <th>review_no_stopwords</th>\n",
              "      <th>review_no_stopwords_no_punct</th>\n",
              "    </tr>\n",
              "  </thead>\n",
              "  <tbody>\n",
              "    <tr>\n",
              "      <th>0</th>\n",
              "      <td>nice hotel expensive parking got good deal sta...</td>\n",
              "      <td>4</td>\n",
              "      <td>nice hotel expensive parking got good deal sta...</td>\n",
              "      <td>nice hotel expensive parking got good deal sta...</td>\n",
              "      <td>nice hotel expensive parking got good deal sta...</td>\n",
              "    </tr>\n",
              "    <tr>\n",
              "      <th>1</th>\n",
              "      <td>ok nothing special charge diamond member hilto...</td>\n",
              "      <td>2</td>\n",
              "      <td>ok nothing special charge diamond member hilto...</td>\n",
              "      <td>ok nothing special charge diamond member hilto...</td>\n",
              "      <td>ok nothing special charge diamond member hilto...</td>\n",
              "    </tr>\n",
              "    <tr>\n",
              "      <th>2</th>\n",
              "      <td>nice rooms not 4* experience hotel monaco seat...</td>\n",
              "      <td>3</td>\n",
              "      <td>nice rooms not 4* experience hotel monaco seat...</td>\n",
              "      <td>nice rooms not 4* experience hotel monaco seat...</td>\n",
              "      <td>nice rooms not 4 experience hotel monaco seatt...</td>\n",
              "    </tr>\n",
              "    <tr>\n",
              "      <th>3</th>\n",
              "      <td>unique, great stay, wonderful time hotel monac...</td>\n",
              "      <td>5</td>\n",
              "      <td>unique, great stay, wonderful time hotel monac...</td>\n",
              "      <td>unique, great stay, wonderful time hotel monac...</td>\n",
              "      <td>unique great stay wonderful time hotel monaco ...</td>\n",
              "    </tr>\n",
              "    <tr>\n",
              "      <th>4</th>\n",
              "      <td>great stay great stay, went seahawk game aweso...</td>\n",
              "      <td>5</td>\n",
              "      <td>great stay great stay, went seahawk game aweso...</td>\n",
              "      <td>great stay great stay, went seahawk game aweso...</td>\n",
              "      <td>great stay great stay went seahawk game awesom...</td>\n",
              "    </tr>\n",
              "  </tbody>\n",
              "</table>\n",
              "</div>\n",
              "    <div class=\"colab-df-buttons\">\n",
              "\n",
              "  <div class=\"colab-df-container\">\n",
              "    <button class=\"colab-df-convert\" onclick=\"convertToInteractive('df-6f249fe7-e78c-451d-9845-c1f72751c214')\"\n",
              "            title=\"Convert this dataframe to an interactive table.\"\n",
              "            style=\"display:none;\">\n",
              "\n",
              "  <svg xmlns=\"http://www.w3.org/2000/svg\" height=\"24px\" viewBox=\"0 -960 960 960\">\n",
              "    <path d=\"M120-120v-720h720v720H120Zm60-500h600v-160H180v160Zm220 220h160v-160H400v160Zm0 220h160v-160H400v160ZM180-400h160v-160H180v160Zm440 0h160v-160H620v160ZM180-180h160v-160H180v160Zm440 0h160v-160H620v160Z\"/>\n",
              "  </svg>\n",
              "    </button>\n",
              "\n",
              "  <style>\n",
              "    .colab-df-container {\n",
              "      display:flex;\n",
              "      gap: 12px;\n",
              "    }\n",
              "\n",
              "    .colab-df-convert {\n",
              "      background-color: #E8F0FE;\n",
              "      border: none;\n",
              "      border-radius: 50%;\n",
              "      cursor: pointer;\n",
              "      display: none;\n",
              "      fill: #1967D2;\n",
              "      height: 32px;\n",
              "      padding: 0 0 0 0;\n",
              "      width: 32px;\n",
              "    }\n",
              "\n",
              "    .colab-df-convert:hover {\n",
              "      background-color: #E2EBFA;\n",
              "      box-shadow: 0px 1px 2px rgba(60, 64, 67, 0.3), 0px 1px 3px 1px rgba(60, 64, 67, 0.15);\n",
              "      fill: #174EA6;\n",
              "    }\n",
              "\n",
              "    .colab-df-buttons div {\n",
              "      margin-bottom: 4px;\n",
              "    }\n",
              "\n",
              "    [theme=dark] .colab-df-convert {\n",
              "      background-color: #3B4455;\n",
              "      fill: #D2E3FC;\n",
              "    }\n",
              "\n",
              "    [theme=dark] .colab-df-convert:hover {\n",
              "      background-color: #434B5C;\n",
              "      box-shadow: 0px 1px 3px 1px rgba(0, 0, 0, 0.15);\n",
              "      filter: drop-shadow(0px 1px 2px rgba(0, 0, 0, 0.3));\n",
              "      fill: #FFFFFF;\n",
              "    }\n",
              "  </style>\n",
              "\n",
              "    <script>\n",
              "      const buttonEl =\n",
              "        document.querySelector('#df-6f249fe7-e78c-451d-9845-c1f72751c214 button.colab-df-convert');\n",
              "      buttonEl.style.display =\n",
              "        google.colab.kernel.accessAllowed ? 'block' : 'none';\n",
              "\n",
              "      async function convertToInteractive(key) {\n",
              "        const element = document.querySelector('#df-6f249fe7-e78c-451d-9845-c1f72751c214');\n",
              "        const dataTable =\n",
              "          await google.colab.kernel.invokeFunction('convertToInteractive',\n",
              "                                                    [key], {});\n",
              "        if (!dataTable) return;\n",
              "\n",
              "        const docLinkHtml = 'Like what you see? Visit the ' +\n",
              "          '<a target=\"_blank\" href=https://colab.research.google.com/notebooks/data_table.ipynb>data table notebook</a>'\n",
              "          + ' to learn more about interactive tables.';\n",
              "        element.innerHTML = '';\n",
              "        dataTable['output_type'] = 'display_data';\n",
              "        await google.colab.output.renderOutput(dataTable, element);\n",
              "        const docLink = document.createElement('div');\n",
              "        docLink.innerHTML = docLinkHtml;\n",
              "        element.appendChild(docLink);\n",
              "      }\n",
              "    </script>\n",
              "  </div>\n",
              "\n",
              "\n",
              "<div id=\"df-b95fc21e-8902-4ca8-9bde-df398ab24879\">\n",
              "  <button class=\"colab-df-quickchart\" onclick=\"quickchart('df-b95fc21e-8902-4ca8-9bde-df398ab24879')\"\n",
              "            title=\"Suggest charts\"\n",
              "            style=\"display:none;\">\n",
              "\n",
              "<svg xmlns=\"http://www.w3.org/2000/svg\" height=\"24px\"viewBox=\"0 0 24 24\"\n",
              "     width=\"24px\">\n",
              "    <g>\n",
              "        <path d=\"M19 3H5c-1.1 0-2 .9-2 2v14c0 1.1.9 2 2 2h14c1.1 0 2-.9 2-2V5c0-1.1-.9-2-2-2zM9 17H7v-7h2v7zm4 0h-2V7h2v10zm4 0h-2v-4h2v4z\"/>\n",
              "    </g>\n",
              "</svg>\n",
              "  </button>\n",
              "\n",
              "<style>\n",
              "  .colab-df-quickchart {\n",
              "      --bg-color: #E8F0FE;\n",
              "      --fill-color: #1967D2;\n",
              "      --hover-bg-color: #E2EBFA;\n",
              "      --hover-fill-color: #174EA6;\n",
              "      --disabled-fill-color: #AAA;\n",
              "      --disabled-bg-color: #DDD;\n",
              "  }\n",
              "\n",
              "  [theme=dark] .colab-df-quickchart {\n",
              "      --bg-color: #3B4455;\n",
              "      --fill-color: #D2E3FC;\n",
              "      --hover-bg-color: #434B5C;\n",
              "      --hover-fill-color: #FFFFFF;\n",
              "      --disabled-bg-color: #3B4455;\n",
              "      --disabled-fill-color: #666;\n",
              "  }\n",
              "\n",
              "  .colab-df-quickchart {\n",
              "    background-color: var(--bg-color);\n",
              "    border: none;\n",
              "    border-radius: 50%;\n",
              "    cursor: pointer;\n",
              "    display: none;\n",
              "    fill: var(--fill-color);\n",
              "    height: 32px;\n",
              "    padding: 0;\n",
              "    width: 32px;\n",
              "  }\n",
              "\n",
              "  .colab-df-quickchart:hover {\n",
              "    background-color: var(--hover-bg-color);\n",
              "    box-shadow: 0 1px 2px rgba(60, 64, 67, 0.3), 0 1px 3px 1px rgba(60, 64, 67, 0.15);\n",
              "    fill: var(--button-hover-fill-color);\n",
              "  }\n",
              "\n",
              "  .colab-df-quickchart-complete:disabled,\n",
              "  .colab-df-quickchart-complete:disabled:hover {\n",
              "    background-color: var(--disabled-bg-color);\n",
              "    fill: var(--disabled-fill-color);\n",
              "    box-shadow: none;\n",
              "  }\n",
              "\n",
              "  .colab-df-spinner {\n",
              "    border: 2px solid var(--fill-color);\n",
              "    border-color: transparent;\n",
              "    border-bottom-color: var(--fill-color);\n",
              "    animation:\n",
              "      spin 1s steps(1) infinite;\n",
              "  }\n",
              "\n",
              "  @keyframes spin {\n",
              "    0% {\n",
              "      border-color: transparent;\n",
              "      border-bottom-color: var(--fill-color);\n",
              "      border-left-color: var(--fill-color);\n",
              "    }\n",
              "    20% {\n",
              "      border-color: transparent;\n",
              "      border-left-color: var(--fill-color);\n",
              "      border-top-color: var(--fill-color);\n",
              "    }\n",
              "    30% {\n",
              "      border-color: transparent;\n",
              "      border-left-color: var(--fill-color);\n",
              "      border-top-color: var(--fill-color);\n",
              "      border-right-color: var(--fill-color);\n",
              "    }\n",
              "    40% {\n",
              "      border-color: transparent;\n",
              "      border-right-color: var(--fill-color);\n",
              "      border-top-color: var(--fill-color);\n",
              "    }\n",
              "    60% {\n",
              "      border-color: transparent;\n",
              "      border-right-color: var(--fill-color);\n",
              "    }\n",
              "    80% {\n",
              "      border-color: transparent;\n",
              "      border-right-color: var(--fill-color);\n",
              "      border-bottom-color: var(--fill-color);\n",
              "    }\n",
              "    90% {\n",
              "      border-color: transparent;\n",
              "      border-bottom-color: var(--fill-color);\n",
              "    }\n",
              "  }\n",
              "</style>\n",
              "\n",
              "  <script>\n",
              "    async function quickchart(key) {\n",
              "      const quickchartButtonEl =\n",
              "        document.querySelector('#' + key + ' button');\n",
              "      quickchartButtonEl.disabled = true;  // To prevent multiple clicks.\n",
              "      quickchartButtonEl.classList.add('colab-df-spinner');\n",
              "      try {\n",
              "        const charts = await google.colab.kernel.invokeFunction(\n",
              "            'suggestCharts', [key], {});\n",
              "      } catch (error) {\n",
              "        console.error('Error during call to suggestCharts:', error);\n",
              "      }\n",
              "      quickchartButtonEl.classList.remove('colab-df-spinner');\n",
              "      quickchartButtonEl.classList.add('colab-df-quickchart-complete');\n",
              "    }\n",
              "    (() => {\n",
              "      let quickchartButtonEl =\n",
              "        document.querySelector('#df-b95fc21e-8902-4ca8-9bde-df398ab24879 button');\n",
              "      quickchartButtonEl.style.display =\n",
              "        google.colab.kernel.accessAllowed ? 'block' : 'none';\n",
              "    })();\n",
              "  </script>\n",
              "</div>\n",
              "\n",
              "    </div>\n",
              "  </div>\n"
            ],
            "application/vnd.google.colaboratory.intrinsic+json": {
              "type": "dataframe",
              "variable_name": "data",
              "summary": "{\n  \"name\": \"data\",\n  \"rows\": 109,\n  \"fields\": [\n    {\n      \"column\": \"Review\",\n      \"properties\": {\n        \"dtype\": \"string\",\n        \"num_unique_values\": 109,\n        \"samples\": [\n          \"nice hotel husband stayed crown plaza spring break, arrival told given room beds booked king bed, matter resolved quickly, staff helpful met requests, room large clean quiet great view, location hotel decent, overall great experience, really no complaints said elevators bit slow, stay,  \",\n          \"poor value stayed monaco seattle july, nice hotel priced 100- 150 night not, hotel takes beating quotient, experience simply average, nothing exceptional paying 300+ n't ca n't terribly disappointed, wife stayed nicest suites 200/night felt like overpaying, best advice shop, quality-wise league average marriott nice best western,  \",\n          \"great stay great stay, went seahawk game awesome, downfall view building did n't complain, room huge staff helpful, booked hotels website seahawk package, no charge parking got voucher taxi, problem taxi driver did n't want accept voucher barely spoke english, funny thing speak arabic called started making comments girlfriend cell phone buddy, took second realize just said fact speak language face priceless, ass told, said large city, told head doorman issue called cab company promply answer did n't, apologized offered pay taxi, bucks 2 miles stadium, game plan taxi return going humpin, great walk did n't mind, right christmas wonderful lights, homeless stowed away building entrances leave, police presence not greatest area stadium, activities 7 blocks pike street waterfront great coffee shops way, hotel mantained foyer awesome, wine tasting available evening, best dog, taking st. bernard time family, safes hotel located service desk room, bathroom huge jetted tub huge, funny house keeping walked girlfriend getting dressed, did n't hear knock doing turn service, screamed girlfriend screams hit floor laughing, started talking spanish worked, place recommend price, check online deals just good not better, besite contains deals vouchers travel websites n't tell,  \"\n        ],\n        \"semantic_type\": \"\",\n        \"description\": \"\"\n      }\n    },\n    {\n      \"column\": \"Rating\",\n      \"properties\": {\n        \"dtype\": \"number\",\n        \"std\": 1,\n        \"min\": 1,\n        \"max\": 5,\n        \"num_unique_values\": 5,\n        \"samples\": [\n          2,\n          1,\n          3\n        ],\n        \"semantic_type\": \"\",\n        \"description\": \"\"\n      }\n    },\n    {\n      \"column\": \"review_lowercase\",\n      \"properties\": {\n        \"dtype\": \"string\",\n        \"num_unique_values\": 109,\n        \"samples\": [\n          \"nice hotel husband stayed crown plaza spring break, arrival told given room beds booked king bed, matter resolved quickly, staff helpful met requests, room large clean quiet great view, location hotel decent, overall great experience, really no complaints said elevators bit slow, stay,  \",\n          \"poor value stayed monaco seattle july, nice hotel priced 100- 150 night not, hotel takes beating quotient, experience simply average, nothing exceptional paying 300+ n't ca n't terribly disappointed, wife stayed nicest suites 200/night felt like overpaying, best advice shop, quality-wise league average marriott nice best western,  \",\n          \"great stay great stay, went seahawk game awesome, downfall view building did n't complain, room huge staff helpful, booked hotels website seahawk package, no charge parking got voucher taxi, problem taxi driver did n't want accept voucher barely spoke english, funny thing speak arabic called started making comments girlfriend cell phone buddy, took second realize just said fact speak language face priceless, ass told, said large city, told head doorman issue called cab company promply answer did n't, apologized offered pay taxi, bucks 2 miles stadium, game plan taxi return going humpin, great walk did n't mind, right christmas wonderful lights, homeless stowed away building entrances leave, police presence not greatest area stadium, activities 7 blocks pike street waterfront great coffee shops way, hotel mantained foyer awesome, wine tasting available evening, best dog, taking st. bernard time family, safes hotel located service desk room, bathroom huge jetted tub huge, funny house keeping walked girlfriend getting dressed, did n't hear knock doing turn service, screamed girlfriend screams hit floor laughing, started talking spanish worked, place recommend price, check online deals just good not better, besite contains deals vouchers travel websites n't tell,  \"\n        ],\n        \"semantic_type\": \"\",\n        \"description\": \"\"\n      }\n    },\n    {\n      \"column\": \"review_no_stopwords\",\n      \"properties\": {\n        \"dtype\": \"string\",\n        \"num_unique_values\": 109,\n        \"samples\": [\n          \"nice hotel husband stayed crown plaza spring break, arrival told given room beds booked king bed, matter resolved quickly, staff helpful met requests, room large clean quiet great view, location hotel decent, overall great experience, really complaints said elevators bit slow, stay,\",\n          \"poor value stayed monaco seattle july, nice hotel priced 100- 150 night not, hotel takes beating quotient, experience simply average, nothing exceptional paying 300+ n't ca n't terribly disappointed, wife stayed nicest suites 200/night felt like overpaying, best advice shop, quality-wise league average marriott nice best western,\",\n          \"great stay great stay, went seahawk game awesome, downfall view building n't complain, room huge staff helpful, booked hotels website seahawk package, charge parking got voucher taxi, problem taxi driver n't want accept voucher barely spoke english, funny thing speak arabic called started making comments girlfriend cell phone buddy, took second realize said fact speak language face priceless, ass told, said large city, told head doorman issue called cab company promply answer n't, apologized offered pay taxi, bucks 2 miles stadium, game plan taxi return going humpin, great walk n't mind, right christmas wonderful lights, homeless stowed away building entrances leave, police presence not greatest area stadium, activities 7 blocks pike street waterfront great coffee shops way, hotel mantained foyer awesome, wine tasting available evening, best dog, taking st. bernard time family, safes hotel located service desk room, bathroom huge jetted tub huge, funny house keeping walked girlfriend getting dressed, n't hear knock turn service, screamed girlfriend screams hit floor laughing, started talking spanish worked, place recommend price, check online deals good not better, besite contains deals vouchers travel websites n't tell,\"\n        ],\n        \"semantic_type\": \"\",\n        \"description\": \"\"\n      }\n    },\n    {\n      \"column\": \"review_no_stopwords_no_punct\",\n      \"properties\": {\n        \"dtype\": \"string\",\n        \"num_unique_values\": 109,\n        \"samples\": [\n          \"nice hotel husband stayed crown plaza spring break arrival told given room beds booked king bed matter resolved quickly staff helpful met requests room large clean quiet great view location hotel decent overall great experience really complaints said elevators bit slow stay\",\n          \"poor value stayed monaco seattle july nice hotel priced 100 150 night not hotel takes beating quotient experience simply average nothing exceptional paying 300 nt ca nt terribly disappointed wife stayed nicest suites 200night felt like overpaying best advice shop qualitywise league average marriott nice best western\",\n          \"great stay great stay went seahawk game awesome downfall view building nt complain room huge staff helpful booked hotels website seahawk package charge parking got voucher taxi problem taxi driver nt want accept voucher barely spoke english funny thing speak arabic called started making comments girlfriend cell phone buddy took second realize said fact speak language face priceless ass told said large city told head doorman issue called cab company promply answer nt apologized offered pay taxi bucks 2 miles stadium game plan taxi return going humpin great walk nt mind right christmas wonderful lights homeless stowed away building entrances leave police presence not greatest area stadium activities 7 blocks pike street waterfront great coffee shops way hotel mantained foyer awesome wine tasting available evening best dog taking st bernard time family safes hotel located service desk room bathroom huge jetted tub huge funny house keeping walked girlfriend getting dressed nt hear knock turn service screamed girlfriend screams hit floor laughing started talking spanish worked place recommend price check online deals good not better besite contains deals vouchers travel websites nt tell\"\n        ],\n        \"semantic_type\": \"\",\n        \"description\": \"\"\n      }\n    }\n  ]\n}"
            }
          },
          "metadata": {},
          "execution_count": 17
        }
      ]
    },
    {
      "cell_type": "code",
      "source": [
        "# Tokenizing\n",
        "data['tokenized'] = data.apply(lambda x: word_tokenize(x['review_no_stopwords_no_punct']), axis=1)\n",
        "data.head()"
      ],
      "metadata": {
        "colab": {
          "base_uri": "https://localhost:8080/",
          "height": 293
        },
        "id": "pO3Ij0SpiSGo",
        "outputId": "41a2b9ca-3b42-4b42-8b99-621bbc158415"
      },
      "execution_count": null,
      "outputs": [
        {
          "output_type": "execute_result",
          "data": {
            "text/plain": [
              "                                              Review  Rating  \\\n",
              "0  nice hotel expensive parking got good deal sta...       4   \n",
              "1  ok nothing special charge diamond member hilto...       2   \n",
              "2  nice rooms not 4* experience hotel monaco seat...       3   \n",
              "3  unique, great stay, wonderful time hotel monac...       5   \n",
              "4  great stay great stay, went seahawk game aweso...       5   \n",
              "\n",
              "                                    review_lowercase  \\\n",
              "0  nice hotel expensive parking got good deal sta...   \n",
              "1  ok nothing special charge diamond member hilto...   \n",
              "2  nice rooms not 4* experience hotel monaco seat...   \n",
              "3  unique, great stay, wonderful time hotel monac...   \n",
              "4  great stay great stay, went seahawk game aweso...   \n",
              "\n",
              "                                 review_no_stopwords  \\\n",
              "0  nice hotel expensive parking got good deal sta...   \n",
              "1  ok nothing special charge diamond member hilto...   \n",
              "2  nice rooms not 4* experience hotel monaco seat...   \n",
              "3  unique, great stay, wonderful time hotel monac...   \n",
              "4  great stay great stay, went seahawk game aweso...   \n",
              "\n",
              "                        review_no_stopwords_no_punct  \\\n",
              "0  nice hotel expensive parking got good deal sta...   \n",
              "1  ok nothing special charge diamond member hilto...   \n",
              "2  nice rooms not 4 experience hotel monaco seatt...   \n",
              "3  unique great stay wonderful time hotel monaco ...   \n",
              "4  great stay great stay went seahawk game awesom...   \n",
              "\n",
              "                                           tokenized  \n",
              "0  [nice, hotel, expensive, parking, got, good, d...  \n",
              "1  [ok, nothing, special, charge, diamond, member...  \n",
              "2  [nice, rooms, not, 4, experience, hotel, monac...  \n",
              "3  [unique, great, stay, wonderful, time, hotel, ...  \n",
              "4  [great, stay, great, stay, went, seahawk, game...  "
            ],
            "text/html": [
              "\n",
              "  <div id=\"df-75175d00-0978-4fc2-9eee-abc10c935428\" class=\"colab-df-container\">\n",
              "    <div>\n",
              "<style scoped>\n",
              "    .dataframe tbody tr th:only-of-type {\n",
              "        vertical-align: middle;\n",
              "    }\n",
              "\n",
              "    .dataframe tbody tr th {\n",
              "        vertical-align: top;\n",
              "    }\n",
              "\n",
              "    .dataframe thead th {\n",
              "        text-align: right;\n",
              "    }\n",
              "</style>\n",
              "<table border=\"1\" class=\"dataframe\">\n",
              "  <thead>\n",
              "    <tr style=\"text-align: right;\">\n",
              "      <th></th>\n",
              "      <th>Review</th>\n",
              "      <th>Rating</th>\n",
              "      <th>review_lowercase</th>\n",
              "      <th>review_no_stopwords</th>\n",
              "      <th>review_no_stopwords_no_punct</th>\n",
              "      <th>tokenized</th>\n",
              "    </tr>\n",
              "  </thead>\n",
              "  <tbody>\n",
              "    <tr>\n",
              "      <th>0</th>\n",
              "      <td>nice hotel expensive parking got good deal sta...</td>\n",
              "      <td>4</td>\n",
              "      <td>nice hotel expensive parking got good deal sta...</td>\n",
              "      <td>nice hotel expensive parking got good deal sta...</td>\n",
              "      <td>nice hotel expensive parking got good deal sta...</td>\n",
              "      <td>[nice, hotel, expensive, parking, got, good, d...</td>\n",
              "    </tr>\n",
              "    <tr>\n",
              "      <th>1</th>\n",
              "      <td>ok nothing special charge diamond member hilto...</td>\n",
              "      <td>2</td>\n",
              "      <td>ok nothing special charge diamond member hilto...</td>\n",
              "      <td>ok nothing special charge diamond member hilto...</td>\n",
              "      <td>ok nothing special charge diamond member hilto...</td>\n",
              "      <td>[ok, nothing, special, charge, diamond, member...</td>\n",
              "    </tr>\n",
              "    <tr>\n",
              "      <th>2</th>\n",
              "      <td>nice rooms not 4* experience hotel monaco seat...</td>\n",
              "      <td>3</td>\n",
              "      <td>nice rooms not 4* experience hotel monaco seat...</td>\n",
              "      <td>nice rooms not 4* experience hotel monaco seat...</td>\n",
              "      <td>nice rooms not 4 experience hotel monaco seatt...</td>\n",
              "      <td>[nice, rooms, not, 4, experience, hotel, monac...</td>\n",
              "    </tr>\n",
              "    <tr>\n",
              "      <th>3</th>\n",
              "      <td>unique, great stay, wonderful time hotel monac...</td>\n",
              "      <td>5</td>\n",
              "      <td>unique, great stay, wonderful time hotel monac...</td>\n",
              "      <td>unique, great stay, wonderful time hotel monac...</td>\n",
              "      <td>unique great stay wonderful time hotel monaco ...</td>\n",
              "      <td>[unique, great, stay, wonderful, time, hotel, ...</td>\n",
              "    </tr>\n",
              "    <tr>\n",
              "      <th>4</th>\n",
              "      <td>great stay great stay, went seahawk game aweso...</td>\n",
              "      <td>5</td>\n",
              "      <td>great stay great stay, went seahawk game aweso...</td>\n",
              "      <td>great stay great stay, went seahawk game aweso...</td>\n",
              "      <td>great stay great stay went seahawk game awesom...</td>\n",
              "      <td>[great, stay, great, stay, went, seahawk, game...</td>\n",
              "    </tr>\n",
              "  </tbody>\n",
              "</table>\n",
              "</div>\n",
              "    <div class=\"colab-df-buttons\">\n",
              "\n",
              "  <div class=\"colab-df-container\">\n",
              "    <button class=\"colab-df-convert\" onclick=\"convertToInteractive('df-75175d00-0978-4fc2-9eee-abc10c935428')\"\n",
              "            title=\"Convert this dataframe to an interactive table.\"\n",
              "            style=\"display:none;\">\n",
              "\n",
              "  <svg xmlns=\"http://www.w3.org/2000/svg\" height=\"24px\" viewBox=\"0 -960 960 960\">\n",
              "    <path d=\"M120-120v-720h720v720H120Zm60-500h600v-160H180v160Zm220 220h160v-160H400v160Zm0 220h160v-160H400v160ZM180-400h160v-160H180v160Zm440 0h160v-160H620v160ZM180-180h160v-160H180v160Zm440 0h160v-160H620v160Z\"/>\n",
              "  </svg>\n",
              "    </button>\n",
              "\n",
              "  <style>\n",
              "    .colab-df-container {\n",
              "      display:flex;\n",
              "      gap: 12px;\n",
              "    }\n",
              "\n",
              "    .colab-df-convert {\n",
              "      background-color: #E8F0FE;\n",
              "      border: none;\n",
              "      border-radius: 50%;\n",
              "      cursor: pointer;\n",
              "      display: none;\n",
              "      fill: #1967D2;\n",
              "      height: 32px;\n",
              "      padding: 0 0 0 0;\n",
              "      width: 32px;\n",
              "    }\n",
              "\n",
              "    .colab-df-convert:hover {\n",
              "      background-color: #E2EBFA;\n",
              "      box-shadow: 0px 1px 2px rgba(60, 64, 67, 0.3), 0px 1px 3px 1px rgba(60, 64, 67, 0.15);\n",
              "      fill: #174EA6;\n",
              "    }\n",
              "\n",
              "    .colab-df-buttons div {\n",
              "      margin-bottom: 4px;\n",
              "    }\n",
              "\n",
              "    [theme=dark] .colab-df-convert {\n",
              "      background-color: #3B4455;\n",
              "      fill: #D2E3FC;\n",
              "    }\n",
              "\n",
              "    [theme=dark] .colab-df-convert:hover {\n",
              "      background-color: #434B5C;\n",
              "      box-shadow: 0px 1px 3px 1px rgba(0, 0, 0, 0.15);\n",
              "      filter: drop-shadow(0px 1px 2px rgba(0, 0, 0, 0.3));\n",
              "      fill: #FFFFFF;\n",
              "    }\n",
              "  </style>\n",
              "\n",
              "    <script>\n",
              "      const buttonEl =\n",
              "        document.querySelector('#df-75175d00-0978-4fc2-9eee-abc10c935428 button.colab-df-convert');\n",
              "      buttonEl.style.display =\n",
              "        google.colab.kernel.accessAllowed ? 'block' : 'none';\n",
              "\n",
              "      async function convertToInteractive(key) {\n",
              "        const element = document.querySelector('#df-75175d00-0978-4fc2-9eee-abc10c935428');\n",
              "        const dataTable =\n",
              "          await google.colab.kernel.invokeFunction('convertToInteractive',\n",
              "                                                    [key], {});\n",
              "        if (!dataTable) return;\n",
              "\n",
              "        const docLinkHtml = 'Like what you see? Visit the ' +\n",
              "          '<a target=\"_blank\" href=https://colab.research.google.com/notebooks/data_table.ipynb>data table notebook</a>'\n",
              "          + ' to learn more about interactive tables.';\n",
              "        element.innerHTML = '';\n",
              "        dataTable['output_type'] = 'display_data';\n",
              "        await google.colab.output.renderOutput(dataTable, element);\n",
              "        const docLink = document.createElement('div');\n",
              "        docLink.innerHTML = docLinkHtml;\n",
              "        element.appendChild(docLink);\n",
              "      }\n",
              "    </script>\n",
              "  </div>\n",
              "\n",
              "\n",
              "<div id=\"df-a80a2d02-6b5e-47c0-82cf-bf061c63cd1d\">\n",
              "  <button class=\"colab-df-quickchart\" onclick=\"quickchart('df-a80a2d02-6b5e-47c0-82cf-bf061c63cd1d')\"\n",
              "            title=\"Suggest charts\"\n",
              "            style=\"display:none;\">\n",
              "\n",
              "<svg xmlns=\"http://www.w3.org/2000/svg\" height=\"24px\"viewBox=\"0 0 24 24\"\n",
              "     width=\"24px\">\n",
              "    <g>\n",
              "        <path d=\"M19 3H5c-1.1 0-2 .9-2 2v14c0 1.1.9 2 2 2h14c1.1 0 2-.9 2-2V5c0-1.1-.9-2-2-2zM9 17H7v-7h2v7zm4 0h-2V7h2v10zm4 0h-2v-4h2v4z\"/>\n",
              "    </g>\n",
              "</svg>\n",
              "  </button>\n",
              "\n",
              "<style>\n",
              "  .colab-df-quickchart {\n",
              "      --bg-color: #E8F0FE;\n",
              "      --fill-color: #1967D2;\n",
              "      --hover-bg-color: #E2EBFA;\n",
              "      --hover-fill-color: #174EA6;\n",
              "      --disabled-fill-color: #AAA;\n",
              "      --disabled-bg-color: #DDD;\n",
              "  }\n",
              "\n",
              "  [theme=dark] .colab-df-quickchart {\n",
              "      --bg-color: #3B4455;\n",
              "      --fill-color: #D2E3FC;\n",
              "      --hover-bg-color: #434B5C;\n",
              "      --hover-fill-color: #FFFFFF;\n",
              "      --disabled-bg-color: #3B4455;\n",
              "      --disabled-fill-color: #666;\n",
              "  }\n",
              "\n",
              "  .colab-df-quickchart {\n",
              "    background-color: var(--bg-color);\n",
              "    border: none;\n",
              "    border-radius: 50%;\n",
              "    cursor: pointer;\n",
              "    display: none;\n",
              "    fill: var(--fill-color);\n",
              "    height: 32px;\n",
              "    padding: 0;\n",
              "    width: 32px;\n",
              "  }\n",
              "\n",
              "  .colab-df-quickchart:hover {\n",
              "    background-color: var(--hover-bg-color);\n",
              "    box-shadow: 0 1px 2px rgba(60, 64, 67, 0.3), 0 1px 3px 1px rgba(60, 64, 67, 0.15);\n",
              "    fill: var(--button-hover-fill-color);\n",
              "  }\n",
              "\n",
              "  .colab-df-quickchart-complete:disabled,\n",
              "  .colab-df-quickchart-complete:disabled:hover {\n",
              "    background-color: var(--disabled-bg-color);\n",
              "    fill: var(--disabled-fill-color);\n",
              "    box-shadow: none;\n",
              "  }\n",
              "\n",
              "  .colab-df-spinner {\n",
              "    border: 2px solid var(--fill-color);\n",
              "    border-color: transparent;\n",
              "    border-bottom-color: var(--fill-color);\n",
              "    animation:\n",
              "      spin 1s steps(1) infinite;\n",
              "  }\n",
              "\n",
              "  @keyframes spin {\n",
              "    0% {\n",
              "      border-color: transparent;\n",
              "      border-bottom-color: var(--fill-color);\n",
              "      border-left-color: var(--fill-color);\n",
              "    }\n",
              "    20% {\n",
              "      border-color: transparent;\n",
              "      border-left-color: var(--fill-color);\n",
              "      border-top-color: var(--fill-color);\n",
              "    }\n",
              "    30% {\n",
              "      border-color: transparent;\n",
              "      border-left-color: var(--fill-color);\n",
              "      border-top-color: var(--fill-color);\n",
              "      border-right-color: var(--fill-color);\n",
              "    }\n",
              "    40% {\n",
              "      border-color: transparent;\n",
              "      border-right-color: var(--fill-color);\n",
              "      border-top-color: var(--fill-color);\n",
              "    }\n",
              "    60% {\n",
              "      border-color: transparent;\n",
              "      border-right-color: var(--fill-color);\n",
              "    }\n",
              "    80% {\n",
              "      border-color: transparent;\n",
              "      border-right-color: var(--fill-color);\n",
              "      border-bottom-color: var(--fill-color);\n",
              "    }\n",
              "    90% {\n",
              "      border-color: transparent;\n",
              "      border-bottom-color: var(--fill-color);\n",
              "    }\n",
              "  }\n",
              "</style>\n",
              "\n",
              "  <script>\n",
              "    async function quickchart(key) {\n",
              "      const quickchartButtonEl =\n",
              "        document.querySelector('#' + key + ' button');\n",
              "      quickchartButtonEl.disabled = true;  // To prevent multiple clicks.\n",
              "      quickchartButtonEl.classList.add('colab-df-spinner');\n",
              "      try {\n",
              "        const charts = await google.colab.kernel.invokeFunction(\n",
              "            'suggestCharts', [key], {});\n",
              "      } catch (error) {\n",
              "        console.error('Error during call to suggestCharts:', error);\n",
              "      }\n",
              "      quickchartButtonEl.classList.remove('colab-df-spinner');\n",
              "      quickchartButtonEl.classList.add('colab-df-quickchart-complete');\n",
              "    }\n",
              "    (() => {\n",
              "      let quickchartButtonEl =\n",
              "        document.querySelector('#df-a80a2d02-6b5e-47c0-82cf-bf061c63cd1d button');\n",
              "      quickchartButtonEl.style.display =\n",
              "        google.colab.kernel.accessAllowed ? 'block' : 'none';\n",
              "    })();\n",
              "  </script>\n",
              "</div>\n",
              "\n",
              "    </div>\n",
              "  </div>\n"
            ],
            "application/vnd.google.colaboratory.intrinsic+json": {
              "type": "dataframe",
              "variable_name": "data",
              "summary": "{\n  \"name\": \"data\",\n  \"rows\": 109,\n  \"fields\": [\n    {\n      \"column\": \"Review\",\n      \"properties\": {\n        \"dtype\": \"string\",\n        \"num_unique_values\": 109,\n        \"samples\": [\n          \"nice hotel husband stayed crown plaza spring break, arrival told given room beds booked king bed, matter resolved quickly, staff helpful met requests, room large clean quiet great view, location hotel decent, overall great experience, really no complaints said elevators bit slow, stay,  \",\n          \"poor value stayed monaco seattle july, nice hotel priced 100- 150 night not, hotel takes beating quotient, experience simply average, nothing exceptional paying 300+ n't ca n't terribly disappointed, wife stayed nicest suites 200/night felt like overpaying, best advice shop, quality-wise league average marriott nice best western,  \",\n          \"great stay great stay, went seahawk game awesome, downfall view building did n't complain, room huge staff helpful, booked hotels website seahawk package, no charge parking got voucher taxi, problem taxi driver did n't want accept voucher barely spoke english, funny thing speak arabic called started making comments girlfriend cell phone buddy, took second realize just said fact speak language face priceless, ass told, said large city, told head doorman issue called cab company promply answer did n't, apologized offered pay taxi, bucks 2 miles stadium, game plan taxi return going humpin, great walk did n't mind, right christmas wonderful lights, homeless stowed away building entrances leave, police presence not greatest area stadium, activities 7 blocks pike street waterfront great coffee shops way, hotel mantained foyer awesome, wine tasting available evening, best dog, taking st. bernard time family, safes hotel located service desk room, bathroom huge jetted tub huge, funny house keeping walked girlfriend getting dressed, did n't hear knock doing turn service, screamed girlfriend screams hit floor laughing, started talking spanish worked, place recommend price, check online deals just good not better, besite contains deals vouchers travel websites n't tell,  \"\n        ],\n        \"semantic_type\": \"\",\n        \"description\": \"\"\n      }\n    },\n    {\n      \"column\": \"Rating\",\n      \"properties\": {\n        \"dtype\": \"number\",\n        \"std\": 1,\n        \"min\": 1,\n        \"max\": 5,\n        \"num_unique_values\": 5,\n        \"samples\": [\n          2,\n          1,\n          3\n        ],\n        \"semantic_type\": \"\",\n        \"description\": \"\"\n      }\n    },\n    {\n      \"column\": \"review_lowercase\",\n      \"properties\": {\n        \"dtype\": \"string\",\n        \"num_unique_values\": 109,\n        \"samples\": [\n          \"nice hotel husband stayed crown plaza spring break, arrival told given room beds booked king bed, matter resolved quickly, staff helpful met requests, room large clean quiet great view, location hotel decent, overall great experience, really no complaints said elevators bit slow, stay,  \",\n          \"poor value stayed monaco seattle july, nice hotel priced 100- 150 night not, hotel takes beating quotient, experience simply average, nothing exceptional paying 300+ n't ca n't terribly disappointed, wife stayed nicest suites 200/night felt like overpaying, best advice shop, quality-wise league average marriott nice best western,  \",\n          \"great stay great stay, went seahawk game awesome, downfall view building did n't complain, room huge staff helpful, booked hotels website seahawk package, no charge parking got voucher taxi, problem taxi driver did n't want accept voucher barely spoke english, funny thing speak arabic called started making comments girlfriend cell phone buddy, took second realize just said fact speak language face priceless, ass told, said large city, told head doorman issue called cab company promply answer did n't, apologized offered pay taxi, bucks 2 miles stadium, game plan taxi return going humpin, great walk did n't mind, right christmas wonderful lights, homeless stowed away building entrances leave, police presence not greatest area stadium, activities 7 blocks pike street waterfront great coffee shops way, hotel mantained foyer awesome, wine tasting available evening, best dog, taking st. bernard time family, safes hotel located service desk room, bathroom huge jetted tub huge, funny house keeping walked girlfriend getting dressed, did n't hear knock doing turn service, screamed girlfriend screams hit floor laughing, started talking spanish worked, place recommend price, check online deals just good not better, besite contains deals vouchers travel websites n't tell,  \"\n        ],\n        \"semantic_type\": \"\",\n        \"description\": \"\"\n      }\n    },\n    {\n      \"column\": \"review_no_stopwords\",\n      \"properties\": {\n        \"dtype\": \"string\",\n        \"num_unique_values\": 109,\n        \"samples\": [\n          \"nice hotel husband stayed crown plaza spring break, arrival told given room beds booked king bed, matter resolved quickly, staff helpful met requests, room large clean quiet great view, location hotel decent, overall great experience, really complaints said elevators bit slow, stay,\",\n          \"poor value stayed monaco seattle july, nice hotel priced 100- 150 night not, hotel takes beating quotient, experience simply average, nothing exceptional paying 300+ n't ca n't terribly disappointed, wife stayed nicest suites 200/night felt like overpaying, best advice shop, quality-wise league average marriott nice best western,\",\n          \"great stay great stay, went seahawk game awesome, downfall view building n't complain, room huge staff helpful, booked hotels website seahawk package, charge parking got voucher taxi, problem taxi driver n't want accept voucher barely spoke english, funny thing speak arabic called started making comments girlfriend cell phone buddy, took second realize said fact speak language face priceless, ass told, said large city, told head doorman issue called cab company promply answer n't, apologized offered pay taxi, bucks 2 miles stadium, game plan taxi return going humpin, great walk n't mind, right christmas wonderful lights, homeless stowed away building entrances leave, police presence not greatest area stadium, activities 7 blocks pike street waterfront great coffee shops way, hotel mantained foyer awesome, wine tasting available evening, best dog, taking st. bernard time family, safes hotel located service desk room, bathroom huge jetted tub huge, funny house keeping walked girlfriend getting dressed, n't hear knock turn service, screamed girlfriend screams hit floor laughing, started talking spanish worked, place recommend price, check online deals good not better, besite contains deals vouchers travel websites n't tell,\"\n        ],\n        \"semantic_type\": \"\",\n        \"description\": \"\"\n      }\n    },\n    {\n      \"column\": \"review_no_stopwords_no_punct\",\n      \"properties\": {\n        \"dtype\": \"string\",\n        \"num_unique_values\": 109,\n        \"samples\": [\n          \"nice hotel husband stayed crown plaza spring break arrival told given room beds booked king bed matter resolved quickly staff helpful met requests room large clean quiet great view location hotel decent overall great experience really complaints said elevators bit slow stay\",\n          \"poor value stayed monaco seattle july nice hotel priced 100 150 night not hotel takes beating quotient experience simply average nothing exceptional paying 300 nt ca nt terribly disappointed wife stayed nicest suites 200night felt like overpaying best advice shop qualitywise league average marriott nice best western\",\n          \"great stay great stay went seahawk game awesome downfall view building nt complain room huge staff helpful booked hotels website seahawk package charge parking got voucher taxi problem taxi driver nt want accept voucher barely spoke english funny thing speak arabic called started making comments girlfriend cell phone buddy took second realize said fact speak language face priceless ass told said large city told head doorman issue called cab company promply answer nt apologized offered pay taxi bucks 2 miles stadium game plan taxi return going humpin great walk nt mind right christmas wonderful lights homeless stowed away building entrances leave police presence not greatest area stadium activities 7 blocks pike street waterfront great coffee shops way hotel mantained foyer awesome wine tasting available evening best dog taking st bernard time family safes hotel located service desk room bathroom huge jetted tub huge funny house keeping walked girlfriend getting dressed nt hear knock turn service screamed girlfriend screams hit floor laughing started talking spanish worked place recommend price check online deals good not better besite contains deals vouchers travel websites nt tell\"\n        ],\n        \"semantic_type\": \"\",\n        \"description\": \"\"\n      }\n    },\n    {\n      \"column\": \"tokenized\",\n      \"properties\": {\n        \"dtype\": \"object\",\n        \"semantic_type\": \"\",\n        \"description\": \"\"\n      }\n    }\n  ]\n}"
            }
          },
          "metadata": {},
          "execution_count": 20
        }
      ]
    },
    {
      "cell_type": "code",
      "source": [
        "# Stemming\n",
        "ps = PorterStemmer()\n",
        "data['stemmed'] = data['tokenized'].apply(lambda x: [ps.stem(word) for word in x])\n",
        "data.head()"
      ],
      "metadata": {
        "colab": {
          "base_uri": "https://localhost:8080/",
          "height": 379
        },
        "id": "7srkPv41ic4T",
        "outputId": "bbf0b20c-9258-4c25-e2df-1dd34478405f"
      },
      "execution_count": null,
      "outputs": [
        {
          "output_type": "execute_result",
          "data": {
            "text/plain": [
              "                                              Review  Rating  \\\n",
              "0  nice hotel expensive parking got good deal sta...       4   \n",
              "1  ok nothing special charge diamond member hilto...       2   \n",
              "2  nice rooms not 4* experience hotel monaco seat...       3   \n",
              "3  unique, great stay, wonderful time hotel monac...       5   \n",
              "4  great stay great stay, went seahawk game aweso...       5   \n",
              "\n",
              "                                    review_lowercase  \\\n",
              "0  nice hotel expensive parking got good deal sta...   \n",
              "1  ok nothing special charge diamond member hilto...   \n",
              "2  nice rooms not 4* experience hotel monaco seat...   \n",
              "3  unique, great stay, wonderful time hotel monac...   \n",
              "4  great stay great stay, went seahawk game aweso...   \n",
              "\n",
              "                                 review_no_stopwords  \\\n",
              "0  nice hotel expensive parking got good deal sta...   \n",
              "1  ok nothing special charge diamond member hilto...   \n",
              "2  nice rooms not 4* experience hotel monaco seat...   \n",
              "3  unique, great stay, wonderful time hotel monac...   \n",
              "4  great stay great stay, went seahawk game aweso...   \n",
              "\n",
              "                        review_no_stopwords_no_punct  \\\n",
              "0  nice hotel expensive parking got good deal sta...   \n",
              "1  ok nothing special charge diamond member hilto...   \n",
              "2  nice rooms not 4 experience hotel monaco seatt...   \n",
              "3  unique great stay wonderful time hotel monaco ...   \n",
              "4  great stay great stay went seahawk game awesom...   \n",
              "\n",
              "                                           tokenized  \\\n",
              "0  [nice, hotel, expensive, parking, got, good, d...   \n",
              "1  [ok, nothing, special, charge, diamond, member...   \n",
              "2  [nice, rooms, not, 4, experience, hotel, monac...   \n",
              "3  [unique, great, stay, wonderful, time, hotel, ...   \n",
              "4  [great, stay, great, stay, went, seahawk, game...   \n",
              "\n",
              "                                             stemmed  \n",
              "0  [nice, hotel, expens, park, got, good, deal, s...  \n",
              "1  [ok, noth, special, charg, diamond, member, hi...  \n",
              "2  [nice, room, not, 4, experi, hotel, monaco, se...  \n",
              "3  [uniqu, great, stay, wonder, time, hotel, mona...  \n",
              "4  [great, stay, great, stay, went, seahawk, game...  "
            ],
            "text/html": [
              "\n",
              "  <div id=\"df-c87c725c-4355-4eef-aab1-4bf5f71cf45f\" class=\"colab-df-container\">\n",
              "    <div>\n",
              "<style scoped>\n",
              "    .dataframe tbody tr th:only-of-type {\n",
              "        vertical-align: middle;\n",
              "    }\n",
              "\n",
              "    .dataframe tbody tr th {\n",
              "        vertical-align: top;\n",
              "    }\n",
              "\n",
              "    .dataframe thead th {\n",
              "        text-align: right;\n",
              "    }\n",
              "</style>\n",
              "<table border=\"1\" class=\"dataframe\">\n",
              "  <thead>\n",
              "    <tr style=\"text-align: right;\">\n",
              "      <th></th>\n",
              "      <th>Review</th>\n",
              "      <th>Rating</th>\n",
              "      <th>review_lowercase</th>\n",
              "      <th>review_no_stopwords</th>\n",
              "      <th>review_no_stopwords_no_punct</th>\n",
              "      <th>tokenized</th>\n",
              "      <th>stemmed</th>\n",
              "    </tr>\n",
              "  </thead>\n",
              "  <tbody>\n",
              "    <tr>\n",
              "      <th>0</th>\n",
              "      <td>nice hotel expensive parking got good deal sta...</td>\n",
              "      <td>4</td>\n",
              "      <td>nice hotel expensive parking got good deal sta...</td>\n",
              "      <td>nice hotel expensive parking got good deal sta...</td>\n",
              "      <td>nice hotel expensive parking got good deal sta...</td>\n",
              "      <td>[nice, hotel, expensive, parking, got, good, d...</td>\n",
              "      <td>[nice, hotel, expens, park, got, good, deal, s...</td>\n",
              "    </tr>\n",
              "    <tr>\n",
              "      <th>1</th>\n",
              "      <td>ok nothing special charge diamond member hilto...</td>\n",
              "      <td>2</td>\n",
              "      <td>ok nothing special charge diamond member hilto...</td>\n",
              "      <td>ok nothing special charge diamond member hilto...</td>\n",
              "      <td>ok nothing special charge diamond member hilto...</td>\n",
              "      <td>[ok, nothing, special, charge, diamond, member...</td>\n",
              "      <td>[ok, noth, special, charg, diamond, member, hi...</td>\n",
              "    </tr>\n",
              "    <tr>\n",
              "      <th>2</th>\n",
              "      <td>nice rooms not 4* experience hotel monaco seat...</td>\n",
              "      <td>3</td>\n",
              "      <td>nice rooms not 4* experience hotel monaco seat...</td>\n",
              "      <td>nice rooms not 4* experience hotel monaco seat...</td>\n",
              "      <td>nice rooms not 4 experience hotel monaco seatt...</td>\n",
              "      <td>[nice, rooms, not, 4, experience, hotel, monac...</td>\n",
              "      <td>[nice, room, not, 4, experi, hotel, monaco, se...</td>\n",
              "    </tr>\n",
              "    <tr>\n",
              "      <th>3</th>\n",
              "      <td>unique, great stay, wonderful time hotel monac...</td>\n",
              "      <td>5</td>\n",
              "      <td>unique, great stay, wonderful time hotel monac...</td>\n",
              "      <td>unique, great stay, wonderful time hotel monac...</td>\n",
              "      <td>unique great stay wonderful time hotel monaco ...</td>\n",
              "      <td>[unique, great, stay, wonderful, time, hotel, ...</td>\n",
              "      <td>[uniqu, great, stay, wonder, time, hotel, mona...</td>\n",
              "    </tr>\n",
              "    <tr>\n",
              "      <th>4</th>\n",
              "      <td>great stay great stay, went seahawk game aweso...</td>\n",
              "      <td>5</td>\n",
              "      <td>great stay great stay, went seahawk game aweso...</td>\n",
              "      <td>great stay great stay, went seahawk game aweso...</td>\n",
              "      <td>great stay great stay went seahawk game awesom...</td>\n",
              "      <td>[great, stay, great, stay, went, seahawk, game...</td>\n",
              "      <td>[great, stay, great, stay, went, seahawk, game...</td>\n",
              "    </tr>\n",
              "  </tbody>\n",
              "</table>\n",
              "</div>\n",
              "    <div class=\"colab-df-buttons\">\n",
              "\n",
              "  <div class=\"colab-df-container\">\n",
              "    <button class=\"colab-df-convert\" onclick=\"convertToInteractive('df-c87c725c-4355-4eef-aab1-4bf5f71cf45f')\"\n",
              "            title=\"Convert this dataframe to an interactive table.\"\n",
              "            style=\"display:none;\">\n",
              "\n",
              "  <svg xmlns=\"http://www.w3.org/2000/svg\" height=\"24px\" viewBox=\"0 -960 960 960\">\n",
              "    <path d=\"M120-120v-720h720v720H120Zm60-500h600v-160H180v160Zm220 220h160v-160H400v160Zm0 220h160v-160H400v160ZM180-400h160v-160H180v160Zm440 0h160v-160H620v160ZM180-180h160v-160H180v160Zm440 0h160v-160H620v160Z\"/>\n",
              "  </svg>\n",
              "    </button>\n",
              "\n",
              "  <style>\n",
              "    .colab-df-container {\n",
              "      display:flex;\n",
              "      gap: 12px;\n",
              "    }\n",
              "\n",
              "    .colab-df-convert {\n",
              "      background-color: #E8F0FE;\n",
              "      border: none;\n",
              "      border-radius: 50%;\n",
              "      cursor: pointer;\n",
              "      display: none;\n",
              "      fill: #1967D2;\n",
              "      height: 32px;\n",
              "      padding: 0 0 0 0;\n",
              "      width: 32px;\n",
              "    }\n",
              "\n",
              "    .colab-df-convert:hover {\n",
              "      background-color: #E2EBFA;\n",
              "      box-shadow: 0px 1px 2px rgba(60, 64, 67, 0.3), 0px 1px 3px 1px rgba(60, 64, 67, 0.15);\n",
              "      fill: #174EA6;\n",
              "    }\n",
              "\n",
              "    .colab-df-buttons div {\n",
              "      margin-bottom: 4px;\n",
              "    }\n",
              "\n",
              "    [theme=dark] .colab-df-convert {\n",
              "      background-color: #3B4455;\n",
              "      fill: #D2E3FC;\n",
              "    }\n",
              "\n",
              "    [theme=dark] .colab-df-convert:hover {\n",
              "      background-color: #434B5C;\n",
              "      box-shadow: 0px 1px 3px 1px rgba(0, 0, 0, 0.15);\n",
              "      filter: drop-shadow(0px 1px 2px rgba(0, 0, 0, 0.3));\n",
              "      fill: #FFFFFF;\n",
              "    }\n",
              "  </style>\n",
              "\n",
              "    <script>\n",
              "      const buttonEl =\n",
              "        document.querySelector('#df-c87c725c-4355-4eef-aab1-4bf5f71cf45f button.colab-df-convert');\n",
              "      buttonEl.style.display =\n",
              "        google.colab.kernel.accessAllowed ? 'block' : 'none';\n",
              "\n",
              "      async function convertToInteractive(key) {\n",
              "        const element = document.querySelector('#df-c87c725c-4355-4eef-aab1-4bf5f71cf45f');\n",
              "        const dataTable =\n",
              "          await google.colab.kernel.invokeFunction('convertToInteractive',\n",
              "                                                    [key], {});\n",
              "        if (!dataTable) return;\n",
              "\n",
              "        const docLinkHtml = 'Like what you see? Visit the ' +\n",
              "          '<a target=\"_blank\" href=https://colab.research.google.com/notebooks/data_table.ipynb>data table notebook</a>'\n",
              "          + ' to learn more about interactive tables.';\n",
              "        element.innerHTML = '';\n",
              "        dataTable['output_type'] = 'display_data';\n",
              "        await google.colab.output.renderOutput(dataTable, element);\n",
              "        const docLink = document.createElement('div');\n",
              "        docLink.innerHTML = docLinkHtml;\n",
              "        element.appendChild(docLink);\n",
              "      }\n",
              "    </script>\n",
              "  </div>\n",
              "\n",
              "\n",
              "<div id=\"df-7f5a4ec8-6072-4d8a-9be5-96e6beb7e8de\">\n",
              "  <button class=\"colab-df-quickchart\" onclick=\"quickchart('df-7f5a4ec8-6072-4d8a-9be5-96e6beb7e8de')\"\n",
              "            title=\"Suggest charts\"\n",
              "            style=\"display:none;\">\n",
              "\n",
              "<svg xmlns=\"http://www.w3.org/2000/svg\" height=\"24px\"viewBox=\"0 0 24 24\"\n",
              "     width=\"24px\">\n",
              "    <g>\n",
              "        <path d=\"M19 3H5c-1.1 0-2 .9-2 2v14c0 1.1.9 2 2 2h14c1.1 0 2-.9 2-2V5c0-1.1-.9-2-2-2zM9 17H7v-7h2v7zm4 0h-2V7h2v10zm4 0h-2v-4h2v4z\"/>\n",
              "    </g>\n",
              "</svg>\n",
              "  </button>\n",
              "\n",
              "<style>\n",
              "  .colab-df-quickchart {\n",
              "      --bg-color: #E8F0FE;\n",
              "      --fill-color: #1967D2;\n",
              "      --hover-bg-color: #E2EBFA;\n",
              "      --hover-fill-color: #174EA6;\n",
              "      --disabled-fill-color: #AAA;\n",
              "      --disabled-bg-color: #DDD;\n",
              "  }\n",
              "\n",
              "  [theme=dark] .colab-df-quickchart {\n",
              "      --bg-color: #3B4455;\n",
              "      --fill-color: #D2E3FC;\n",
              "      --hover-bg-color: #434B5C;\n",
              "      --hover-fill-color: #FFFFFF;\n",
              "      --disabled-bg-color: #3B4455;\n",
              "      --disabled-fill-color: #666;\n",
              "  }\n",
              "\n",
              "  .colab-df-quickchart {\n",
              "    background-color: var(--bg-color);\n",
              "    border: none;\n",
              "    border-radius: 50%;\n",
              "    cursor: pointer;\n",
              "    display: none;\n",
              "    fill: var(--fill-color);\n",
              "    height: 32px;\n",
              "    padding: 0;\n",
              "    width: 32px;\n",
              "  }\n",
              "\n",
              "  .colab-df-quickchart:hover {\n",
              "    background-color: var(--hover-bg-color);\n",
              "    box-shadow: 0 1px 2px rgba(60, 64, 67, 0.3), 0 1px 3px 1px rgba(60, 64, 67, 0.15);\n",
              "    fill: var(--button-hover-fill-color);\n",
              "  }\n",
              "\n",
              "  .colab-df-quickchart-complete:disabled,\n",
              "  .colab-df-quickchart-complete:disabled:hover {\n",
              "    background-color: var(--disabled-bg-color);\n",
              "    fill: var(--disabled-fill-color);\n",
              "    box-shadow: none;\n",
              "  }\n",
              "\n",
              "  .colab-df-spinner {\n",
              "    border: 2px solid var(--fill-color);\n",
              "    border-color: transparent;\n",
              "    border-bottom-color: var(--fill-color);\n",
              "    animation:\n",
              "      spin 1s steps(1) infinite;\n",
              "  }\n",
              "\n",
              "  @keyframes spin {\n",
              "    0% {\n",
              "      border-color: transparent;\n",
              "      border-bottom-color: var(--fill-color);\n",
              "      border-left-color: var(--fill-color);\n",
              "    }\n",
              "    20% {\n",
              "      border-color: transparent;\n",
              "      border-left-color: var(--fill-color);\n",
              "      border-top-color: var(--fill-color);\n",
              "    }\n",
              "    30% {\n",
              "      border-color: transparent;\n",
              "      border-left-color: var(--fill-color);\n",
              "      border-top-color: var(--fill-color);\n",
              "      border-right-color: var(--fill-color);\n",
              "    }\n",
              "    40% {\n",
              "      border-color: transparent;\n",
              "      border-right-color: var(--fill-color);\n",
              "      border-top-color: var(--fill-color);\n",
              "    }\n",
              "    60% {\n",
              "      border-color: transparent;\n",
              "      border-right-color: var(--fill-color);\n",
              "    }\n",
              "    80% {\n",
              "      border-color: transparent;\n",
              "      border-right-color: var(--fill-color);\n",
              "      border-bottom-color: var(--fill-color);\n",
              "    }\n",
              "    90% {\n",
              "      border-color: transparent;\n",
              "      border-bottom-color: var(--fill-color);\n",
              "    }\n",
              "  }\n",
              "</style>\n",
              "\n",
              "  <script>\n",
              "    async function quickchart(key) {\n",
              "      const quickchartButtonEl =\n",
              "        document.querySelector('#' + key + ' button');\n",
              "      quickchartButtonEl.disabled = true;  // To prevent multiple clicks.\n",
              "      quickchartButtonEl.classList.add('colab-df-spinner');\n",
              "      try {\n",
              "        const charts = await google.colab.kernel.invokeFunction(\n",
              "            'suggestCharts', [key], {});\n",
              "      } catch (error) {\n",
              "        console.error('Error during call to suggestCharts:', error);\n",
              "      }\n",
              "      quickchartButtonEl.classList.remove('colab-df-spinner');\n",
              "      quickchartButtonEl.classList.add('colab-df-quickchart-complete');\n",
              "    }\n",
              "    (() => {\n",
              "      let quickchartButtonEl =\n",
              "        document.querySelector('#df-7f5a4ec8-6072-4d8a-9be5-96e6beb7e8de button');\n",
              "      quickchartButtonEl.style.display =\n",
              "        google.colab.kernel.accessAllowed ? 'block' : 'none';\n",
              "    })();\n",
              "  </script>\n",
              "</div>\n",
              "\n",
              "    </div>\n",
              "  </div>\n"
            ],
            "application/vnd.google.colaboratory.intrinsic+json": {
              "type": "dataframe",
              "variable_name": "data",
              "summary": "{\n  \"name\": \"data\",\n  \"rows\": 109,\n  \"fields\": [\n    {\n      \"column\": \"Review\",\n      \"properties\": {\n        \"dtype\": \"string\",\n        \"num_unique_values\": 109,\n        \"samples\": [\n          \"nice hotel husband stayed crown plaza spring break, arrival told given room beds booked king bed, matter resolved quickly, staff helpful met requests, room large clean quiet great view, location hotel decent, overall great experience, really no complaints said elevators bit slow, stay,  \",\n          \"poor value stayed monaco seattle july, nice hotel priced 100- 150 night not, hotel takes beating quotient, experience simply average, nothing exceptional paying 300+ n't ca n't terribly disappointed, wife stayed nicest suites 200/night felt like overpaying, best advice shop, quality-wise league average marriott nice best western,  \",\n          \"great stay great stay, went seahawk game awesome, downfall view building did n't complain, room huge staff helpful, booked hotels website seahawk package, no charge parking got voucher taxi, problem taxi driver did n't want accept voucher barely spoke english, funny thing speak arabic called started making comments girlfriend cell phone buddy, took second realize just said fact speak language face priceless, ass told, said large city, told head doorman issue called cab company promply answer did n't, apologized offered pay taxi, bucks 2 miles stadium, game plan taxi return going humpin, great walk did n't mind, right christmas wonderful lights, homeless stowed away building entrances leave, police presence not greatest area stadium, activities 7 blocks pike street waterfront great coffee shops way, hotel mantained foyer awesome, wine tasting available evening, best dog, taking st. bernard time family, safes hotel located service desk room, bathroom huge jetted tub huge, funny house keeping walked girlfriend getting dressed, did n't hear knock doing turn service, screamed girlfriend screams hit floor laughing, started talking spanish worked, place recommend price, check online deals just good not better, besite contains deals vouchers travel websites n't tell,  \"\n        ],\n        \"semantic_type\": \"\",\n        \"description\": \"\"\n      }\n    },\n    {\n      \"column\": \"Rating\",\n      \"properties\": {\n        \"dtype\": \"number\",\n        \"std\": 1,\n        \"min\": 1,\n        \"max\": 5,\n        \"num_unique_values\": 5,\n        \"samples\": [\n          2,\n          1,\n          3\n        ],\n        \"semantic_type\": \"\",\n        \"description\": \"\"\n      }\n    },\n    {\n      \"column\": \"review_lowercase\",\n      \"properties\": {\n        \"dtype\": \"string\",\n        \"num_unique_values\": 109,\n        \"samples\": [\n          \"nice hotel husband stayed crown plaza spring break, arrival told given room beds booked king bed, matter resolved quickly, staff helpful met requests, room large clean quiet great view, location hotel decent, overall great experience, really no complaints said elevators bit slow, stay,  \",\n          \"poor value stayed monaco seattle july, nice hotel priced 100- 150 night not, hotel takes beating quotient, experience simply average, nothing exceptional paying 300+ n't ca n't terribly disappointed, wife stayed nicest suites 200/night felt like overpaying, best advice shop, quality-wise league average marriott nice best western,  \",\n          \"great stay great stay, went seahawk game awesome, downfall view building did n't complain, room huge staff helpful, booked hotels website seahawk package, no charge parking got voucher taxi, problem taxi driver did n't want accept voucher barely spoke english, funny thing speak arabic called started making comments girlfriend cell phone buddy, took second realize just said fact speak language face priceless, ass told, said large city, told head doorman issue called cab company promply answer did n't, apologized offered pay taxi, bucks 2 miles stadium, game plan taxi return going humpin, great walk did n't mind, right christmas wonderful lights, homeless stowed away building entrances leave, police presence not greatest area stadium, activities 7 blocks pike street waterfront great coffee shops way, hotel mantained foyer awesome, wine tasting available evening, best dog, taking st. bernard time family, safes hotel located service desk room, bathroom huge jetted tub huge, funny house keeping walked girlfriend getting dressed, did n't hear knock doing turn service, screamed girlfriend screams hit floor laughing, started talking spanish worked, place recommend price, check online deals just good not better, besite contains deals vouchers travel websites n't tell,  \"\n        ],\n        \"semantic_type\": \"\",\n        \"description\": \"\"\n      }\n    },\n    {\n      \"column\": \"review_no_stopwords\",\n      \"properties\": {\n        \"dtype\": \"string\",\n        \"num_unique_values\": 109,\n        \"samples\": [\n          \"nice hotel husband stayed crown plaza spring break, arrival told given room beds booked king bed, matter resolved quickly, staff helpful met requests, room large clean quiet great view, location hotel decent, overall great experience, really complaints said elevators bit slow, stay,\",\n          \"poor value stayed monaco seattle july, nice hotel priced 100- 150 night not, hotel takes beating quotient, experience simply average, nothing exceptional paying 300+ n't ca n't terribly disappointed, wife stayed nicest suites 200/night felt like overpaying, best advice shop, quality-wise league average marriott nice best western,\",\n          \"great stay great stay, went seahawk game awesome, downfall view building n't complain, room huge staff helpful, booked hotels website seahawk package, charge parking got voucher taxi, problem taxi driver n't want accept voucher barely spoke english, funny thing speak arabic called started making comments girlfriend cell phone buddy, took second realize said fact speak language face priceless, ass told, said large city, told head doorman issue called cab company promply answer n't, apologized offered pay taxi, bucks 2 miles stadium, game plan taxi return going humpin, great walk n't mind, right christmas wonderful lights, homeless stowed away building entrances leave, police presence not greatest area stadium, activities 7 blocks pike street waterfront great coffee shops way, hotel mantained foyer awesome, wine tasting available evening, best dog, taking st. bernard time family, safes hotel located service desk room, bathroom huge jetted tub huge, funny house keeping walked girlfriend getting dressed, n't hear knock turn service, screamed girlfriend screams hit floor laughing, started talking spanish worked, place recommend price, check online deals good not better, besite contains deals vouchers travel websites n't tell,\"\n        ],\n        \"semantic_type\": \"\",\n        \"description\": \"\"\n      }\n    },\n    {\n      \"column\": \"review_no_stopwords_no_punct\",\n      \"properties\": {\n        \"dtype\": \"string\",\n        \"num_unique_values\": 109,\n        \"samples\": [\n          \"nice hotel husband stayed crown plaza spring break arrival told given room beds booked king bed matter resolved quickly staff helpful met requests room large clean quiet great view location hotel decent overall great experience really complaints said elevators bit slow stay\",\n          \"poor value stayed monaco seattle july nice hotel priced 100 150 night not hotel takes beating quotient experience simply average nothing exceptional paying 300 nt ca nt terribly disappointed wife stayed nicest suites 200night felt like overpaying best advice shop qualitywise league average marriott nice best western\",\n          \"great stay great stay went seahawk game awesome downfall view building nt complain room huge staff helpful booked hotels website seahawk package charge parking got voucher taxi problem taxi driver nt want accept voucher barely spoke english funny thing speak arabic called started making comments girlfriend cell phone buddy took second realize said fact speak language face priceless ass told said large city told head doorman issue called cab company promply answer nt apologized offered pay taxi bucks 2 miles stadium game plan taxi return going humpin great walk nt mind right christmas wonderful lights homeless stowed away building entrances leave police presence not greatest area stadium activities 7 blocks pike street waterfront great coffee shops way hotel mantained foyer awesome wine tasting available evening best dog taking st bernard time family safes hotel located service desk room bathroom huge jetted tub huge funny house keeping walked girlfriend getting dressed nt hear knock turn service screamed girlfriend screams hit floor laughing started talking spanish worked place recommend price check online deals good not better besite contains deals vouchers travel websites nt tell\"\n        ],\n        \"semantic_type\": \"\",\n        \"description\": \"\"\n      }\n    },\n    {\n      \"column\": \"tokenized\",\n      \"properties\": {\n        \"dtype\": \"object\",\n        \"semantic_type\": \"\",\n        \"description\": \"\"\n      }\n    },\n    {\n      \"column\": \"stemmed\",\n      \"properties\": {\n        \"dtype\": \"object\",\n        \"semantic_type\": \"\",\n        \"description\": \"\"\n      }\n    }\n  ]\n}"
            }
          },
          "metadata": {},
          "execution_count": 21
        }
      ]
    },
    {
      "cell_type": "code",
      "source": [
        "# Lemmatization\n",
        "lemmatizer = WordNetLemmatizer()\n",
        "data[\"lemmatized\"] = data[\"tokenized\"].apply(lambda x: [lemmatizer.lemmatize(word) for word in x])\n",
        "data.head()"
      ],
      "metadata": {
        "colab": {
          "base_uri": "https://localhost:8080/",
          "height": 449
        },
        "id": "yec8nCm7i_BG",
        "outputId": "67692e93-aa65-4a81-cab4-f8fa944da701"
      },
      "execution_count": null,
      "outputs": [
        {
          "output_type": "execute_result",
          "data": {
            "text/plain": [
              "                                              Review  Rating  \\\n",
              "0  nice hotel expensive parking got good deal sta...       4   \n",
              "1  ok nothing special charge diamond member hilto...       2   \n",
              "2  nice rooms not 4* experience hotel monaco seat...       3   \n",
              "3  unique, great stay, wonderful time hotel monac...       5   \n",
              "4  great stay great stay, went seahawk game aweso...       5   \n",
              "\n",
              "                                    review_lowercase  \\\n",
              "0  nice hotel expensive parking got good deal sta...   \n",
              "1  ok nothing special charge diamond member hilto...   \n",
              "2  nice rooms not 4* experience hotel monaco seat...   \n",
              "3  unique, great stay, wonderful time hotel monac...   \n",
              "4  great stay great stay, went seahawk game aweso...   \n",
              "\n",
              "                                 review_no_stopwords  \\\n",
              "0  nice hotel expensive parking got good deal sta...   \n",
              "1  ok nothing special charge diamond member hilto...   \n",
              "2  nice rooms not 4* experience hotel monaco seat...   \n",
              "3  unique, great stay, wonderful time hotel monac...   \n",
              "4  great stay great stay, went seahawk game aweso...   \n",
              "\n",
              "                        review_no_stopwords_no_punct  \\\n",
              "0  nice hotel expensive parking got good deal sta...   \n",
              "1  ok nothing special charge diamond member hilto...   \n",
              "2  nice rooms not 4 experience hotel monaco seatt...   \n",
              "3  unique great stay wonderful time hotel monaco ...   \n",
              "4  great stay great stay went seahawk game awesom...   \n",
              "\n",
              "                                           tokenized  \\\n",
              "0  [nice, hotel, expensive, parking, got, good, d...   \n",
              "1  [ok, nothing, special, charge, diamond, member...   \n",
              "2  [nice, rooms, not, 4, experience, hotel, monac...   \n",
              "3  [unique, great, stay, wonderful, time, hotel, ...   \n",
              "4  [great, stay, great, stay, went, seahawk, game...   \n",
              "\n",
              "                                             stemmed  \\\n",
              "0  [nice, hotel, expens, park, got, good, deal, s...   \n",
              "1  [ok, noth, special, charg, diamond, member, hi...   \n",
              "2  [nice, room, not, 4, experi, hotel, monaco, se...   \n",
              "3  [uniqu, great, stay, wonder, time, hotel, mona...   \n",
              "4  [great, stay, great, stay, went, seahawk, game...   \n",
              "\n",
              "                                          lemmatized  \n",
              "0  [nice, hotel, expensive, parking, got, good, d...  \n",
              "1  [ok, nothing, special, charge, diamond, member...  \n",
              "2  [nice, room, not, 4, experience, hotel, monaco...  \n",
              "3  [unique, great, stay, wonderful, time, hotel, ...  \n",
              "4  [great, stay, great, stay, went, seahawk, game...  "
            ],
            "text/html": [
              "\n",
              "  <div id=\"df-b9ca1070-7f16-4e53-8006-541abf8dcdab\" class=\"colab-df-container\">\n",
              "    <div>\n",
              "<style scoped>\n",
              "    .dataframe tbody tr th:only-of-type {\n",
              "        vertical-align: middle;\n",
              "    }\n",
              "\n",
              "    .dataframe tbody tr th {\n",
              "        vertical-align: top;\n",
              "    }\n",
              "\n",
              "    .dataframe thead th {\n",
              "        text-align: right;\n",
              "    }\n",
              "</style>\n",
              "<table border=\"1\" class=\"dataframe\">\n",
              "  <thead>\n",
              "    <tr style=\"text-align: right;\">\n",
              "      <th></th>\n",
              "      <th>Review</th>\n",
              "      <th>Rating</th>\n",
              "      <th>review_lowercase</th>\n",
              "      <th>review_no_stopwords</th>\n",
              "      <th>review_no_stopwords_no_punct</th>\n",
              "      <th>tokenized</th>\n",
              "      <th>stemmed</th>\n",
              "      <th>lemmatized</th>\n",
              "    </tr>\n",
              "  </thead>\n",
              "  <tbody>\n",
              "    <tr>\n",
              "      <th>0</th>\n",
              "      <td>nice hotel expensive parking got good deal sta...</td>\n",
              "      <td>4</td>\n",
              "      <td>nice hotel expensive parking got good deal sta...</td>\n",
              "      <td>nice hotel expensive parking got good deal sta...</td>\n",
              "      <td>nice hotel expensive parking got good deal sta...</td>\n",
              "      <td>[nice, hotel, expensive, parking, got, good, d...</td>\n",
              "      <td>[nice, hotel, expens, park, got, good, deal, s...</td>\n",
              "      <td>[nice, hotel, expensive, parking, got, good, d...</td>\n",
              "    </tr>\n",
              "    <tr>\n",
              "      <th>1</th>\n",
              "      <td>ok nothing special charge diamond member hilto...</td>\n",
              "      <td>2</td>\n",
              "      <td>ok nothing special charge diamond member hilto...</td>\n",
              "      <td>ok nothing special charge diamond member hilto...</td>\n",
              "      <td>ok nothing special charge diamond member hilto...</td>\n",
              "      <td>[ok, nothing, special, charge, diamond, member...</td>\n",
              "      <td>[ok, noth, special, charg, diamond, member, hi...</td>\n",
              "      <td>[ok, nothing, special, charge, diamond, member...</td>\n",
              "    </tr>\n",
              "    <tr>\n",
              "      <th>2</th>\n",
              "      <td>nice rooms not 4* experience hotel monaco seat...</td>\n",
              "      <td>3</td>\n",
              "      <td>nice rooms not 4* experience hotel monaco seat...</td>\n",
              "      <td>nice rooms not 4* experience hotel monaco seat...</td>\n",
              "      <td>nice rooms not 4 experience hotel monaco seatt...</td>\n",
              "      <td>[nice, rooms, not, 4, experience, hotel, monac...</td>\n",
              "      <td>[nice, room, not, 4, experi, hotel, monaco, se...</td>\n",
              "      <td>[nice, room, not, 4, experience, hotel, monaco...</td>\n",
              "    </tr>\n",
              "    <tr>\n",
              "      <th>3</th>\n",
              "      <td>unique, great stay, wonderful time hotel monac...</td>\n",
              "      <td>5</td>\n",
              "      <td>unique, great stay, wonderful time hotel monac...</td>\n",
              "      <td>unique, great stay, wonderful time hotel monac...</td>\n",
              "      <td>unique great stay wonderful time hotel monaco ...</td>\n",
              "      <td>[unique, great, stay, wonderful, time, hotel, ...</td>\n",
              "      <td>[uniqu, great, stay, wonder, time, hotel, mona...</td>\n",
              "      <td>[unique, great, stay, wonderful, time, hotel, ...</td>\n",
              "    </tr>\n",
              "    <tr>\n",
              "      <th>4</th>\n",
              "      <td>great stay great stay, went seahawk game aweso...</td>\n",
              "      <td>5</td>\n",
              "      <td>great stay great stay, went seahawk game aweso...</td>\n",
              "      <td>great stay great stay, went seahawk game aweso...</td>\n",
              "      <td>great stay great stay went seahawk game awesom...</td>\n",
              "      <td>[great, stay, great, stay, went, seahawk, game...</td>\n",
              "      <td>[great, stay, great, stay, went, seahawk, game...</td>\n",
              "      <td>[great, stay, great, stay, went, seahawk, game...</td>\n",
              "    </tr>\n",
              "  </tbody>\n",
              "</table>\n",
              "</div>\n",
              "    <div class=\"colab-df-buttons\">\n",
              "\n",
              "  <div class=\"colab-df-container\">\n",
              "    <button class=\"colab-df-convert\" onclick=\"convertToInteractive('df-b9ca1070-7f16-4e53-8006-541abf8dcdab')\"\n",
              "            title=\"Convert this dataframe to an interactive table.\"\n",
              "            style=\"display:none;\">\n",
              "\n",
              "  <svg xmlns=\"http://www.w3.org/2000/svg\" height=\"24px\" viewBox=\"0 -960 960 960\">\n",
              "    <path d=\"M120-120v-720h720v720H120Zm60-500h600v-160H180v160Zm220 220h160v-160H400v160Zm0 220h160v-160H400v160ZM180-400h160v-160H180v160Zm440 0h160v-160H620v160ZM180-180h160v-160H180v160Zm440 0h160v-160H620v160Z\"/>\n",
              "  </svg>\n",
              "    </button>\n",
              "\n",
              "  <style>\n",
              "    .colab-df-container {\n",
              "      display:flex;\n",
              "      gap: 12px;\n",
              "    }\n",
              "\n",
              "    .colab-df-convert {\n",
              "      background-color: #E8F0FE;\n",
              "      border: none;\n",
              "      border-radius: 50%;\n",
              "      cursor: pointer;\n",
              "      display: none;\n",
              "      fill: #1967D2;\n",
              "      height: 32px;\n",
              "      padding: 0 0 0 0;\n",
              "      width: 32px;\n",
              "    }\n",
              "\n",
              "    .colab-df-convert:hover {\n",
              "      background-color: #E2EBFA;\n",
              "      box-shadow: 0px 1px 2px rgba(60, 64, 67, 0.3), 0px 1px 3px 1px rgba(60, 64, 67, 0.15);\n",
              "      fill: #174EA6;\n",
              "    }\n",
              "\n",
              "    .colab-df-buttons div {\n",
              "      margin-bottom: 4px;\n",
              "    }\n",
              "\n",
              "    [theme=dark] .colab-df-convert {\n",
              "      background-color: #3B4455;\n",
              "      fill: #D2E3FC;\n",
              "    }\n",
              "\n",
              "    [theme=dark] .colab-df-convert:hover {\n",
              "      background-color: #434B5C;\n",
              "      box-shadow: 0px 1px 3px 1px rgba(0, 0, 0, 0.15);\n",
              "      filter: drop-shadow(0px 1px 2px rgba(0, 0, 0, 0.3));\n",
              "      fill: #FFFFFF;\n",
              "    }\n",
              "  </style>\n",
              "\n",
              "    <script>\n",
              "      const buttonEl =\n",
              "        document.querySelector('#df-b9ca1070-7f16-4e53-8006-541abf8dcdab button.colab-df-convert');\n",
              "      buttonEl.style.display =\n",
              "        google.colab.kernel.accessAllowed ? 'block' : 'none';\n",
              "\n",
              "      async function convertToInteractive(key) {\n",
              "        const element = document.querySelector('#df-b9ca1070-7f16-4e53-8006-541abf8dcdab');\n",
              "        const dataTable =\n",
              "          await google.colab.kernel.invokeFunction('convertToInteractive',\n",
              "                                                    [key], {});\n",
              "        if (!dataTable) return;\n",
              "\n",
              "        const docLinkHtml = 'Like what you see? Visit the ' +\n",
              "          '<a target=\"_blank\" href=https://colab.research.google.com/notebooks/data_table.ipynb>data table notebook</a>'\n",
              "          + ' to learn more about interactive tables.';\n",
              "        element.innerHTML = '';\n",
              "        dataTable['output_type'] = 'display_data';\n",
              "        await google.colab.output.renderOutput(dataTable, element);\n",
              "        const docLink = document.createElement('div');\n",
              "        docLink.innerHTML = docLinkHtml;\n",
              "        element.appendChild(docLink);\n",
              "      }\n",
              "    </script>\n",
              "  </div>\n",
              "\n",
              "\n",
              "<div id=\"df-3a3ea157-47ef-4edc-86a4-2ed9917913e9\">\n",
              "  <button class=\"colab-df-quickchart\" onclick=\"quickchart('df-3a3ea157-47ef-4edc-86a4-2ed9917913e9')\"\n",
              "            title=\"Suggest charts\"\n",
              "            style=\"display:none;\">\n",
              "\n",
              "<svg xmlns=\"http://www.w3.org/2000/svg\" height=\"24px\"viewBox=\"0 0 24 24\"\n",
              "     width=\"24px\">\n",
              "    <g>\n",
              "        <path d=\"M19 3H5c-1.1 0-2 .9-2 2v14c0 1.1.9 2 2 2h14c1.1 0 2-.9 2-2V5c0-1.1-.9-2-2-2zM9 17H7v-7h2v7zm4 0h-2V7h2v10zm4 0h-2v-4h2v4z\"/>\n",
              "    </g>\n",
              "</svg>\n",
              "  </button>\n",
              "\n",
              "<style>\n",
              "  .colab-df-quickchart {\n",
              "      --bg-color: #E8F0FE;\n",
              "      --fill-color: #1967D2;\n",
              "      --hover-bg-color: #E2EBFA;\n",
              "      --hover-fill-color: #174EA6;\n",
              "      --disabled-fill-color: #AAA;\n",
              "      --disabled-bg-color: #DDD;\n",
              "  }\n",
              "\n",
              "  [theme=dark] .colab-df-quickchart {\n",
              "      --bg-color: #3B4455;\n",
              "      --fill-color: #D2E3FC;\n",
              "      --hover-bg-color: #434B5C;\n",
              "      --hover-fill-color: #FFFFFF;\n",
              "      --disabled-bg-color: #3B4455;\n",
              "      --disabled-fill-color: #666;\n",
              "  }\n",
              "\n",
              "  .colab-df-quickchart {\n",
              "    background-color: var(--bg-color);\n",
              "    border: none;\n",
              "    border-radius: 50%;\n",
              "    cursor: pointer;\n",
              "    display: none;\n",
              "    fill: var(--fill-color);\n",
              "    height: 32px;\n",
              "    padding: 0;\n",
              "    width: 32px;\n",
              "  }\n",
              "\n",
              "  .colab-df-quickchart:hover {\n",
              "    background-color: var(--hover-bg-color);\n",
              "    box-shadow: 0 1px 2px rgba(60, 64, 67, 0.3), 0 1px 3px 1px rgba(60, 64, 67, 0.15);\n",
              "    fill: var(--button-hover-fill-color);\n",
              "  }\n",
              "\n",
              "  .colab-df-quickchart-complete:disabled,\n",
              "  .colab-df-quickchart-complete:disabled:hover {\n",
              "    background-color: var(--disabled-bg-color);\n",
              "    fill: var(--disabled-fill-color);\n",
              "    box-shadow: none;\n",
              "  }\n",
              "\n",
              "  .colab-df-spinner {\n",
              "    border: 2px solid var(--fill-color);\n",
              "    border-color: transparent;\n",
              "    border-bottom-color: var(--fill-color);\n",
              "    animation:\n",
              "      spin 1s steps(1) infinite;\n",
              "  }\n",
              "\n",
              "  @keyframes spin {\n",
              "    0% {\n",
              "      border-color: transparent;\n",
              "      border-bottom-color: var(--fill-color);\n",
              "      border-left-color: var(--fill-color);\n",
              "    }\n",
              "    20% {\n",
              "      border-color: transparent;\n",
              "      border-left-color: var(--fill-color);\n",
              "      border-top-color: var(--fill-color);\n",
              "    }\n",
              "    30% {\n",
              "      border-color: transparent;\n",
              "      border-left-color: var(--fill-color);\n",
              "      border-top-color: var(--fill-color);\n",
              "      border-right-color: var(--fill-color);\n",
              "    }\n",
              "    40% {\n",
              "      border-color: transparent;\n",
              "      border-right-color: var(--fill-color);\n",
              "      border-top-color: var(--fill-color);\n",
              "    }\n",
              "    60% {\n",
              "      border-color: transparent;\n",
              "      border-right-color: var(--fill-color);\n",
              "    }\n",
              "    80% {\n",
              "      border-color: transparent;\n",
              "      border-right-color: var(--fill-color);\n",
              "      border-bottom-color: var(--fill-color);\n",
              "    }\n",
              "    90% {\n",
              "      border-color: transparent;\n",
              "      border-bottom-color: var(--fill-color);\n",
              "    }\n",
              "  }\n",
              "</style>\n",
              "\n",
              "  <script>\n",
              "    async function quickchart(key) {\n",
              "      const quickchartButtonEl =\n",
              "        document.querySelector('#' + key + ' button');\n",
              "      quickchartButtonEl.disabled = true;  // To prevent multiple clicks.\n",
              "      quickchartButtonEl.classList.add('colab-df-spinner');\n",
              "      try {\n",
              "        const charts = await google.colab.kernel.invokeFunction(\n",
              "            'suggestCharts', [key], {});\n",
              "      } catch (error) {\n",
              "        console.error('Error during call to suggestCharts:', error);\n",
              "      }\n",
              "      quickchartButtonEl.classList.remove('colab-df-spinner');\n",
              "      quickchartButtonEl.classList.add('colab-df-quickchart-complete');\n",
              "    }\n",
              "    (() => {\n",
              "      let quickchartButtonEl =\n",
              "        document.querySelector('#df-3a3ea157-47ef-4edc-86a4-2ed9917913e9 button');\n",
              "      quickchartButtonEl.style.display =\n",
              "        google.colab.kernel.accessAllowed ? 'block' : 'none';\n",
              "    })();\n",
              "  </script>\n",
              "</div>\n",
              "\n",
              "    </div>\n",
              "  </div>\n"
            ],
            "application/vnd.google.colaboratory.intrinsic+json": {
              "type": "dataframe",
              "variable_name": "data",
              "summary": "{\n  \"name\": \"data\",\n  \"rows\": 109,\n  \"fields\": [\n    {\n      \"column\": \"Review\",\n      \"properties\": {\n        \"dtype\": \"string\",\n        \"num_unique_values\": 109,\n        \"samples\": [\n          \"nice hotel husband stayed crown plaza spring break, arrival told given room beds booked king bed, matter resolved quickly, staff helpful met requests, room large clean quiet great view, location hotel decent, overall great experience, really no complaints said elevators bit slow, stay,  \",\n          \"poor value stayed monaco seattle july, nice hotel priced 100- 150 night not, hotel takes beating quotient, experience simply average, nothing exceptional paying 300+ n't ca n't terribly disappointed, wife stayed nicest suites 200/night felt like overpaying, best advice shop, quality-wise league average marriott nice best western,  \",\n          \"great stay great stay, went seahawk game awesome, downfall view building did n't complain, room huge staff helpful, booked hotels website seahawk package, no charge parking got voucher taxi, problem taxi driver did n't want accept voucher barely spoke english, funny thing speak arabic called started making comments girlfriend cell phone buddy, took second realize just said fact speak language face priceless, ass told, said large city, told head doorman issue called cab company promply answer did n't, apologized offered pay taxi, bucks 2 miles stadium, game plan taxi return going humpin, great walk did n't mind, right christmas wonderful lights, homeless stowed away building entrances leave, police presence not greatest area stadium, activities 7 blocks pike street waterfront great coffee shops way, hotel mantained foyer awesome, wine tasting available evening, best dog, taking st. bernard time family, safes hotel located service desk room, bathroom huge jetted tub huge, funny house keeping walked girlfriend getting dressed, did n't hear knock doing turn service, screamed girlfriend screams hit floor laughing, started talking spanish worked, place recommend price, check online deals just good not better, besite contains deals vouchers travel websites n't tell,  \"\n        ],\n        \"semantic_type\": \"\",\n        \"description\": \"\"\n      }\n    },\n    {\n      \"column\": \"Rating\",\n      \"properties\": {\n        \"dtype\": \"number\",\n        \"std\": 1,\n        \"min\": 1,\n        \"max\": 5,\n        \"num_unique_values\": 5,\n        \"samples\": [\n          2,\n          1,\n          3\n        ],\n        \"semantic_type\": \"\",\n        \"description\": \"\"\n      }\n    },\n    {\n      \"column\": \"review_lowercase\",\n      \"properties\": {\n        \"dtype\": \"string\",\n        \"num_unique_values\": 109,\n        \"samples\": [\n          \"nice hotel husband stayed crown plaza spring break, arrival told given room beds booked king bed, matter resolved quickly, staff helpful met requests, room large clean quiet great view, location hotel decent, overall great experience, really no complaints said elevators bit slow, stay,  \",\n          \"poor value stayed monaco seattle july, nice hotel priced 100- 150 night not, hotel takes beating quotient, experience simply average, nothing exceptional paying 300+ n't ca n't terribly disappointed, wife stayed nicest suites 200/night felt like overpaying, best advice shop, quality-wise league average marriott nice best western,  \",\n          \"great stay great stay, went seahawk game awesome, downfall view building did n't complain, room huge staff helpful, booked hotels website seahawk package, no charge parking got voucher taxi, problem taxi driver did n't want accept voucher barely spoke english, funny thing speak arabic called started making comments girlfriend cell phone buddy, took second realize just said fact speak language face priceless, ass told, said large city, told head doorman issue called cab company promply answer did n't, apologized offered pay taxi, bucks 2 miles stadium, game plan taxi return going humpin, great walk did n't mind, right christmas wonderful lights, homeless stowed away building entrances leave, police presence not greatest area stadium, activities 7 blocks pike street waterfront great coffee shops way, hotel mantained foyer awesome, wine tasting available evening, best dog, taking st. bernard time family, safes hotel located service desk room, bathroom huge jetted tub huge, funny house keeping walked girlfriend getting dressed, did n't hear knock doing turn service, screamed girlfriend screams hit floor laughing, started talking spanish worked, place recommend price, check online deals just good not better, besite contains deals vouchers travel websites n't tell,  \"\n        ],\n        \"semantic_type\": \"\",\n        \"description\": \"\"\n      }\n    },\n    {\n      \"column\": \"review_no_stopwords\",\n      \"properties\": {\n        \"dtype\": \"string\",\n        \"num_unique_values\": 109,\n        \"samples\": [\n          \"nice hotel husband stayed crown plaza spring break, arrival told given room beds booked king bed, matter resolved quickly, staff helpful met requests, room large clean quiet great view, location hotel decent, overall great experience, really complaints said elevators bit slow, stay,\",\n          \"poor value stayed monaco seattle july, nice hotel priced 100- 150 night not, hotel takes beating quotient, experience simply average, nothing exceptional paying 300+ n't ca n't terribly disappointed, wife stayed nicest suites 200/night felt like overpaying, best advice shop, quality-wise league average marriott nice best western,\",\n          \"great stay great stay, went seahawk game awesome, downfall view building n't complain, room huge staff helpful, booked hotels website seahawk package, charge parking got voucher taxi, problem taxi driver n't want accept voucher barely spoke english, funny thing speak arabic called started making comments girlfriend cell phone buddy, took second realize said fact speak language face priceless, ass told, said large city, told head doorman issue called cab company promply answer n't, apologized offered pay taxi, bucks 2 miles stadium, game plan taxi return going humpin, great walk n't mind, right christmas wonderful lights, homeless stowed away building entrances leave, police presence not greatest area stadium, activities 7 blocks pike street waterfront great coffee shops way, hotel mantained foyer awesome, wine tasting available evening, best dog, taking st. bernard time family, safes hotel located service desk room, bathroom huge jetted tub huge, funny house keeping walked girlfriend getting dressed, n't hear knock turn service, screamed girlfriend screams hit floor laughing, started talking spanish worked, place recommend price, check online deals good not better, besite contains deals vouchers travel websites n't tell,\"\n        ],\n        \"semantic_type\": \"\",\n        \"description\": \"\"\n      }\n    },\n    {\n      \"column\": \"review_no_stopwords_no_punct\",\n      \"properties\": {\n        \"dtype\": \"string\",\n        \"num_unique_values\": 109,\n        \"samples\": [\n          \"nice hotel husband stayed crown plaza spring break arrival told given room beds booked king bed matter resolved quickly staff helpful met requests room large clean quiet great view location hotel decent overall great experience really complaints said elevators bit slow stay\",\n          \"poor value stayed monaco seattle july nice hotel priced 100 150 night not hotel takes beating quotient experience simply average nothing exceptional paying 300 nt ca nt terribly disappointed wife stayed nicest suites 200night felt like overpaying best advice shop qualitywise league average marriott nice best western\",\n          \"great stay great stay went seahawk game awesome downfall view building nt complain room huge staff helpful booked hotels website seahawk package charge parking got voucher taxi problem taxi driver nt want accept voucher barely spoke english funny thing speak arabic called started making comments girlfriend cell phone buddy took second realize said fact speak language face priceless ass told said large city told head doorman issue called cab company promply answer nt apologized offered pay taxi bucks 2 miles stadium game plan taxi return going humpin great walk nt mind right christmas wonderful lights homeless stowed away building entrances leave police presence not greatest area stadium activities 7 blocks pike street waterfront great coffee shops way hotel mantained foyer awesome wine tasting available evening best dog taking st bernard time family safes hotel located service desk room bathroom huge jetted tub huge funny house keeping walked girlfriend getting dressed nt hear knock turn service screamed girlfriend screams hit floor laughing started talking spanish worked place recommend price check online deals good not better besite contains deals vouchers travel websites nt tell\"\n        ],\n        \"semantic_type\": \"\",\n        \"description\": \"\"\n      }\n    },\n    {\n      \"column\": \"tokenized\",\n      \"properties\": {\n        \"dtype\": \"object\",\n        \"semantic_type\": \"\",\n        \"description\": \"\"\n      }\n    },\n    {\n      \"column\": \"stemmed\",\n      \"properties\": {\n        \"dtype\": \"object\",\n        \"semantic_type\": \"\",\n        \"description\": \"\"\n      }\n    },\n    {\n      \"column\": \"lemmatized\",\n      \"properties\": {\n        \"dtype\": \"object\",\n        \"semantic_type\": \"\",\n        \"description\": \"\"\n      }\n    }\n  ]\n}"
            }
          },
          "metadata": {},
          "execution_count": 24
        }
      ]
    },
    {
      "cell_type": "code",
      "source": [
        "# N-grams\n",
        "tokens_clean = sum(data['lemmatized'], [])"
      ],
      "metadata": {
        "id": "MS_GeYUbjGsS"
      },
      "execution_count": null,
      "outputs": []
    },
    {
      "cell_type": "code",
      "source": [
        "# unigrams: n=1\n",
        "unigrams = (pd.Series(nltk.ngrams(tokens_clean, 1)).value_counts())\n",
        "unigrams"
      ],
      "metadata": {
        "colab": {
          "base_uri": "https://localhost:8080/",
          "height": 458
        },
        "id": "RZHkvVLEjQGg",
        "outputId": "f47e14a4-5c26-482c-906f-f5fa6df61a62"
      },
      "execution_count": null,
      "outputs": [
        {
          "output_type": "execute_result",
          "data": {
            "text/plain": [
              "(hotel,)           292\n",
              "(room,)            275\n",
              "(great,)           126\n",
              "(not,)             122\n",
              "(stay,)             95\n",
              "                  ... \n",
              "(travelodge,)        1\n",
              "(la,)                1\n",
              "(smackagainst,)      1\n",
              "(stomach,)           1\n",
              "(connected,)         1\n",
              "Name: count, Length: 2587, dtype: int64"
            ],
            "text/html": [
              "<div>\n",
              "<style scoped>\n",
              "    .dataframe tbody tr th:only-of-type {\n",
              "        vertical-align: middle;\n",
              "    }\n",
              "\n",
              "    .dataframe tbody tr th {\n",
              "        vertical-align: top;\n",
              "    }\n",
              "\n",
              "    .dataframe thead th {\n",
              "        text-align: right;\n",
              "    }\n",
              "</style>\n",
              "<table border=\"1\" class=\"dataframe\">\n",
              "  <thead>\n",
              "    <tr style=\"text-align: right;\">\n",
              "      <th></th>\n",
              "      <th>count</th>\n",
              "    </tr>\n",
              "  </thead>\n",
              "  <tbody>\n",
              "    <tr>\n",
              "      <th>(hotel,)</th>\n",
              "      <td>292</td>\n",
              "    </tr>\n",
              "    <tr>\n",
              "      <th>(room,)</th>\n",
              "      <td>275</td>\n",
              "    </tr>\n",
              "    <tr>\n",
              "      <th>(great,)</th>\n",
              "      <td>126</td>\n",
              "    </tr>\n",
              "    <tr>\n",
              "      <th>(not,)</th>\n",
              "      <td>122</td>\n",
              "    </tr>\n",
              "    <tr>\n",
              "      <th>(stay,)</th>\n",
              "      <td>95</td>\n",
              "    </tr>\n",
              "    <tr>\n",
              "      <th>...</th>\n",
              "      <td>...</td>\n",
              "    </tr>\n",
              "    <tr>\n",
              "      <th>(travelodge,)</th>\n",
              "      <td>1</td>\n",
              "    </tr>\n",
              "    <tr>\n",
              "      <th>(la,)</th>\n",
              "      <td>1</td>\n",
              "    </tr>\n",
              "    <tr>\n",
              "      <th>(smackagainst,)</th>\n",
              "      <td>1</td>\n",
              "    </tr>\n",
              "    <tr>\n",
              "      <th>(stomach,)</th>\n",
              "      <td>1</td>\n",
              "    </tr>\n",
              "    <tr>\n",
              "      <th>(connected,)</th>\n",
              "      <td>1</td>\n",
              "    </tr>\n",
              "  </tbody>\n",
              "</table>\n",
              "<p>2587 rows × 1 columns</p>\n",
              "</div><br><label><b>dtype:</b> int64</label>"
            ]
          },
          "metadata": {},
          "execution_count": 31
        }
      ]
    },
    {
      "cell_type": "code",
      "source": [
        "# bigrams: n=2\n",
        "bigrams = (pd.Series(nltk.ngrams(tokens_clean, 2)).value_counts())\n",
        "bigrams"
      ],
      "metadata": {
        "colab": {
          "base_uri": "https://localhost:8080/",
          "height": 458
        },
        "id": "Vaxcs2cIjRUS",
        "outputId": "b9120da3-455c-4ba8-9d93-de2c251b7fe9"
      },
      "execution_count": null,
      "outputs": [
        {
          "output_type": "execute_result",
          "data": {
            "text/plain": [
              "(great, location)     24\n",
              "(space, needle)       21\n",
              "(hotel, monaco)       16\n",
              "(great, view)         12\n",
              "(staff, friendly)     12\n",
              "                      ..\n",
              "(like, guest)          1\n",
              "(didnt, make)          1\n",
              "(personnel, didnt)     1\n",
              "(minute, stay)         1\n",
              "(food, raffle)         1\n",
              "Name: count, Length: 8262, dtype: int64"
            ],
            "text/html": [
              "<div>\n",
              "<style scoped>\n",
              "    .dataframe tbody tr th:only-of-type {\n",
              "        vertical-align: middle;\n",
              "    }\n",
              "\n",
              "    .dataframe tbody tr th {\n",
              "        vertical-align: top;\n",
              "    }\n",
              "\n",
              "    .dataframe thead th {\n",
              "        text-align: right;\n",
              "    }\n",
              "</style>\n",
              "<table border=\"1\" class=\"dataframe\">\n",
              "  <thead>\n",
              "    <tr style=\"text-align: right;\">\n",
              "      <th></th>\n",
              "      <th>count</th>\n",
              "    </tr>\n",
              "  </thead>\n",
              "  <tbody>\n",
              "    <tr>\n",
              "      <th>(great, location)</th>\n",
              "      <td>24</td>\n",
              "    </tr>\n",
              "    <tr>\n",
              "      <th>(space, needle)</th>\n",
              "      <td>21</td>\n",
              "    </tr>\n",
              "    <tr>\n",
              "      <th>(hotel, monaco)</th>\n",
              "      <td>16</td>\n",
              "    </tr>\n",
              "    <tr>\n",
              "      <th>(great, view)</th>\n",
              "      <td>12</td>\n",
              "    </tr>\n",
              "    <tr>\n",
              "      <th>(staff, friendly)</th>\n",
              "      <td>12</td>\n",
              "    </tr>\n",
              "    <tr>\n",
              "      <th>...</th>\n",
              "      <td>...</td>\n",
              "    </tr>\n",
              "    <tr>\n",
              "      <th>(like, guest)</th>\n",
              "      <td>1</td>\n",
              "    </tr>\n",
              "    <tr>\n",
              "      <th>(didnt, make)</th>\n",
              "      <td>1</td>\n",
              "    </tr>\n",
              "    <tr>\n",
              "      <th>(personnel, didnt)</th>\n",
              "      <td>1</td>\n",
              "    </tr>\n",
              "    <tr>\n",
              "      <th>(minute, stay)</th>\n",
              "      <td>1</td>\n",
              "    </tr>\n",
              "    <tr>\n",
              "      <th>(food, raffle)</th>\n",
              "      <td>1</td>\n",
              "    </tr>\n",
              "  </tbody>\n",
              "</table>\n",
              "<p>8262 rows × 1 columns</p>\n",
              "</div><br><label><b>dtype:</b> int64</label>"
            ]
          },
          "metadata": {},
          "execution_count": 32
        }
      ]
    },
    {
      "cell_type": "markdown",
      "source": [
        "### Vectorizing Text\n",
        "\n",
        "transforms documents into numerical representations"
      ],
      "metadata": {
        "id": "QmHSP5XU1E1D"
      }
    },
    {
      "cell_type": "markdown",
      "source": [
        "#### Bag-of-Words (BoW)\n",
        "\n",
        "Bag of words featurization quantifies the frequency of words in text documents for processing in machine learning models."
      ],
      "metadata": {
        "id": "8glhvkyR3W90"
      }
    },
    {
      "cell_type": "code",
      "source": [
        "from sklearn.feature_extraction.text import CountVectorizer\n",
        "import pandas as pd"
      ],
      "metadata": {
        "id": "4OBNbnKn3TWk"
      },
      "execution_count": 10,
      "outputs": []
    },
    {
      "cell_type": "code",
      "source": [
        "# Example text corpus\n",
        "corpus = [\n",
        "    \"This is the first document.\",\n",
        "    \"This document is the second document.\",\n",
        "    \"And this is the third one.\",\n",
        "    \"Is this the first document?\",\n",
        "]"
      ],
      "metadata": {
        "id": "h7hvpdyF32zY"
      },
      "execution_count": 2,
      "outputs": []
    },
    {
      "cell_type": "code",
      "source": [
        "# Create an instance of the CountVectorizer\n",
        "vectorizer = CountVectorizer()"
      ],
      "metadata": {
        "id": "a7UZtTJz34Nq"
      },
      "execution_count": 3,
      "outputs": []
    },
    {
      "cell_type": "code",
      "source": [
        "# Fit and transform the corpus into a document-term matrix\n",
        "countvec_fit = vectorizer.fit_transform(corpus)"
      ],
      "metadata": {
        "id": "SNq2T4Aj36VF"
      },
      "execution_count": 7,
      "outputs": []
    },
    {
      "cell_type": "code",
      "source": [
        "# Print the vocabulary and the document-term matrix\n",
        "print(\"Vocabulary:\", vectorizer.get_feature_names_out())\n",
        "print(\"Document-Term Matrix:\")\n",
        "print(countvec_fit.toarray())"
      ],
      "metadata": {
        "colab": {
          "base_uri": "https://localhost:8080/"
        },
        "id": "xEp4ML0R38t5",
        "outputId": "9779869d-5a47-4591-b4ef-4142caf295a9"
      },
      "execution_count": 8,
      "outputs": [
        {
          "output_type": "stream",
          "name": "stdout",
          "text": [
            "Vocabulary: ['and' 'document' 'first' 'is' 'one' 'second' 'the' 'third' 'this']\n",
            "Document-Term Matrix:\n",
            "[[0 1 1 1 0 0 1 0 1]\n",
            " [0 2 0 1 0 1 1 0 1]\n",
            " [1 0 0 1 1 0 1 1 1]\n",
            " [0 1 1 1 0 0 1 0 1]]\n"
          ]
        }
      ]
    },
    {
      "cell_type": "code",
      "source": [
        "bag_of_words = pd.DataFrame(countvec_fit.toarray(), columns = vectorizer.get_feature_names_out())\n",
        "bag_of_words"
      ],
      "metadata": {
        "colab": {
          "base_uri": "https://localhost:8080/",
          "height": 175
        },
        "id": "bV-eAq0F3-5h",
        "outputId": "b809d4be-486b-436c-9713-73fa3ac79b13"
      },
      "execution_count": 11,
      "outputs": [
        {
          "output_type": "execute_result",
          "data": {
            "text/plain": [
              "   and  document  first  is  one  second  the  third  this\n",
              "0    0         1      1   1    0       0    1      0     1\n",
              "1    0         2      0   1    0       1    1      0     1\n",
              "2    1         0      0   1    1       0    1      1     1\n",
              "3    0         1      1   1    0       0    1      0     1"
            ],
            "text/html": [
              "\n",
              "  <div id=\"df-477c141d-2a08-4726-af5b-acbba82568f3\" class=\"colab-df-container\">\n",
              "    <div>\n",
              "<style scoped>\n",
              "    .dataframe tbody tr th:only-of-type {\n",
              "        vertical-align: middle;\n",
              "    }\n",
              "\n",
              "    .dataframe tbody tr th {\n",
              "        vertical-align: top;\n",
              "    }\n",
              "\n",
              "    .dataframe thead th {\n",
              "        text-align: right;\n",
              "    }\n",
              "</style>\n",
              "<table border=\"1\" class=\"dataframe\">\n",
              "  <thead>\n",
              "    <tr style=\"text-align: right;\">\n",
              "      <th></th>\n",
              "      <th>and</th>\n",
              "      <th>document</th>\n",
              "      <th>first</th>\n",
              "      <th>is</th>\n",
              "      <th>one</th>\n",
              "      <th>second</th>\n",
              "      <th>the</th>\n",
              "      <th>third</th>\n",
              "      <th>this</th>\n",
              "    </tr>\n",
              "  </thead>\n",
              "  <tbody>\n",
              "    <tr>\n",
              "      <th>0</th>\n",
              "      <td>0</td>\n",
              "      <td>1</td>\n",
              "      <td>1</td>\n",
              "      <td>1</td>\n",
              "      <td>0</td>\n",
              "      <td>0</td>\n",
              "      <td>1</td>\n",
              "      <td>0</td>\n",
              "      <td>1</td>\n",
              "    </tr>\n",
              "    <tr>\n",
              "      <th>1</th>\n",
              "      <td>0</td>\n",
              "      <td>2</td>\n",
              "      <td>0</td>\n",
              "      <td>1</td>\n",
              "      <td>0</td>\n",
              "      <td>1</td>\n",
              "      <td>1</td>\n",
              "      <td>0</td>\n",
              "      <td>1</td>\n",
              "    </tr>\n",
              "    <tr>\n",
              "      <th>2</th>\n",
              "      <td>1</td>\n",
              "      <td>0</td>\n",
              "      <td>0</td>\n",
              "      <td>1</td>\n",
              "      <td>1</td>\n",
              "      <td>0</td>\n",
              "      <td>1</td>\n",
              "      <td>1</td>\n",
              "      <td>1</td>\n",
              "    </tr>\n",
              "    <tr>\n",
              "      <th>3</th>\n",
              "      <td>0</td>\n",
              "      <td>1</td>\n",
              "      <td>1</td>\n",
              "      <td>1</td>\n",
              "      <td>0</td>\n",
              "      <td>0</td>\n",
              "      <td>1</td>\n",
              "      <td>0</td>\n",
              "      <td>1</td>\n",
              "    </tr>\n",
              "  </tbody>\n",
              "</table>\n",
              "</div>\n",
              "    <div class=\"colab-df-buttons\">\n",
              "\n",
              "  <div class=\"colab-df-container\">\n",
              "    <button class=\"colab-df-convert\" onclick=\"convertToInteractive('df-477c141d-2a08-4726-af5b-acbba82568f3')\"\n",
              "            title=\"Convert this dataframe to an interactive table.\"\n",
              "            style=\"display:none;\">\n",
              "\n",
              "  <svg xmlns=\"http://www.w3.org/2000/svg\" height=\"24px\" viewBox=\"0 -960 960 960\">\n",
              "    <path d=\"M120-120v-720h720v720H120Zm60-500h600v-160H180v160Zm220 220h160v-160H400v160Zm0 220h160v-160H400v160ZM180-400h160v-160H180v160Zm440 0h160v-160H620v160ZM180-180h160v-160H180v160Zm440 0h160v-160H620v160Z\"/>\n",
              "  </svg>\n",
              "    </button>\n",
              "\n",
              "  <style>\n",
              "    .colab-df-container {\n",
              "      display:flex;\n",
              "      gap: 12px;\n",
              "    }\n",
              "\n",
              "    .colab-df-convert {\n",
              "      background-color: #E8F0FE;\n",
              "      border: none;\n",
              "      border-radius: 50%;\n",
              "      cursor: pointer;\n",
              "      display: none;\n",
              "      fill: #1967D2;\n",
              "      height: 32px;\n",
              "      padding: 0 0 0 0;\n",
              "      width: 32px;\n",
              "    }\n",
              "\n",
              "    .colab-df-convert:hover {\n",
              "      background-color: #E2EBFA;\n",
              "      box-shadow: 0px 1px 2px rgba(60, 64, 67, 0.3), 0px 1px 3px 1px rgba(60, 64, 67, 0.15);\n",
              "      fill: #174EA6;\n",
              "    }\n",
              "\n",
              "    .colab-df-buttons div {\n",
              "      margin-bottom: 4px;\n",
              "    }\n",
              "\n",
              "    [theme=dark] .colab-df-convert {\n",
              "      background-color: #3B4455;\n",
              "      fill: #D2E3FC;\n",
              "    }\n",
              "\n",
              "    [theme=dark] .colab-df-convert:hover {\n",
              "      background-color: #434B5C;\n",
              "      box-shadow: 0px 1px 3px 1px rgba(0, 0, 0, 0.15);\n",
              "      filter: drop-shadow(0px 1px 2px rgba(0, 0, 0, 0.3));\n",
              "      fill: #FFFFFF;\n",
              "    }\n",
              "  </style>\n",
              "\n",
              "    <script>\n",
              "      const buttonEl =\n",
              "        document.querySelector('#df-477c141d-2a08-4726-af5b-acbba82568f3 button.colab-df-convert');\n",
              "      buttonEl.style.display =\n",
              "        google.colab.kernel.accessAllowed ? 'block' : 'none';\n",
              "\n",
              "      async function convertToInteractive(key) {\n",
              "        const element = document.querySelector('#df-477c141d-2a08-4726-af5b-acbba82568f3');\n",
              "        const dataTable =\n",
              "          await google.colab.kernel.invokeFunction('convertToInteractive',\n",
              "                                                    [key], {});\n",
              "        if (!dataTable) return;\n",
              "\n",
              "        const docLinkHtml = 'Like what you see? Visit the ' +\n",
              "          '<a target=\"_blank\" href=https://colab.research.google.com/notebooks/data_table.ipynb>data table notebook</a>'\n",
              "          + ' to learn more about interactive tables.';\n",
              "        element.innerHTML = '';\n",
              "        dataTable['output_type'] = 'display_data';\n",
              "        await google.colab.output.renderOutput(dataTable, element);\n",
              "        const docLink = document.createElement('div');\n",
              "        docLink.innerHTML = docLinkHtml;\n",
              "        element.appendChild(docLink);\n",
              "      }\n",
              "    </script>\n",
              "  </div>\n",
              "\n",
              "\n",
              "<div id=\"df-15a8470f-6f96-47fd-8e58-3a64bc346ec4\">\n",
              "  <button class=\"colab-df-quickchart\" onclick=\"quickchart('df-15a8470f-6f96-47fd-8e58-3a64bc346ec4')\"\n",
              "            title=\"Suggest charts\"\n",
              "            style=\"display:none;\">\n",
              "\n",
              "<svg xmlns=\"http://www.w3.org/2000/svg\" height=\"24px\"viewBox=\"0 0 24 24\"\n",
              "     width=\"24px\">\n",
              "    <g>\n",
              "        <path d=\"M19 3H5c-1.1 0-2 .9-2 2v14c0 1.1.9 2 2 2h14c1.1 0 2-.9 2-2V5c0-1.1-.9-2-2-2zM9 17H7v-7h2v7zm4 0h-2V7h2v10zm4 0h-2v-4h2v4z\"/>\n",
              "    </g>\n",
              "</svg>\n",
              "  </button>\n",
              "\n",
              "<style>\n",
              "  .colab-df-quickchart {\n",
              "      --bg-color: #E8F0FE;\n",
              "      --fill-color: #1967D2;\n",
              "      --hover-bg-color: #E2EBFA;\n",
              "      --hover-fill-color: #174EA6;\n",
              "      --disabled-fill-color: #AAA;\n",
              "      --disabled-bg-color: #DDD;\n",
              "  }\n",
              "\n",
              "  [theme=dark] .colab-df-quickchart {\n",
              "      --bg-color: #3B4455;\n",
              "      --fill-color: #D2E3FC;\n",
              "      --hover-bg-color: #434B5C;\n",
              "      --hover-fill-color: #FFFFFF;\n",
              "      --disabled-bg-color: #3B4455;\n",
              "      --disabled-fill-color: #666;\n",
              "  }\n",
              "\n",
              "  .colab-df-quickchart {\n",
              "    background-color: var(--bg-color);\n",
              "    border: none;\n",
              "    border-radius: 50%;\n",
              "    cursor: pointer;\n",
              "    display: none;\n",
              "    fill: var(--fill-color);\n",
              "    height: 32px;\n",
              "    padding: 0;\n",
              "    width: 32px;\n",
              "  }\n",
              "\n",
              "  .colab-df-quickchart:hover {\n",
              "    background-color: var(--hover-bg-color);\n",
              "    box-shadow: 0 1px 2px rgba(60, 64, 67, 0.3), 0 1px 3px 1px rgba(60, 64, 67, 0.15);\n",
              "    fill: var(--button-hover-fill-color);\n",
              "  }\n",
              "\n",
              "  .colab-df-quickchart-complete:disabled,\n",
              "  .colab-df-quickchart-complete:disabled:hover {\n",
              "    background-color: var(--disabled-bg-color);\n",
              "    fill: var(--disabled-fill-color);\n",
              "    box-shadow: none;\n",
              "  }\n",
              "\n",
              "  .colab-df-spinner {\n",
              "    border: 2px solid var(--fill-color);\n",
              "    border-color: transparent;\n",
              "    border-bottom-color: var(--fill-color);\n",
              "    animation:\n",
              "      spin 1s steps(1) infinite;\n",
              "  }\n",
              "\n",
              "  @keyframes spin {\n",
              "    0% {\n",
              "      border-color: transparent;\n",
              "      border-bottom-color: var(--fill-color);\n",
              "      border-left-color: var(--fill-color);\n",
              "    }\n",
              "    20% {\n",
              "      border-color: transparent;\n",
              "      border-left-color: var(--fill-color);\n",
              "      border-top-color: var(--fill-color);\n",
              "    }\n",
              "    30% {\n",
              "      border-color: transparent;\n",
              "      border-left-color: var(--fill-color);\n",
              "      border-top-color: var(--fill-color);\n",
              "      border-right-color: var(--fill-color);\n",
              "    }\n",
              "    40% {\n",
              "      border-color: transparent;\n",
              "      border-right-color: var(--fill-color);\n",
              "      border-top-color: var(--fill-color);\n",
              "    }\n",
              "    60% {\n",
              "      border-color: transparent;\n",
              "      border-right-color: var(--fill-color);\n",
              "    }\n",
              "    80% {\n",
              "      border-color: transparent;\n",
              "      border-right-color: var(--fill-color);\n",
              "      border-bottom-color: var(--fill-color);\n",
              "    }\n",
              "    90% {\n",
              "      border-color: transparent;\n",
              "      border-bottom-color: var(--fill-color);\n",
              "    }\n",
              "  }\n",
              "</style>\n",
              "\n",
              "  <script>\n",
              "    async function quickchart(key) {\n",
              "      const quickchartButtonEl =\n",
              "        document.querySelector('#' + key + ' button');\n",
              "      quickchartButtonEl.disabled = true;  // To prevent multiple clicks.\n",
              "      quickchartButtonEl.classList.add('colab-df-spinner');\n",
              "      try {\n",
              "        const charts = await google.colab.kernel.invokeFunction(\n",
              "            'suggestCharts', [key], {});\n",
              "      } catch (error) {\n",
              "        console.error('Error during call to suggestCharts:', error);\n",
              "      }\n",
              "      quickchartButtonEl.classList.remove('colab-df-spinner');\n",
              "      quickchartButtonEl.classList.add('colab-df-quickchart-complete');\n",
              "    }\n",
              "    (() => {\n",
              "      let quickchartButtonEl =\n",
              "        document.querySelector('#df-15a8470f-6f96-47fd-8e58-3a64bc346ec4 button');\n",
              "      quickchartButtonEl.style.display =\n",
              "        google.colab.kernel.accessAllowed ? 'block' : 'none';\n",
              "    })();\n",
              "  </script>\n",
              "</div>\n",
              "\n",
              "  <div id=\"id_3543a80f-1d0d-4853-bbe0-5c754f86ae00\">\n",
              "    <style>\n",
              "      .colab-df-generate {\n",
              "        background-color: #E8F0FE;\n",
              "        border: none;\n",
              "        border-radius: 50%;\n",
              "        cursor: pointer;\n",
              "        display: none;\n",
              "        fill: #1967D2;\n",
              "        height: 32px;\n",
              "        padding: 0 0 0 0;\n",
              "        width: 32px;\n",
              "      }\n",
              "\n",
              "      .colab-df-generate:hover {\n",
              "        background-color: #E2EBFA;\n",
              "        box-shadow: 0px 1px 2px rgba(60, 64, 67, 0.3), 0px 1px 3px 1px rgba(60, 64, 67, 0.15);\n",
              "        fill: #174EA6;\n",
              "      }\n",
              "\n",
              "      [theme=dark] .colab-df-generate {\n",
              "        background-color: #3B4455;\n",
              "        fill: #D2E3FC;\n",
              "      }\n",
              "\n",
              "      [theme=dark] .colab-df-generate:hover {\n",
              "        background-color: #434B5C;\n",
              "        box-shadow: 0px 1px 3px 1px rgba(0, 0, 0, 0.15);\n",
              "        filter: drop-shadow(0px 1px 2px rgba(0, 0, 0, 0.3));\n",
              "        fill: #FFFFFF;\n",
              "      }\n",
              "    </style>\n",
              "    <button class=\"colab-df-generate\" onclick=\"generateWithVariable('bag_of_words')\"\n",
              "            title=\"Generate code using this dataframe.\"\n",
              "            style=\"display:none;\">\n",
              "\n",
              "  <svg xmlns=\"http://www.w3.org/2000/svg\" height=\"24px\"viewBox=\"0 0 24 24\"\n",
              "       width=\"24px\">\n",
              "    <path d=\"M7,19H8.4L18.45,9,17,7.55,7,17.6ZM5,21V16.75L18.45,3.32a2,2,0,0,1,2.83,0l1.4,1.43a1.91,1.91,0,0,1,.58,1.4,1.91,1.91,0,0,1-.58,1.4L9.25,21ZM18.45,9,17,7.55Zm-12,3A5.31,5.31,0,0,0,4.9,8.1,5.31,5.31,0,0,0,1,6.5,5.31,5.31,0,0,0,4.9,4.9,5.31,5.31,0,0,0,6.5,1,5.31,5.31,0,0,0,8.1,4.9,5.31,5.31,0,0,0,12,6.5,5.46,5.46,0,0,0,6.5,12Z\"/>\n",
              "  </svg>\n",
              "    </button>\n",
              "    <script>\n",
              "      (() => {\n",
              "      const buttonEl =\n",
              "        document.querySelector('#id_3543a80f-1d0d-4853-bbe0-5c754f86ae00 button.colab-df-generate');\n",
              "      buttonEl.style.display =\n",
              "        google.colab.kernel.accessAllowed ? 'block' : 'none';\n",
              "\n",
              "      buttonEl.onclick = () => {\n",
              "        google.colab.notebook.generateWithVariable('bag_of_words');\n",
              "      }\n",
              "      })();\n",
              "    </script>\n",
              "  </div>\n",
              "\n",
              "    </div>\n",
              "  </div>\n"
            ],
            "application/vnd.google.colaboratory.intrinsic+json": {
              "type": "dataframe",
              "variable_name": "bag_of_words",
              "summary": "{\n  \"name\": \"bag_of_words\",\n  \"rows\": 4,\n  \"fields\": [\n    {\n      \"column\": \"and\",\n      \"properties\": {\n        \"dtype\": \"number\",\n        \"std\": 0,\n        \"min\": 0,\n        \"max\": 1,\n        \"num_unique_values\": 2,\n        \"samples\": [\n          1,\n          0\n        ],\n        \"semantic_type\": \"\",\n        \"description\": \"\"\n      }\n    },\n    {\n      \"column\": \"document\",\n      \"properties\": {\n        \"dtype\": \"number\",\n        \"std\": 0,\n        \"min\": 0,\n        \"max\": 2,\n        \"num_unique_values\": 3,\n        \"samples\": [\n          1,\n          2\n        ],\n        \"semantic_type\": \"\",\n        \"description\": \"\"\n      }\n    },\n    {\n      \"column\": \"first\",\n      \"properties\": {\n        \"dtype\": \"number\",\n        \"std\": 0,\n        \"min\": 0,\n        \"max\": 1,\n        \"num_unique_values\": 2,\n        \"samples\": [\n          0,\n          1\n        ],\n        \"semantic_type\": \"\",\n        \"description\": \"\"\n      }\n    },\n    {\n      \"column\": \"is\",\n      \"properties\": {\n        \"dtype\": \"number\",\n        \"std\": 0,\n        \"min\": 1,\n        \"max\": 1,\n        \"num_unique_values\": 1,\n        \"samples\": [\n          1\n        ],\n        \"semantic_type\": \"\",\n        \"description\": \"\"\n      }\n    },\n    {\n      \"column\": \"one\",\n      \"properties\": {\n        \"dtype\": \"number\",\n        \"std\": 0,\n        \"min\": 0,\n        \"max\": 1,\n        \"num_unique_values\": 2,\n        \"samples\": [\n          1\n        ],\n        \"semantic_type\": \"\",\n        \"description\": \"\"\n      }\n    },\n    {\n      \"column\": \"second\",\n      \"properties\": {\n        \"dtype\": \"number\",\n        \"std\": 0,\n        \"min\": 0,\n        \"max\": 1,\n        \"num_unique_values\": 2,\n        \"samples\": [\n          1\n        ],\n        \"semantic_type\": \"\",\n        \"description\": \"\"\n      }\n    },\n    {\n      \"column\": \"the\",\n      \"properties\": {\n        \"dtype\": \"number\",\n        \"std\": 0,\n        \"min\": 1,\n        \"max\": 1,\n        \"num_unique_values\": 1,\n        \"samples\": [\n          1\n        ],\n        \"semantic_type\": \"\",\n        \"description\": \"\"\n      }\n    },\n    {\n      \"column\": \"third\",\n      \"properties\": {\n        \"dtype\": \"number\",\n        \"std\": 0,\n        \"min\": 0,\n        \"max\": 1,\n        \"num_unique_values\": 2,\n        \"samples\": [\n          1\n        ],\n        \"semantic_type\": \"\",\n        \"description\": \"\"\n      }\n    },\n    {\n      \"column\": \"this\",\n      \"properties\": {\n        \"dtype\": \"number\",\n        \"std\": 0,\n        \"min\": 1,\n        \"max\": 1,\n        \"num_unique_values\": 1,\n        \"samples\": [\n          1\n        ],\n        \"semantic_type\": \"\",\n        \"description\": \"\"\n      }\n    }\n  ]\n}"
            }
          },
          "metadata": {},
          "execution_count": 11
        }
      ]
    },
    {
      "cell_type": "markdown",
      "source": [
        "#### Term Frequency-Inverse Document Frequency (TF-IDF)\n",
        "\n",
        "![TF-IDF.jpg](data:image/jpeg;base64,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)"
      ],
      "metadata": {
        "id": "udnxW_WY4oNK"
      }
    },
    {
      "cell_type": "code",
      "source": [
        "from sklearn.feature_extraction.text import TfidfVectorizer\n",
        "import pandas as pd"
      ],
      "metadata": {
        "id": "aM1Et6tV4YN4"
      },
      "execution_count": 12,
      "outputs": []
    },
    {
      "cell_type": "code",
      "source": [
        "# Example text corpus\n",
        "corpus = [\n",
        "    \"This is the first document.\",\n",
        "    \"This document is the second document.\",\n",
        "    \"And this is the third one.\",\n",
        "    \"Is this the first document?\",\n",
        "]"
      ],
      "metadata": {
        "id": "5JYowFWQ5Rao"
      },
      "execution_count": 13,
      "outputs": []
    },
    {
      "cell_type": "code",
      "source": [
        "# Create an instance of the TfidfVectorizer\n",
        "vectorizer = TfidfVectorizer()"
      ],
      "metadata": {
        "id": "Q_sLdSXp5TOP"
      },
      "execution_count": 14,
      "outputs": []
    },
    {
      "cell_type": "code",
      "source": [
        "# Fit and transform the corpus into a TF-IDF matrix\n",
        "tf_idf = vectorizer.fit_transform(corpus)"
      ],
      "metadata": {
        "id": "Qaoog3T_5UYU"
      },
      "execution_count": 16,
      "outputs": []
    },
    {
      "cell_type": "code",
      "source": [
        "tf_idf_data = pd.DataFrame(tf_idf.toarray(), columns = vectorizer.get_feature_names_out())\n",
        "tf_idf_data"
      ],
      "metadata": {
        "colab": {
          "base_uri": "https://localhost:8080/",
          "height": 175
        },
        "id": "tLGzDWYX5frc",
        "outputId": "907a5b5d-0a9b-4971-f910-156a9ff640e3"
      },
      "execution_count": 17,
      "outputs": [
        {
          "output_type": "execute_result",
          "data": {
            "text/plain": [
              "        and  document     first        is       one    second       the  \\\n",
              "0  0.000000  0.469791  0.580286  0.384085  0.000000  0.000000  0.384085   \n",
              "1  0.000000  0.687624  0.000000  0.281089  0.000000  0.538648  0.281089   \n",
              "2  0.511849  0.000000  0.000000  0.267104  0.511849  0.000000  0.267104   \n",
              "3  0.000000  0.469791  0.580286  0.384085  0.000000  0.000000  0.384085   \n",
              "\n",
              "      third      this  \n",
              "0  0.000000  0.384085  \n",
              "1  0.000000  0.281089  \n",
              "2  0.511849  0.267104  \n",
              "3  0.000000  0.384085  "
            ],
            "text/html": [
              "\n",
              "  <div id=\"df-3a8c2658-5794-4c5f-83b3-b5ce85993b6f\" class=\"colab-df-container\">\n",
              "    <div>\n",
              "<style scoped>\n",
              "    .dataframe tbody tr th:only-of-type {\n",
              "        vertical-align: middle;\n",
              "    }\n",
              "\n",
              "    .dataframe tbody tr th {\n",
              "        vertical-align: top;\n",
              "    }\n",
              "\n",
              "    .dataframe thead th {\n",
              "        text-align: right;\n",
              "    }\n",
              "</style>\n",
              "<table border=\"1\" class=\"dataframe\">\n",
              "  <thead>\n",
              "    <tr style=\"text-align: right;\">\n",
              "      <th></th>\n",
              "      <th>and</th>\n",
              "      <th>document</th>\n",
              "      <th>first</th>\n",
              "      <th>is</th>\n",
              "      <th>one</th>\n",
              "      <th>second</th>\n",
              "      <th>the</th>\n",
              "      <th>third</th>\n",
              "      <th>this</th>\n",
              "    </tr>\n",
              "  </thead>\n",
              "  <tbody>\n",
              "    <tr>\n",
              "      <th>0</th>\n",
              "      <td>0.000000</td>\n",
              "      <td>0.469791</td>\n",
              "      <td>0.580286</td>\n",
              "      <td>0.384085</td>\n",
              "      <td>0.000000</td>\n",
              "      <td>0.000000</td>\n",
              "      <td>0.384085</td>\n",
              "      <td>0.000000</td>\n",
              "      <td>0.384085</td>\n",
              "    </tr>\n",
              "    <tr>\n",
              "      <th>1</th>\n",
              "      <td>0.000000</td>\n",
              "      <td>0.687624</td>\n",
              "      <td>0.000000</td>\n",
              "      <td>0.281089</td>\n",
              "      <td>0.000000</td>\n",
              "      <td>0.538648</td>\n",
              "      <td>0.281089</td>\n",
              "      <td>0.000000</td>\n",
              "      <td>0.281089</td>\n",
              "    </tr>\n",
              "    <tr>\n",
              "      <th>2</th>\n",
              "      <td>0.511849</td>\n",
              "      <td>0.000000</td>\n",
              "      <td>0.000000</td>\n",
              "      <td>0.267104</td>\n",
              "      <td>0.511849</td>\n",
              "      <td>0.000000</td>\n",
              "      <td>0.267104</td>\n",
              "      <td>0.511849</td>\n",
              "      <td>0.267104</td>\n",
              "    </tr>\n",
              "    <tr>\n",
              "      <th>3</th>\n",
              "      <td>0.000000</td>\n",
              "      <td>0.469791</td>\n",
              "      <td>0.580286</td>\n",
              "      <td>0.384085</td>\n",
              "      <td>0.000000</td>\n",
              "      <td>0.000000</td>\n",
              "      <td>0.384085</td>\n",
              "      <td>0.000000</td>\n",
              "      <td>0.384085</td>\n",
              "    </tr>\n",
              "  </tbody>\n",
              "</table>\n",
              "</div>\n",
              "    <div class=\"colab-df-buttons\">\n",
              "\n",
              "  <div class=\"colab-df-container\">\n",
              "    <button class=\"colab-df-convert\" onclick=\"convertToInteractive('df-3a8c2658-5794-4c5f-83b3-b5ce85993b6f')\"\n",
              "            title=\"Convert this dataframe to an interactive table.\"\n",
              "            style=\"display:none;\">\n",
              "\n",
              "  <svg xmlns=\"http://www.w3.org/2000/svg\" height=\"24px\" viewBox=\"0 -960 960 960\">\n",
              "    <path d=\"M120-120v-720h720v720H120Zm60-500h600v-160H180v160Zm220 220h160v-160H400v160Zm0 220h160v-160H400v160ZM180-400h160v-160H180v160Zm440 0h160v-160H620v160ZM180-180h160v-160H180v160Zm440 0h160v-160H620v160Z\"/>\n",
              "  </svg>\n",
              "    </button>\n",
              "\n",
              "  <style>\n",
              "    .colab-df-container {\n",
              "      display:flex;\n",
              "      gap: 12px;\n",
              "    }\n",
              "\n",
              "    .colab-df-convert {\n",
              "      background-color: #E8F0FE;\n",
              "      border: none;\n",
              "      border-radius: 50%;\n",
              "      cursor: pointer;\n",
              "      display: none;\n",
              "      fill: #1967D2;\n",
              "      height: 32px;\n",
              "      padding: 0 0 0 0;\n",
              "      width: 32px;\n",
              "    }\n",
              "\n",
              "    .colab-df-convert:hover {\n",
              "      background-color: #E2EBFA;\n",
              "      box-shadow: 0px 1px 2px rgba(60, 64, 67, 0.3), 0px 1px 3px 1px rgba(60, 64, 67, 0.15);\n",
              "      fill: #174EA6;\n",
              "    }\n",
              "\n",
              "    .colab-df-buttons div {\n",
              "      margin-bottom: 4px;\n",
              "    }\n",
              "\n",
              "    [theme=dark] .colab-df-convert {\n",
              "      background-color: #3B4455;\n",
              "      fill: #D2E3FC;\n",
              "    }\n",
              "\n",
              "    [theme=dark] .colab-df-convert:hover {\n",
              "      background-color: #434B5C;\n",
              "      box-shadow: 0px 1px 3px 1px rgba(0, 0, 0, 0.15);\n",
              "      filter: drop-shadow(0px 1px 2px rgba(0, 0, 0, 0.3));\n",
              "      fill: #FFFFFF;\n",
              "    }\n",
              "  </style>\n",
              "\n",
              "    <script>\n",
              "      const buttonEl =\n",
              "        document.querySelector('#df-3a8c2658-5794-4c5f-83b3-b5ce85993b6f button.colab-df-convert');\n",
              "      buttonEl.style.display =\n",
              "        google.colab.kernel.accessAllowed ? 'block' : 'none';\n",
              "\n",
              "      async function convertToInteractive(key) {\n",
              "        const element = document.querySelector('#df-3a8c2658-5794-4c5f-83b3-b5ce85993b6f');\n",
              "        const dataTable =\n",
              "          await google.colab.kernel.invokeFunction('convertToInteractive',\n",
              "                                                    [key], {});\n",
              "        if (!dataTable) return;\n",
              "\n",
              "        const docLinkHtml = 'Like what you see? Visit the ' +\n",
              "          '<a target=\"_blank\" href=https://colab.research.google.com/notebooks/data_table.ipynb>data table notebook</a>'\n",
              "          + ' to learn more about interactive tables.';\n",
              "        element.innerHTML = '';\n",
              "        dataTable['output_type'] = 'display_data';\n",
              "        await google.colab.output.renderOutput(dataTable, element);\n",
              "        const docLink = document.createElement('div');\n",
              "        docLink.innerHTML = docLinkHtml;\n",
              "        element.appendChild(docLink);\n",
              "      }\n",
              "    </script>\n",
              "  </div>\n",
              "\n",
              "\n",
              "<div id=\"df-97500c2f-e5d1-4a14-a170-2124af2ac12f\">\n",
              "  <button class=\"colab-df-quickchart\" onclick=\"quickchart('df-97500c2f-e5d1-4a14-a170-2124af2ac12f')\"\n",
              "            title=\"Suggest charts\"\n",
              "            style=\"display:none;\">\n",
              "\n",
              "<svg xmlns=\"http://www.w3.org/2000/svg\" height=\"24px\"viewBox=\"0 0 24 24\"\n",
              "     width=\"24px\">\n",
              "    <g>\n",
              "        <path d=\"M19 3H5c-1.1 0-2 .9-2 2v14c0 1.1.9 2 2 2h14c1.1 0 2-.9 2-2V5c0-1.1-.9-2-2-2zM9 17H7v-7h2v7zm4 0h-2V7h2v10zm4 0h-2v-4h2v4z\"/>\n",
              "    </g>\n",
              "</svg>\n",
              "  </button>\n",
              "\n",
              "<style>\n",
              "  .colab-df-quickchart {\n",
              "      --bg-color: #E8F0FE;\n",
              "      --fill-color: #1967D2;\n",
              "      --hover-bg-color: #E2EBFA;\n",
              "      --hover-fill-color: #174EA6;\n",
              "      --disabled-fill-color: #AAA;\n",
              "      --disabled-bg-color: #DDD;\n",
              "  }\n",
              "\n",
              "  [theme=dark] .colab-df-quickchart {\n",
              "      --bg-color: #3B4455;\n",
              "      --fill-color: #D2E3FC;\n",
              "      --hover-bg-color: #434B5C;\n",
              "      --hover-fill-color: #FFFFFF;\n",
              "      --disabled-bg-color: #3B4455;\n",
              "      --disabled-fill-color: #666;\n",
              "  }\n",
              "\n",
              "  .colab-df-quickchart {\n",
              "    background-color: var(--bg-color);\n",
              "    border: none;\n",
              "    border-radius: 50%;\n",
              "    cursor: pointer;\n",
              "    display: none;\n",
              "    fill: var(--fill-color);\n",
              "    height: 32px;\n",
              "    padding: 0;\n",
              "    width: 32px;\n",
              "  }\n",
              "\n",
              "  .colab-df-quickchart:hover {\n",
              "    background-color: var(--hover-bg-color);\n",
              "    box-shadow: 0 1px 2px rgba(60, 64, 67, 0.3), 0 1px 3px 1px rgba(60, 64, 67, 0.15);\n",
              "    fill: var(--button-hover-fill-color);\n",
              "  }\n",
              "\n",
              "  .colab-df-quickchart-complete:disabled,\n",
              "  .colab-df-quickchart-complete:disabled:hover {\n",
              "    background-color: var(--disabled-bg-color);\n",
              "    fill: var(--disabled-fill-color);\n",
              "    box-shadow: none;\n",
              "  }\n",
              "\n",
              "  .colab-df-spinner {\n",
              "    border: 2px solid var(--fill-color);\n",
              "    border-color: transparent;\n",
              "    border-bottom-color: var(--fill-color);\n",
              "    animation:\n",
              "      spin 1s steps(1) infinite;\n",
              "  }\n",
              "\n",
              "  @keyframes spin {\n",
              "    0% {\n",
              "      border-color: transparent;\n",
              "      border-bottom-color: var(--fill-color);\n",
              "      border-left-color: var(--fill-color);\n",
              "    }\n",
              "    20% {\n",
              "      border-color: transparent;\n",
              "      border-left-color: var(--fill-color);\n",
              "      border-top-color: var(--fill-color);\n",
              "    }\n",
              "    30% {\n",
              "      border-color: transparent;\n",
              "      border-left-color: var(--fill-color);\n",
              "      border-top-color: var(--fill-color);\n",
              "      border-right-color: var(--fill-color);\n",
              "    }\n",
              "    40% {\n",
              "      border-color: transparent;\n",
              "      border-right-color: var(--fill-color);\n",
              "      border-top-color: var(--fill-color);\n",
              "    }\n",
              "    60% {\n",
              "      border-color: transparent;\n",
              "      border-right-color: var(--fill-color);\n",
              "    }\n",
              "    80% {\n",
              "      border-color: transparent;\n",
              "      border-right-color: var(--fill-color);\n",
              "      border-bottom-color: var(--fill-color);\n",
              "    }\n",
              "    90% {\n",
              "      border-color: transparent;\n",
              "      border-bottom-color: var(--fill-color);\n",
              "    }\n",
              "  }\n",
              "</style>\n",
              "\n",
              "  <script>\n",
              "    async function quickchart(key) {\n",
              "      const quickchartButtonEl =\n",
              "        document.querySelector('#' + key + ' button');\n",
              "      quickchartButtonEl.disabled = true;  // To prevent multiple clicks.\n",
              "      quickchartButtonEl.classList.add('colab-df-spinner');\n",
              "      try {\n",
              "        const charts = await google.colab.kernel.invokeFunction(\n",
              "            'suggestCharts', [key], {});\n",
              "      } catch (error) {\n",
              "        console.error('Error during call to suggestCharts:', error);\n",
              "      }\n",
              "      quickchartButtonEl.classList.remove('colab-df-spinner');\n",
              "      quickchartButtonEl.classList.add('colab-df-quickchart-complete');\n",
              "    }\n",
              "    (() => {\n",
              "      let quickchartButtonEl =\n",
              "        document.querySelector('#df-97500c2f-e5d1-4a14-a170-2124af2ac12f button');\n",
              "      quickchartButtonEl.style.display =\n",
              "        google.colab.kernel.accessAllowed ? 'block' : 'none';\n",
              "    })();\n",
              "  </script>\n",
              "</div>\n",
              "\n",
              "  <div id=\"id_66bd4c3d-d4d6-49a5-8921-56e6580373d1\">\n",
              "    <style>\n",
              "      .colab-df-generate {\n",
              "        background-color: #E8F0FE;\n",
              "        border: none;\n",
              "        border-radius: 50%;\n",
              "        cursor: pointer;\n",
              "        display: none;\n",
              "        fill: #1967D2;\n",
              "        height: 32px;\n",
              "        padding: 0 0 0 0;\n",
              "        width: 32px;\n",
              "      }\n",
              "\n",
              "      .colab-df-generate:hover {\n",
              "        background-color: #E2EBFA;\n",
              "        box-shadow: 0px 1px 2px rgba(60, 64, 67, 0.3), 0px 1px 3px 1px rgba(60, 64, 67, 0.15);\n",
              "        fill: #174EA6;\n",
              "      }\n",
              "\n",
              "      [theme=dark] .colab-df-generate {\n",
              "        background-color: #3B4455;\n",
              "        fill: #D2E3FC;\n",
              "      }\n",
              "\n",
              "      [theme=dark] .colab-df-generate:hover {\n",
              "        background-color: #434B5C;\n",
              "        box-shadow: 0px 1px 3px 1px rgba(0, 0, 0, 0.15);\n",
              "        filter: drop-shadow(0px 1px 2px rgba(0, 0, 0, 0.3));\n",
              "        fill: #FFFFFF;\n",
              "      }\n",
              "    </style>\n",
              "    <button class=\"colab-df-generate\" onclick=\"generateWithVariable('tf_idf_data')\"\n",
              "            title=\"Generate code using this dataframe.\"\n",
              "            style=\"display:none;\">\n",
              "\n",
              "  <svg xmlns=\"http://www.w3.org/2000/svg\" height=\"24px\"viewBox=\"0 0 24 24\"\n",
              "       width=\"24px\">\n",
              "    <path d=\"M7,19H8.4L18.45,9,17,7.55,7,17.6ZM5,21V16.75L18.45,3.32a2,2,0,0,1,2.83,0l1.4,1.43a1.91,1.91,0,0,1,.58,1.4,1.91,1.91,0,0,1-.58,1.4L9.25,21ZM18.45,9,17,7.55Zm-12,3A5.31,5.31,0,0,0,4.9,8.1,5.31,5.31,0,0,0,1,6.5,5.31,5.31,0,0,0,4.9,4.9,5.31,5.31,0,0,0,6.5,1,5.31,5.31,0,0,0,8.1,4.9,5.31,5.31,0,0,0,12,6.5,5.46,5.46,0,0,0,6.5,12Z\"/>\n",
              "  </svg>\n",
              "    </button>\n",
              "    <script>\n",
              "      (() => {\n",
              "      const buttonEl =\n",
              "        document.querySelector('#id_66bd4c3d-d4d6-49a5-8921-56e6580373d1 button.colab-df-generate');\n",
              "      buttonEl.style.display =\n",
              "        google.colab.kernel.accessAllowed ? 'block' : 'none';\n",
              "\n",
              "      buttonEl.onclick = () => {\n",
              "        google.colab.notebook.generateWithVariable('tf_idf_data');\n",
              "      }\n",
              "      })();\n",
              "    </script>\n",
              "  </div>\n",
              "\n",
              "    </div>\n",
              "  </div>\n"
            ],
            "application/vnd.google.colaboratory.intrinsic+json": {
              "type": "dataframe",
              "variable_name": "tf_idf_data",
              "summary": "{\n  \"name\": \"tf_idf_data\",\n  \"rows\": 4,\n  \"fields\": [\n    {\n      \"column\": \"and\",\n      \"properties\": {\n        \"dtype\": \"number\",\n        \"std\": 0.2559242563535845,\n        \"min\": 0.0,\n        \"max\": 0.511848512707169,\n        \"num_unique_values\": 2,\n        \"samples\": [\n          0.511848512707169,\n          0.0\n        ],\n        \"semantic_type\": \"\",\n        \"description\": \"\"\n      }\n    },\n    {\n      \"column\": \"document\",\n      \"properties\": {\n        \"dtype\": \"number\",\n        \"std\": 0.28999078289313623,\n        \"min\": 0.0,\n        \"max\": 0.6876235979836938,\n        \"num_unique_values\": 3,\n        \"samples\": [\n          0.46979138557992045,\n          0.6876235979836938\n        ],\n        \"semantic_type\": \"\",\n        \"description\": \"\"\n      }\n    },\n    {\n      \"column\": \"first\",\n      \"properties\": {\n        \"dtype\": \"number\",\n        \"std\": 0.33502817651113276,\n        \"min\": 0.0,\n        \"max\": 0.5802858236844359,\n        \"num_unique_values\": 2,\n        \"samples\": [\n          0.0,\n          0.5802858236844359\n        ],\n        \"semantic_type\": \"\",\n        \"description\": \"\"\n      }\n    },\n    {\n      \"column\": \"is\",\n      \"properties\": {\n        \"dtype\": \"number\",\n        \"std\": 0.06375832197023155,\n        \"min\": 0.267103787642168,\n        \"max\": 0.38408524091481483,\n        \"num_unique_values\": 3,\n        \"samples\": [\n          0.38408524091481483,\n          0.281088674033753\n        ],\n        \"semantic_type\": \"\",\n        \"description\": \"\"\n      }\n    },\n    {\n      \"column\": \"one\",\n      \"properties\": {\n        \"dtype\": \"number\",\n        \"std\": 0.2559242563535845,\n        \"min\": 0.0,\n        \"max\": 0.511848512707169,\n        \"num_unique_values\": 2,\n        \"samples\": [\n          0.511848512707169,\n          0.0\n        ],\n        \"semantic_type\": \"\",\n        \"description\": \"\"\n      }\n    },\n    {\n      \"column\": \"second\",\n      \"properties\": {\n        \"dtype\": \"number\",\n        \"std\": 0.26932381044283815,\n        \"min\": 0.0,\n        \"max\": 0.5386476208856763,\n        \"num_unique_values\": 2,\n        \"samples\": [\n          0.5386476208856763,\n          0.0\n        ],\n        \"semantic_type\": \"\",\n        \"description\": \"\"\n      }\n    },\n    {\n      \"column\": \"the\",\n      \"properties\": {\n        \"dtype\": \"number\",\n        \"std\": 0.06375832197023155,\n        \"min\": 0.267103787642168,\n        \"max\": 0.38408524091481483,\n        \"num_unique_values\": 3,\n        \"samples\": [\n          0.38408524091481483,\n          0.281088674033753\n        ],\n        \"semantic_type\": \"\",\n        \"description\": \"\"\n      }\n    },\n    {\n      \"column\": \"third\",\n      \"properties\": {\n        \"dtype\": \"number\",\n        \"std\": 0.2559242563535845,\n        \"min\": 0.0,\n        \"max\": 0.511848512707169,\n        \"num_unique_values\": 2,\n        \"samples\": [\n          0.511848512707169,\n          0.0\n        ],\n        \"semantic_type\": \"\",\n        \"description\": \"\"\n      }\n    },\n    {\n      \"column\": \"this\",\n      \"properties\": {\n        \"dtype\": \"number\",\n        \"std\": 0.06375832197023155,\n        \"min\": 0.267103787642168,\n        \"max\": 0.38408524091481483,\n        \"num_unique_values\": 3,\n        \"samples\": [\n          0.38408524091481483,\n          0.281088674033753\n        ],\n        \"semantic_type\": \"\",\n        \"description\": \"\"\n      }\n    }\n  ]\n}"
            }
          },
          "metadata": {},
          "execution_count": 17
        }
      ]
    },
    {
      "cell_type": "markdown",
      "source": [
        "#### Word Embeddings\n",
        "\n",
        "capture semantic relationships between words, allowing models to understand and represent words in a continuous vector space where similar words are close to each other"
      ],
      "metadata": {
        "id": "USSx2ZqE50UV"
      }
    },
    {
      "cell_type": "code",
      "source": [
        "import gensim.downloader as api"
      ],
      "metadata": {
        "id": "i6pjqz_t5qc1"
      },
      "execution_count": 18,
      "outputs": []
    },
    {
      "cell_type": "code",
      "source": [
        "# Load the pre-trained Word2Vec model\n",
        "model = api.load(\"word2vec-google-news-300\")"
      ],
      "metadata": {
        "colab": {
          "base_uri": "https://localhost:8080/"
        },
        "id": "-mUL5wZq56J4",
        "outputId": "2bb80e62-889a-4b52-e6ea-2612757a2a8d"
      },
      "execution_count": 19,
      "outputs": [
        {
          "output_type": "stream",
          "name": "stdout",
          "text": [
            "[==================================================] 100.0% 1662.8/1662.8MB downloaded\n"
          ]
        }
      ]
    },
    {
      "cell_type": "code",
      "source": [
        "# Get the word vector for a specific word\n",
        "word_vector = model[\"king\"]"
      ],
      "metadata": {
        "id": "aASH7XSp58-c"
      },
      "execution_count": 20,
      "outputs": []
    },
    {
      "cell_type": "code",
      "source": [
        "# Print the word vector\n",
        "print(\"Word Vector for 'king':\")\n",
        "print(word_vector[:10])"
      ],
      "metadata": {
        "colab": {
          "base_uri": "https://localhost:8080/"
        },
        "id": "j7YSxmcO8aYb",
        "outputId": "7baf70ef-a5a6-4ff0-a59d-c2336e737abe"
      },
      "execution_count": 22,
      "outputs": [
        {
          "output_type": "stream",
          "name": "stdout",
          "text": [
            "Word Vector for 'king':\n",
            "[ 0.12597656  0.02978516  0.00860596  0.13964844 -0.02563477 -0.03613281\n",
            "  0.11181641 -0.19824219  0.05126953  0.36328125]\n"
          ]
        }
      ]
    },
    {
      "cell_type": "markdown",
      "source": [
        "#### Document Embeddings\n",
        "\n",
        "Document embeddings are different from word embeddings in that they give you one embedding for an entire text, whereas word embeddings give you embeddings for individual words."
      ],
      "metadata": {
        "id": "ZMS66T5q9MQG"
      }
    },
    {
      "cell_type": "code",
      "source": [
        "from gensim.models.doc2vec import Doc2Vec, TaggedDocument\n",
        "import nltk\n",
        "nltk.download('punkt')"
      ],
      "metadata": {
        "colab": {
          "base_uri": "https://localhost:8080/"
        },
        "id": "MlzYxYo98ctI",
        "outputId": "fbb84517-735f-4e4c-c337-d9e719399566"
      },
      "execution_count": 23,
      "outputs": [
        {
          "output_type": "stream",
          "name": "stderr",
          "text": [
            "[nltk_data] Downloading package punkt to /root/nltk_data...\n",
            "[nltk_data]   Unzipping tokenizers/punkt.zip.\n"
          ]
        },
        {
          "output_type": "execute_result",
          "data": {
            "text/plain": [
              "True"
            ]
          },
          "metadata": {},
          "execution_count": 23
        }
      ]
    },
    {
      "cell_type": "code",
      "source": [
        "# Example documents\n",
        "documents = [\n",
        "    TaggedDocument(words=['This', 'is', 'the', 'first', 'document'], tags=['doc1']),\n",
        "    TaggedDocument(words=['This', 'document', 'is', 'the', 'second', 'document'], tags=['doc2']),\n",
        "    TaggedDocument(words=['And', 'this', 'is', 'the', 'third', 'one'], tags=['doc3']),\n",
        "    TaggedDocument(words=['Is', 'this', 'the', 'first', 'document'], tags=['doc4']),\n",
        "]"
      ],
      "metadata": {
        "id": "r90Zy8T0-Q0O"
      },
      "execution_count": 24,
      "outputs": []
    },
    {
      "cell_type": "code",
      "source": [
        "# Train the Doc2Vec model\n",
        "model = Doc2Vec(documents, vector_size=100, window=5, min_count=1, epochs=20)"
      ],
      "metadata": {
        "id": "Qmz6-soy-T0S"
      },
      "execution_count": 25,
      "outputs": []
    },
    {
      "cell_type": "code",
      "source": [
        "# Get the document vector for a specific document\n",
        "doc_vector = model.infer_vector(['This', 'is', 'the', 'first', 'document'])"
      ],
      "metadata": {
        "id": "Xw7QyhaI-WAf"
      },
      "execution_count": 26,
      "outputs": []
    },
    {
      "cell_type": "code",
      "source": [
        "# Print the document vector\n",
        "print(\"Document Vector for 'doc1':\")\n",
        "print(doc_vector)"
      ],
      "metadata": {
        "colab": {
          "base_uri": "https://localhost:8080/"
        },
        "id": "EBxIZLo_-X8I",
        "outputId": "0f7d0b0d-953a-4a47-f02e-88c8c9c4d416"
      },
      "execution_count": 27,
      "outputs": [
        {
          "output_type": "stream",
          "name": "stdout",
          "text": [
            "Document Vector for 'doc1':\n",
            "[-4.7014044e-03 -4.8341909e-03 -2.1301177e-03  2.7209832e-03\n",
            "  4.7919285e-03  7.6448533e-04  4.2162756e-03 -1.9978343e-03\n",
            " -1.5454055e-03 -4.9753375e-03 -2.6316650e-03  3.7557278e-03\n",
            " -7.9201203e-04  2.9474720e-03  2.9439530e-03 -4.6406072e-03\n",
            "  2.0733317e-03  2.1376435e-03 -1.7490097e-03 -3.1586366e-03\n",
            " -3.0206731e-03 -3.8387673e-03  1.9114086e-04 -3.5988614e-03\n",
            " -2.7679920e-03  4.9545662e-03  3.9252862e-03 -2.4918641e-03\n",
            " -1.9097613e-03  3.1710339e-03  7.8295340e-04  3.7416986e-03\n",
            "  4.5753531e-03  5.9976082e-05  3.2024079e-03  4.1534318e-04\n",
            " -2.0274073e-03 -6.6298257e-05 -6.6387298e-04 -3.0336760e-03\n",
            " -4.3207062e-03 -3.1007454e-03 -3.9206264e-03  2.5058377e-03\n",
            "  3.2007092e-04 -3.0771389e-03  4.5933309e-03  6.5590117e-05\n",
            " -3.8444872e-03 -2.7468286e-03  2.4753455e-03  8.0087915e-04\n",
            " -1.7650701e-03  6.9531845e-04 -2.8044279e-03 -4.5517911e-03\n",
            " -3.5509132e-03  1.0272100e-03 -4.1100867e-03  4.5762500e-03\n",
            " -8.2885835e-04  4.1454746e-03  3.7093516e-03 -2.2001085e-03\n",
            "  2.2379172e-03 -4.1550488e-04 -1.9086006e-03  3.3032780e-03\n",
            " -2.0363398e-03  3.8834640e-03  4.2894976e-03 -2.8005051e-03\n",
            " -1.5993642e-03 -4.5632580e-03 -2.0555488e-03 -2.1188448e-03\n",
            " -4.3643755e-03 -5.6899828e-04 -5.9728301e-04 -3.0644797e-03\n",
            "  2.8740640e-03  3.1189255e-03 -4.3682742e-04 -3.4152967e-04\n",
            " -1.2018207e-03  3.9521768e-03  2.0882029e-03  3.1727848e-03\n",
            "  3.3486432e-03  3.6625087e-03  2.5308051e-03 -4.4959271e-03\n",
            "  4.4934568e-03 -4.1395528e-03 -2.1035236e-03 -2.4946011e-03\n",
            " -3.4592792e-03 -3.8740272e-03 -2.3573569e-03 -3.5984307e-03]\n"
          ]
        }
      ]
    },
    {
      "cell_type": "code",
      "source": [],
      "metadata": {
        "id": "FkQLR0Of-alq"
      },
      "execution_count": null,
      "outputs": []
    }
  ]
}